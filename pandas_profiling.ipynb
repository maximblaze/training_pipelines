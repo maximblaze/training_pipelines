{
  "cells": [
    {
      "cell_type": "markdown",
      "id": "lovely-robin",
      "metadata": {
        "id": "lovely-robin"
      },
      "source": [
        "# Использование модуля Pandas Profiling для профилирования"
      ]
    },
    {
      "cell_type": "markdown",
      "id": "demonstrated-violence",
      "metadata": {
        "id": "demonstrated-violence"
      },
      "source": [
        "<a href=\"https://colab.research.google.com/github/dm-fedorov/pandas_basic/blob/master/быстрое%20введение%20в%20pandas/Использование%20модуля%20Pandas%20Profiling%20для%20профилирования.ipynb\"><img align=\"left\" src=\"https://colab.research.google.com/assets/colab-badge.svg\" alt=\"Open in Colab\" title=\"Open and Execute in Google Colaboratory\" target=\"_blank\"></a>"
      ]
    },
    {
      "cell_type": "markdown",
      "id": "creative-apple",
      "metadata": {
        "id": "creative-apple"
      },
      "source": [
        "<a href=\"https://t.me/init_python\"><img src=\"https://dfedorov.spb.ru/pandas/logo-telegram.png\" width=\"35\" height=\"35\" alt=\"telegram\" align=\"left\"></a>"
      ]
    },
    {
      "cell_type": "markdown",
      "id": "floppy-defensive",
      "metadata": {
        "id": "floppy-defensive"
      },
      "source": [
        "[`Pandas Profiling`](https://pandas-profiling.github.io/pandas-profiling/docs/master/rtd/) - это библиотека для генерации интерактивных отчетов на основе пользовательских данных: можем увидеть распределение данных, типы, возможные проблемы.\n",
        "\n",
        "Библиотека очень проста в использовании: можем создать отчет и отправить его кому угодно!"
      ]
    },
    {
      "cell_type": "code",
      "execution_count": null,
      "id": "painted-english",
      "metadata": {
        "id": "painted-english"
      },
      "outputs": [],
      "source": [
        "# Colab включает старую версию pandas-profiling, поэтому необходимо обновиться:"
      ]
    },
    {
      "cell_type": "code",
      "execution_count": null,
      "id": "following-finance",
      "metadata": {
        "id": "following-finance"
      },
      "outputs": [],
      "source": [
        "#!pip3 install pandas-profiling==2.11"
      ]
    },
    {
      "cell_type": "code",
      "execution_count": null,
      "id": "integral-patch",
      "metadata": {
        "id": "integral-patch"
      },
      "outputs": [],
      "source": [
        "import numpy as np\n",
        "import pandas as pd\n",
        "from pandas_profiling import ProfileReport\n",
        "\n",
        "df = pd.DataFrame(\n",
        "    np.random.rand(100, 5),\n",
        "    columns=['a', 'b', 'c', 'd', 'e']\n",
        ")"
      ]
    },
    {
      "cell_type": "code",
      "execution_count": null,
      "id": "touched-prophet",
      "metadata": {
        "id": "touched-prophet"
      },
      "outputs": [],
      "source": [
        "profile = ProfileReport(df,\n",
        "                        title='Pandas Profiling Report')"
      ]
    },
    {
      "cell_type": "code",
      "execution_count": null,
      "id": "current-printing",
      "metadata": {
        "id": "current-printing",
        "outputId": "8b68daae-5933-4db2-ae80-c28f093181d9",
        "colab": {
          "referenced_widgets": [
            "2def7a787ea1459abb0ac052b32a28be",
            "8134b09704e64f96a0421b2440d7e341",
            "",
            "ef889f537cb547c8a67494c6b11a49ce"
          ]
        }
      },
      "outputs": [
        {
          "data": {
            "application/vnd.jupyter.widget-view+json": {
              "model_id": "2def7a787ea1459abb0ac052b32a28be",
              "version_major": 2,
              "version_minor": 0
            },
            "text/plain": [
              "Summarize dataset:   0%|          | 0/18 [00:00<?, ?it/s]"
            ]
          },
          "metadata": {},
          "output_type": "display_data"
        },
        {
          "data": {
            "application/vnd.jupyter.widget-view+json": {
              "model_id": "8134b09704e64f96a0421b2440d7e341",
              "version_major": 2,
              "version_minor": 0
            },
            "text/plain": [
              "Generate report structure:   0%|          | 0/1 [00:00<?, ?it/s]"
            ]
          },
          "metadata": {},
          "output_type": "display_data"
        },
        {
          "data": {
            "application/vnd.jupyter.widget-view+json": {
              "model_id": "",
              "version_major": 2,
              "version_minor": 0
            },
            "text/plain": [
              "Render widgets:   0%|          | 0/1 [00:00<?, ?it/s]"
            ]
          },
          "metadata": {},
          "output_type": "display_data"
        },
        {
          "data": {
            "application/vnd.jupyter.widget-view+json": {
              "model_id": "ef889f537cb547c8a67494c6b11a49ce",
              "version_major": 2,
              "version_minor": 0
            },
            "text/plain": [
              "VBox(children=(Tab(children=(Tab(children=(GridBox(children=(VBox(children=(GridspecLayout(children=(HTML(valu…"
            ]
          },
          "metadata": {},
          "output_type": "display_data"
        }
      ],
      "source": [
        "profile.to_widgets()"
      ]
    },
    {
      "cell_type": "code",
      "execution_count": null,
      "id": "southeast-fiction",
      "metadata": {
        "id": "southeast-fiction"
      },
      "outputs": [],
      "source": [
        "# или отобразить во фрейме блокнота:\n",
        "#profile.to_notebook_iframe()"
      ]
    },
    {
      "cell_type": "code",
      "execution_count": null,
      "id": "consistent-harrison",
      "metadata": {
        "id": "consistent-harrison",
        "outputId": "a6b91d25-e594-4630-ea2f-6dae1b2b9e25",
        "colab": {
          "referenced_widgets": [
            "8fc4a0a5f2904f3e82c2e43479f5fca7",
            "e0f1653364b245deab99da6166c3c733"
          ]
        }
      },
      "outputs": [
        {
          "data": {
            "application/vnd.jupyter.widget-view+json": {
              "model_id": "8fc4a0a5f2904f3e82c2e43479f5fca7",
              "version_major": 2,
              "version_minor": 0
            },
            "text/plain": [
              "Render HTML:   0%|          | 0/1 [00:00<?, ?it/s]"
            ]
          },
          "metadata": {},
          "output_type": "display_data"
        },
        {
          "data": {
            "application/vnd.jupyter.widget-view+json": {
              "model_id": "e0f1653364b245deab99da6166c3c733",
              "version_major": 2,
              "version_minor": 0
            },
            "text/plain": [
              "Export report to file:   0%|          | 0/1 [00:00<?, ?it/s]"
            ]
          },
          "metadata": {},
          "output_type": "display_data"
        }
      ],
      "source": [
        "profile.to_file(\"report.html\")"
      ]
    },
    {
      "cell_type": "markdown",
      "id": "charged-breath",
      "metadata": {
        "id": "charged-breath"
      },
      "source": [
        "> HTML-версия отчета доступна по [ссылке](https://dfedorov.spb.ru/pandas/reports/report.html)\n",
        "\n",
        "Авторы библиотеки приводят [результаты анализа данных про Титаник](https://pandas-profiling.github.io/pandas-profiling/examples/master/titanic/titanic_report.html).\n",
        "\n",
        "При работе с большими данными [можно включать минимальный режим](https://pandas-profiling.github.io/pandas-profiling/docs/master/rtd/pages/big_data.html) конфигурирования (`minimal=True`).\n",
        "\n",
        "Разобраться во внутренностях можно через [чтение исходных текстов](https://github.com/pandas-profiling/pandas-profiling/blob/develop/src/pandas_profiling/visualisation/plot.py)."
      ]
    },
    {
      "cell_type": "code",
      "execution_count": null,
      "id": "recreational-pipeline",
      "metadata": {
        "id": "recreational-pipeline"
      },
      "outputs": [],
      "source": []
    }
  ],
  "metadata": {
    "kernelspec": {
      "display_name": "Python 3",
      "language": "python",
      "name": "python3"
    },
    "language_info": {
      "codemirror_mode": {
        "name": "ipython",
        "version": 3
      },
      "file_extension": ".py",
      "mimetype": "text/x-python",
      "name": "python",
      "nbconvert_exporter": "python",
      "pygments_lexer": "ipython3",
      "version": "3.8.2"
    },
    "colab": {
      "provenance": []
    }
  },
  "nbformat": 4,
  "nbformat_minor": 5
}