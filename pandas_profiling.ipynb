{
  "cells": [
    {
      "cell_type": "markdown",
      "id": "lovely-robin",
      "metadata": {
        "id": "lovely-robin"
      },
      "source": [
        "# Использование модуля Pandas Profiling для профилирования"
      ]
    },
    {
      "cell_type": "markdown",
      "id": "demonstrated-violence",
      "metadata": {
        "id": "demonstrated-violence"
      },
      "source": [
        "<a href=\"https://colab.research.google.com/github/dm-fedorov/pandas_basic/blob/master/быстрое%20введение%20в%20pandas/Использование%20модуля%20Pandas%20Profiling%20для%20профилирования.ipynb\"><img align=\"left\" src=\"https://colab.research.google.com/assets/colab-badge.svg\" alt=\"Open in Colab\" title=\"Open and Execute in Google Colaboratory\" target=\"_blank\"></a>"
      ]
    },
    {
      "cell_type": "markdown",
      "id": "creative-apple",
      "metadata": {
        "id": "creative-apple"
      },
      "source": [
        "<a href=\"https://t.me/init_python\"><img src=\"https://dfedorov.spb.ru/pandas/logo-telegram.png\" width=\"35\" height=\"35\" alt=\"telegram\" align=\"left\"></a>"
      ]
    },
    {
      "cell_type": "markdown",
      "id": "floppy-defensive",
      "metadata": {
        "id": "floppy-defensive"
      },
      "source": [
        "[`Pandas Profiling`](https://pandas-profiling.github.io/pandas-profiling/docs/master/rtd/) - это библиотека для генерации интерактивных отчетов на основе пользовательских данных: можем увидеть распределение данных, типы, возможные проблемы.\n",
        "\n",
        "Библиотека очень проста в использовании: можем создать отчет и отправить его кому угодно!"
      ]
    },
    {
      "cell_type": "code",
      "execution_count": null,
      "id": "painted-english",
      "metadata": {
        "id": "painted-english"
      },
      "outputs": [],
      "source": [
        "# Colab включает старую версию pandas-profiling, поэтому необходимо обновиться:"
      ]
    },
    {
      "cell_type": "code",
      "execution_count": null,
      "id": "following-finance",
      "metadata": {
        "id": "following-finance"
      },
      "outputs": [],
      "source": [
        "#!pip3 install pandas-profiling==2.11"
      ]
    },
    {
      "cell_type": "code",
      "execution_count": 1,
      "id": "integral-patch",
      "metadata": {
        "id": "integral-patch"
      },
      "outputs": [
        {
          "name": "stderr",
          "output_type": "stream",
          "text": [
            "/Users/maksimdoronkin/training_pipelines/env/lib/python3.9/site-packages/tqdm/auto.py:21: TqdmWarning: IProgress not found. Please update jupyter and ipywidgets. See https://ipywidgets.readthedocs.io/en/stable/user_install.html\n",
            "  from .autonotebook import tqdm as notebook_tqdm\n",
            "/var/folders/w_/dfc280dn4b38tsnmt6px8m1h0000gn/T/ipykernel_2337/3893804982.py:3: DeprecationWarning: `import pandas_profiling` is going to be deprecated by April 1st. Please use `import ydata_profiling` instead.\n",
            "  from pandas_profiling import ProfileReport\n"
          ]
        }
      ],
      "source": [
        "import numpy as np\n",
        "import pandas as pd\n",
        "from pandas_profiling import ProfileReport\n",
        "\n",
        "df = pd.DataFrame(\n",
        "    np.random.rand(100, 5),\n",
        "    columns=['a', 'b', 'c', 'd', 'e']\n",
        ")"
      ]
    },
    {
      "cell_type": "code",
      "execution_count": 2,
      "id": "touched-prophet",
      "metadata": {
        "id": "touched-prophet"
      },
      "outputs": [],
      "source": [
        "profile = ProfileReport(df,\n",
        "                        title='Pandas Profiling Report')"
      ]
    },
    {
      "cell_type": "code",
      "execution_count": 7,
      "id": "053e1281",
      "metadata": {},
      "outputs": [
        {
          "name": "stderr",
          "output_type": "stream",
          "text": [
            "Summarize dataset:  19%|█▉        | 7/37 [00:00<00:00, 77.46it/s, scatter a, a]               \n"
          ]
        },
        {
          "ename": "AttributeError",
          "evalue": "module 'matplotlib.cbook' has no attribute 'mplDeprecation'",
          "output_type": "error",
          "traceback": [
            "\u001b[0;31m---------------------------------------------------------------------------\u001b[0m",
            "\u001b[0;31mAttributeError\u001b[0m                            Traceback (most recent call last)",
            "File \u001b[0;32m~/training_pipelines/env/lib/python3.9/site-packages/IPython/core/formatters.py:344\u001b[0m, in \u001b[0;36mBaseFormatter.__call__\u001b[0;34m(self, obj)\u001b[0m\n\u001b[1;32m    342\u001b[0m     method \u001b[39m=\u001b[39m get_real_method(obj, \u001b[39mself\u001b[39m\u001b[39m.\u001b[39mprint_method)\n\u001b[1;32m    343\u001b[0m     \u001b[39mif\u001b[39;00m method \u001b[39mis\u001b[39;00m \u001b[39mnot\u001b[39;00m \u001b[39mNone\u001b[39;00m:\n\u001b[0;32m--> 344\u001b[0m         \u001b[39mreturn\u001b[39;00m method()\n\u001b[1;32m    345\u001b[0m     \u001b[39mreturn\u001b[39;00m \u001b[39mNone\u001b[39;00m\n\u001b[1;32m    346\u001b[0m \u001b[39melse\u001b[39;00m:\n",
            "File \u001b[0;32m~/training_pipelines/env/lib/python3.9/site-packages/typeguard/__init__.py:1033\u001b[0m, in \u001b[0;36mtypechecked.<locals>.wrapper\u001b[0;34m(*args, **kwargs)\u001b[0m\n\u001b[1;32m   1031\u001b[0m memo \u001b[39m=\u001b[39m _CallMemo(python_func, _localns, args\u001b[39m=\u001b[39margs, kwargs\u001b[39m=\u001b[39mkwargs)\n\u001b[1;32m   1032\u001b[0m check_argument_types(memo)\n\u001b[0;32m-> 1033\u001b[0m retval \u001b[39m=\u001b[39m func(\u001b[39m*\u001b[39;49margs, \u001b[39m*\u001b[39;49m\u001b[39m*\u001b[39;49mkwargs)\n\u001b[1;32m   1034\u001b[0m \u001b[39mtry\u001b[39;00m:\n\u001b[1;32m   1035\u001b[0m     check_return_type(retval, memo)\n",
            "File \u001b[0;32m~/training_pipelines/env/lib/python3.9/site-packages/pandas_profiling/profile_report.py:470\u001b[0m, in \u001b[0;36mProfileReport._repr_html_\u001b[0;34m(self)\u001b[0m\n\u001b[1;32m    468\u001b[0m \u001b[39mdef\u001b[39;00m \u001b[39m_repr_html_\u001b[39m(\u001b[39mself\u001b[39m) \u001b[39m-\u001b[39m\u001b[39m>\u001b[39m \u001b[39mNone\u001b[39;00m:\n\u001b[1;32m    469\u001b[0m \u001b[39m    \u001b[39m\u001b[39m\"\"\"The ipython notebook widgets user interface gets called by the jupyter notebook.\"\"\"\u001b[39;00m\n\u001b[0;32m--> 470\u001b[0m     \u001b[39mself\u001b[39;49m\u001b[39m.\u001b[39;49mto_notebook_iframe()\n",
            "File \u001b[0;32m~/training_pipelines/env/lib/python3.9/site-packages/typeguard/__init__.py:1033\u001b[0m, in \u001b[0;36mtypechecked.<locals>.wrapper\u001b[0;34m(*args, **kwargs)\u001b[0m\n\u001b[1;32m   1031\u001b[0m memo \u001b[39m=\u001b[39m _CallMemo(python_func, _localns, args\u001b[39m=\u001b[39margs, kwargs\u001b[39m=\u001b[39mkwargs)\n\u001b[1;32m   1032\u001b[0m check_argument_types(memo)\n\u001b[0;32m-> 1033\u001b[0m retval \u001b[39m=\u001b[39m func(\u001b[39m*\u001b[39;49margs, \u001b[39m*\u001b[39;49m\u001b[39m*\u001b[39;49mkwargs)\n\u001b[1;32m   1034\u001b[0m \u001b[39mtry\u001b[39;00m:\n\u001b[1;32m   1035\u001b[0m     check_return_type(retval, memo)\n",
            "File \u001b[0;32m~/training_pipelines/env/lib/python3.9/site-packages/pandas_profiling/profile_report.py:450\u001b[0m, in \u001b[0;36mProfileReport.to_notebook_iframe\u001b[0;34m(self)\u001b[0m\n\u001b[1;32m    448\u001b[0m \u001b[39mwith\u001b[39;00m warnings\u001b[39m.\u001b[39mcatch_warnings():\n\u001b[1;32m    449\u001b[0m     warnings\u001b[39m.\u001b[39msimplefilter(\u001b[39m\"\u001b[39m\u001b[39mignore\u001b[39m\u001b[39m\"\u001b[39m)\n\u001b[0;32m--> 450\u001b[0m     display(get_notebook_iframe(\u001b[39mself\u001b[39;49m\u001b[39m.\u001b[39;49mconfig, \u001b[39mself\u001b[39;49m))\n",
            "File \u001b[0;32m~/training_pipelines/env/lib/python3.9/site-packages/pandas_profiling/report/presentation/flavours/widget/notebook.py:75\u001b[0m, in \u001b[0;36mget_notebook_iframe\u001b[0;34m(config, profile)\u001b[0m\n\u001b[1;32m     73\u001b[0m     output \u001b[39m=\u001b[39m get_notebook_iframe_src(config, profile)\n\u001b[1;32m     74\u001b[0m \u001b[39melif\u001b[39;00m attribute \u001b[39m==\u001b[39m IframeAttribute\u001b[39m.\u001b[39msrcdoc:\n\u001b[0;32m---> 75\u001b[0m     output \u001b[39m=\u001b[39m get_notebook_iframe_srcdoc(config, profile)\n\u001b[1;32m     76\u001b[0m \u001b[39melse\u001b[39;00m:\n\u001b[1;32m     77\u001b[0m     \u001b[39mraise\u001b[39;00m \u001b[39mValueError\u001b[39;00m(\n\u001b[1;32m     78\u001b[0m         \u001b[39mf\u001b[39m\u001b[39m'\u001b[39m\u001b[39mIframe Attribute can be \u001b[39m\u001b[39m\"\u001b[39m\u001b[39msrc\u001b[39m\u001b[39m\"\u001b[39m\u001b[39m or \u001b[39m\u001b[39m\"\u001b[39m\u001b[39msrcdoc\u001b[39m\u001b[39m\"\u001b[39m\u001b[39m (current: \u001b[39m\u001b[39m{\u001b[39;00mattribute\u001b[39m}\u001b[39;00m\u001b[39m).\u001b[39m\u001b[39m'\u001b[39m\n\u001b[1;32m     79\u001b[0m     )\n",
            "File \u001b[0;32m~/training_pipelines/env/lib/python3.9/site-packages/pandas_profiling/report/presentation/flavours/widget/notebook.py:29\u001b[0m, in \u001b[0;36mget_notebook_iframe_srcdoc\u001b[0;34m(config, profile)\u001b[0m\n\u001b[1;32m     27\u001b[0m width \u001b[39m=\u001b[39m config\u001b[39m.\u001b[39mnotebook\u001b[39m.\u001b[39miframe\u001b[39m.\u001b[39mwidth\n\u001b[1;32m     28\u001b[0m height \u001b[39m=\u001b[39m config\u001b[39m.\u001b[39mnotebook\u001b[39m.\u001b[39miframe\u001b[39m.\u001b[39mheight\n\u001b[0;32m---> 29\u001b[0m src \u001b[39m=\u001b[39m html\u001b[39m.\u001b[39mescape(profile\u001b[39m.\u001b[39;49mto_html())\n\u001b[1;32m     31\u001b[0m iframe \u001b[39m=\u001b[39m \u001b[39mf\u001b[39m\u001b[39m'\u001b[39m\u001b[39m<iframe width=\u001b[39m\u001b[39m\"\u001b[39m\u001b[39m{\u001b[39;00mwidth\u001b[39m}\u001b[39;00m\u001b[39m\"\u001b[39m\u001b[39m height=\u001b[39m\u001b[39m\"\u001b[39m\u001b[39m{\u001b[39;00mheight\u001b[39m}\u001b[39;00m\u001b[39m\"\u001b[39m\u001b[39m srcdoc=\u001b[39m\u001b[39m\"\u001b[39m\u001b[39m{\u001b[39;00msrc\u001b[39m}\u001b[39;00m\u001b[39m\"\u001b[39m\u001b[39m frameborder=\u001b[39m\u001b[39m\"\u001b[39m\u001b[39m0\u001b[39m\u001b[39m\"\u001b[39m\u001b[39m allowfullscreen></iframe>\u001b[39m\u001b[39m'\u001b[39m\n\u001b[1;32m     33\u001b[0m \u001b[39mreturn\u001b[39;00m HTML(iframe)\n",
            "File \u001b[0;32m~/training_pipelines/env/lib/python3.9/site-packages/typeguard/__init__.py:1033\u001b[0m, in \u001b[0;36mtypechecked.<locals>.wrapper\u001b[0;34m(*args, **kwargs)\u001b[0m\n\u001b[1;32m   1031\u001b[0m memo \u001b[39m=\u001b[39m _CallMemo(python_func, _localns, args\u001b[39m=\u001b[39margs, kwargs\u001b[39m=\u001b[39mkwargs)\n\u001b[1;32m   1032\u001b[0m check_argument_types(memo)\n\u001b[0;32m-> 1033\u001b[0m retval \u001b[39m=\u001b[39m func(\u001b[39m*\u001b[39;49margs, \u001b[39m*\u001b[39;49m\u001b[39m*\u001b[39;49mkwargs)\n\u001b[1;32m   1034\u001b[0m \u001b[39mtry\u001b[39;00m:\n\u001b[1;32m   1035\u001b[0m     check_return_type(retval, memo)\n",
            "File \u001b[0;32m~/training_pipelines/env/lib/python3.9/site-packages/pandas_profiling/profile_report.py:420\u001b[0m, in \u001b[0;36mProfileReport.to_html\u001b[0;34m(self)\u001b[0m\n\u001b[1;32m    412\u001b[0m \u001b[39mdef\u001b[39;00m \u001b[39mto_html\u001b[39m(\u001b[39mself\u001b[39m) \u001b[39m-\u001b[39m\u001b[39m>\u001b[39m \u001b[39mstr\u001b[39m:\n\u001b[1;32m    413\u001b[0m \u001b[39m    \u001b[39m\u001b[39m\"\"\"Generate and return complete template as lengthy string\u001b[39;00m\n\u001b[1;32m    414\u001b[0m \u001b[39m        for using with frameworks.\u001b[39;00m\n\u001b[1;32m    415\u001b[0m \n\u001b[0;32m   (...)\u001b[0m\n\u001b[1;32m    418\u001b[0m \n\u001b[1;32m    419\u001b[0m \u001b[39m    \"\"\"\u001b[39;00m\n\u001b[0;32m--> 420\u001b[0m     \u001b[39mreturn\u001b[39;00m \u001b[39mself\u001b[39;49m\u001b[39m.\u001b[39;49mhtml\n",
            "File \u001b[0;32m~/training_pipelines/env/lib/python3.9/site-packages/typeguard/__init__.py:1033\u001b[0m, in \u001b[0;36mtypechecked.<locals>.wrapper\u001b[0;34m(*args, **kwargs)\u001b[0m\n\u001b[1;32m   1031\u001b[0m memo \u001b[39m=\u001b[39m _CallMemo(python_func, _localns, args\u001b[39m=\u001b[39margs, kwargs\u001b[39m=\u001b[39mkwargs)\n\u001b[1;32m   1032\u001b[0m check_argument_types(memo)\n\u001b[0;32m-> 1033\u001b[0m retval \u001b[39m=\u001b[39m func(\u001b[39m*\u001b[39;49margs, \u001b[39m*\u001b[39;49m\u001b[39m*\u001b[39;49mkwargs)\n\u001b[1;32m   1034\u001b[0m \u001b[39mtry\u001b[39;00m:\n\u001b[1;32m   1035\u001b[0m     check_return_type(retval, memo)\n",
            "File \u001b[0;32m~/training_pipelines/env/lib/python3.9/site-packages/pandas_profiling/profile_report.py:231\u001b[0m, in \u001b[0;36mProfileReport.html\u001b[0;34m(self)\u001b[0m\n\u001b[1;32m    228\u001b[0m \u001b[39m@property\u001b[39m\n\u001b[1;32m    229\u001b[0m \u001b[39mdef\u001b[39;00m \u001b[39mhtml\u001b[39m(\u001b[39mself\u001b[39m) \u001b[39m-\u001b[39m\u001b[39m>\u001b[39m \u001b[39mstr\u001b[39m:\n\u001b[1;32m    230\u001b[0m     \u001b[39mif\u001b[39;00m \u001b[39mself\u001b[39m\u001b[39m.\u001b[39m_html \u001b[39mis\u001b[39;00m \u001b[39mNone\u001b[39;00m:\n\u001b[0;32m--> 231\u001b[0m         \u001b[39mself\u001b[39m\u001b[39m.\u001b[39m_html \u001b[39m=\u001b[39m \u001b[39mself\u001b[39;49m\u001b[39m.\u001b[39;49m_render_html()\n\u001b[1;32m    232\u001b[0m     \u001b[39mreturn\u001b[39;00m \u001b[39mself\u001b[39m\u001b[39m.\u001b[39m_html\n",
            "File \u001b[0;32m~/training_pipelines/env/lib/python3.9/site-packages/typeguard/__init__.py:1033\u001b[0m, in \u001b[0;36mtypechecked.<locals>.wrapper\u001b[0;34m(*args, **kwargs)\u001b[0m\n\u001b[1;32m   1031\u001b[0m memo \u001b[39m=\u001b[39m _CallMemo(python_func, _localns, args\u001b[39m=\u001b[39margs, kwargs\u001b[39m=\u001b[39mkwargs)\n\u001b[1;32m   1032\u001b[0m check_argument_types(memo)\n\u001b[0;32m-> 1033\u001b[0m retval \u001b[39m=\u001b[39m func(\u001b[39m*\u001b[39;49margs, \u001b[39m*\u001b[39;49m\u001b[39m*\u001b[39;49mkwargs)\n\u001b[1;32m   1034\u001b[0m \u001b[39mtry\u001b[39;00m:\n\u001b[1;32m   1035\u001b[0m     check_return_type(retval, memo)\n",
            "File \u001b[0;32m~/training_pipelines/env/lib/python3.9/site-packages/pandas_profiling/profile_report.py:339\u001b[0m, in \u001b[0;36mProfileReport._render_html\u001b[0;34m(self)\u001b[0m\n\u001b[1;32m    336\u001b[0m \u001b[39mdef\u001b[39;00m \u001b[39m_render_html\u001b[39m(\u001b[39mself\u001b[39m) \u001b[39m-\u001b[39m\u001b[39m>\u001b[39m \u001b[39mstr\u001b[39m:\n\u001b[1;32m    337\u001b[0m     \u001b[39mfrom\u001b[39;00m \u001b[39mpandas_profiling\u001b[39;00m\u001b[39m.\u001b[39;00m\u001b[39mreport\u001b[39;00m\u001b[39m.\u001b[39;00m\u001b[39mpresentation\u001b[39;00m\u001b[39m.\u001b[39;00m\u001b[39mflavours\u001b[39;00m \u001b[39mimport\u001b[39;00m HTMLReport\n\u001b[0;32m--> 339\u001b[0m     report \u001b[39m=\u001b[39m \u001b[39mself\u001b[39;49m\u001b[39m.\u001b[39;49mreport\n\u001b[1;32m    341\u001b[0m     \u001b[39mwith\u001b[39;00m tqdm(\n\u001b[1;32m    342\u001b[0m         total\u001b[39m=\u001b[39m\u001b[39m1\u001b[39m, desc\u001b[39m=\u001b[39m\u001b[39m\"\u001b[39m\u001b[39mRender HTML\u001b[39m\u001b[39m\"\u001b[39m, disable\u001b[39m=\u001b[39m\u001b[39mnot\u001b[39;00m \u001b[39mself\u001b[39m\u001b[39m.\u001b[39mconfig\u001b[39m.\u001b[39mprogress_bar\n\u001b[1;32m    343\u001b[0m     ) \u001b[39mas\u001b[39;00m pbar:\n\u001b[1;32m    344\u001b[0m         html \u001b[39m=\u001b[39m HTMLReport(copy\u001b[39m.\u001b[39mdeepcopy(report))\u001b[39m.\u001b[39mrender(\n\u001b[1;32m    345\u001b[0m             nav\u001b[39m=\u001b[39m\u001b[39mself\u001b[39m\u001b[39m.\u001b[39mconfig\u001b[39m.\u001b[39mhtml\u001b[39m.\u001b[39mnavbar_show,\n\u001b[1;32m    346\u001b[0m             offline\u001b[39m=\u001b[39m\u001b[39mself\u001b[39m\u001b[39m.\u001b[39mconfig\u001b[39m.\u001b[39mhtml\u001b[39m.\u001b[39muse_local_assets,\n\u001b[0;32m   (...)\u001b[0m\n\u001b[1;32m    354\u001b[0m             version\u001b[39m=\u001b[39m\u001b[39mself\u001b[39m\u001b[39m.\u001b[39mdescription_set[\u001b[39m\"\u001b[39m\u001b[39mpackage\u001b[39m\u001b[39m\"\u001b[39m][\u001b[39m\"\u001b[39m\u001b[39mpandas_profiling_version\u001b[39m\u001b[39m\"\u001b[39m],\n\u001b[1;32m    355\u001b[0m         )\n",
            "File \u001b[0;32m~/training_pipelines/env/lib/python3.9/site-packages/typeguard/__init__.py:1033\u001b[0m, in \u001b[0;36mtypechecked.<locals>.wrapper\u001b[0;34m(*args, **kwargs)\u001b[0m\n\u001b[1;32m   1031\u001b[0m memo \u001b[39m=\u001b[39m _CallMemo(python_func, _localns, args\u001b[39m=\u001b[39margs, kwargs\u001b[39m=\u001b[39mkwargs)\n\u001b[1;32m   1032\u001b[0m check_argument_types(memo)\n\u001b[0;32m-> 1033\u001b[0m retval \u001b[39m=\u001b[39m func(\u001b[39m*\u001b[39;49margs, \u001b[39m*\u001b[39;49m\u001b[39m*\u001b[39;49mkwargs)\n\u001b[1;32m   1034\u001b[0m \u001b[39mtry\u001b[39;00m:\n\u001b[1;32m   1035\u001b[0m     check_return_type(retval, memo)\n",
            "File \u001b[0;32m~/training_pipelines/env/lib/python3.9/site-packages/pandas_profiling/profile_report.py:225\u001b[0m, in \u001b[0;36mProfileReport.report\u001b[0;34m(self)\u001b[0m\n\u001b[1;32m    222\u001b[0m \u001b[39m@property\u001b[39m\n\u001b[1;32m    223\u001b[0m \u001b[39mdef\u001b[39;00m \u001b[39mreport\u001b[39m(\u001b[39mself\u001b[39m) \u001b[39m-\u001b[39m\u001b[39m>\u001b[39m Root:\n\u001b[1;32m    224\u001b[0m     \u001b[39mif\u001b[39;00m \u001b[39mself\u001b[39m\u001b[39m.\u001b[39m_report \u001b[39mis\u001b[39;00m \u001b[39mNone\u001b[39;00m:\n\u001b[0;32m--> 225\u001b[0m         \u001b[39mself\u001b[39m\u001b[39m.\u001b[39m_report \u001b[39m=\u001b[39m get_report_structure(\u001b[39mself\u001b[39m\u001b[39m.\u001b[39mconfig, \u001b[39mself\u001b[39;49m\u001b[39m.\u001b[39;49mdescription_set)\n\u001b[1;32m    226\u001b[0m     \u001b[39mreturn\u001b[39;00m \u001b[39mself\u001b[39m\u001b[39m.\u001b[39m_report\n",
            "File \u001b[0;32m~/training_pipelines/env/lib/python3.9/site-packages/typeguard/__init__.py:1033\u001b[0m, in \u001b[0;36mtypechecked.<locals>.wrapper\u001b[0;34m(*args, **kwargs)\u001b[0m\n\u001b[1;32m   1031\u001b[0m memo \u001b[39m=\u001b[39m _CallMemo(python_func, _localns, args\u001b[39m=\u001b[39margs, kwargs\u001b[39m=\u001b[39mkwargs)\n\u001b[1;32m   1032\u001b[0m check_argument_types(memo)\n\u001b[0;32m-> 1033\u001b[0m retval \u001b[39m=\u001b[39m func(\u001b[39m*\u001b[39;49margs, \u001b[39m*\u001b[39;49m\u001b[39m*\u001b[39;49mkwargs)\n\u001b[1;32m   1034\u001b[0m \u001b[39mtry\u001b[39;00m:\n\u001b[1;32m   1035\u001b[0m     check_return_type(retval, memo)\n",
            "File \u001b[0;32m~/training_pipelines/env/lib/python3.9/site-packages/pandas_profiling/profile_report.py:207\u001b[0m, in \u001b[0;36mProfileReport.description_set\u001b[0;34m(self)\u001b[0m\n\u001b[1;32m    204\u001b[0m \u001b[39m@property\u001b[39m\n\u001b[1;32m    205\u001b[0m \u001b[39mdef\u001b[39;00m \u001b[39mdescription_set\u001b[39m(\u001b[39mself\u001b[39m) \u001b[39m-\u001b[39m\u001b[39m>\u001b[39m Dict[\u001b[39mstr\u001b[39m, Any]:\n\u001b[1;32m    206\u001b[0m     \u001b[39mif\u001b[39;00m \u001b[39mself\u001b[39m\u001b[39m.\u001b[39m_description_set \u001b[39mis\u001b[39;00m \u001b[39mNone\u001b[39;00m:\n\u001b[0;32m--> 207\u001b[0m         \u001b[39mself\u001b[39m\u001b[39m.\u001b[39m_description_set \u001b[39m=\u001b[39m describe_df(\n\u001b[1;32m    208\u001b[0m             \u001b[39mself\u001b[39;49m\u001b[39m.\u001b[39;49mconfig,\n\u001b[1;32m    209\u001b[0m             \u001b[39mself\u001b[39;49m\u001b[39m.\u001b[39;49mdf,\n\u001b[1;32m    210\u001b[0m             \u001b[39mself\u001b[39;49m\u001b[39m.\u001b[39;49msummarizer,\n\u001b[1;32m    211\u001b[0m             \u001b[39mself\u001b[39;49m\u001b[39m.\u001b[39;49mtypeset,\n\u001b[1;32m    212\u001b[0m             \u001b[39mself\u001b[39;49m\u001b[39m.\u001b[39;49m_sample,\n\u001b[1;32m    213\u001b[0m         )\n\u001b[1;32m    214\u001b[0m     \u001b[39mreturn\u001b[39;00m \u001b[39mself\u001b[39m\u001b[39m.\u001b[39m_description_set\n",
            "File \u001b[0;32m~/training_pipelines/env/lib/python3.9/site-packages/pandas_profiling/model/describe.py:117\u001b[0m, in \u001b[0;36mdescribe\u001b[0;34m(config, df, summarizer, typeset, sample)\u001b[0m\n\u001b[1;32m    113\u001b[0m scatter_matrix: Dict[Any, Dict[Any, Any]] \u001b[39m=\u001b[39m {\n\u001b[1;32m    114\u001b[0m     x: {y: \u001b[39mNone\u001b[39;00m} \u001b[39mfor\u001b[39;00m x, y \u001b[39min\u001b[39;00m scatter_tasks\n\u001b[1;32m    115\u001b[0m }\n\u001b[1;32m    116\u001b[0m \u001b[39mfor\u001b[39;00m x, y \u001b[39min\u001b[39;00m scatter_tasks:\n\u001b[0;32m--> 117\u001b[0m     scatter_matrix[x][y] \u001b[39m=\u001b[39m progress(\n\u001b[1;32m    118\u001b[0m         get_scatter_plot, pbar, \u001b[39mf\u001b[39;49m\u001b[39m\"\u001b[39;49m\u001b[39mscatter \u001b[39;49m\u001b[39m{\u001b[39;49;00mx\u001b[39m}\u001b[39;49;00m\u001b[39m, \u001b[39;49m\u001b[39m{\u001b[39;49;00my\u001b[39m}\u001b[39;49;00m\u001b[39m\"\u001b[39;49m\n\u001b[1;32m    119\u001b[0m     )(config, df, x, y, interval_columns)\n\u001b[1;32m    121\u001b[0m \u001b[39m# Table statistics\u001b[39;00m\n\u001b[1;32m    122\u001b[0m table_stats \u001b[39m=\u001b[39m progress(get_table_stats, pbar, \u001b[39m\"\u001b[39m\u001b[39mGet dataframe statistics\u001b[39m\u001b[39m\"\u001b[39m)(\n\u001b[1;32m    123\u001b[0m     config, df, series_description\n\u001b[1;32m    124\u001b[0m )\n",
            "File \u001b[0;32m~/training_pipelines/env/lib/python3.9/site-packages/pandas_profiling/utils/progress_bar.py:11\u001b[0m, in \u001b[0;36mprogress.<locals>.inner\u001b[0;34m(*args, **kwargs)\u001b[0m\n\u001b[1;32m      8\u001b[0m \u001b[39m@wraps\u001b[39m(fn)\n\u001b[1;32m      9\u001b[0m \u001b[39mdef\u001b[39;00m \u001b[39minner\u001b[39m(\u001b[39m*\u001b[39margs, \u001b[39m*\u001b[39m\u001b[39m*\u001b[39mkwargs) \u001b[39m-\u001b[39m\u001b[39m>\u001b[39m Any:\n\u001b[1;32m     10\u001b[0m     bar\u001b[39m.\u001b[39mset_postfix_str(message)\n\u001b[0;32m---> 11\u001b[0m     ret \u001b[39m=\u001b[39m fn(\u001b[39m*\u001b[39;49margs, \u001b[39m*\u001b[39;49m\u001b[39m*\u001b[39;49mkwargs)\n\u001b[1;32m     12\u001b[0m     bar\u001b[39m.\u001b[39mupdate()\n\u001b[1;32m     13\u001b[0m     \u001b[39mreturn\u001b[39;00m ret\n",
            "File \u001b[0;32m~/training_pipelines/env/lib/python3.9/site-packages/pandas_profiling/model/pairwise.py:31\u001b[0m, in \u001b[0;36mget_scatter_plot\u001b[0;34m(config, df, x, y, continuous_variables)\u001b[0m\n\u001b[1;32m     29\u001b[0m     \u001b[39melse\u001b[39;00m:\n\u001b[1;32m     30\u001b[0m         df_temp \u001b[39m=\u001b[39m df[[x, y]]\u001b[39m.\u001b[39mdropna()\n\u001b[0;32m---> 31\u001b[0m     \u001b[39mreturn\u001b[39;00m scatter_pairwise(config, df_temp[x], df_temp[y], x, y)\n\u001b[1;32m     32\u001b[0m \u001b[39melse\u001b[39;00m:\n\u001b[1;32m     33\u001b[0m     \u001b[39mreturn\u001b[39;00m \u001b[39m\"\u001b[39m\u001b[39m\"\u001b[39m\n",
            "File \u001b[0;32m~/anaconda3/lib/python3.9/contextlib.py:79\u001b[0m, in \u001b[0;36mContextDecorator.__call__.<locals>.inner\u001b[0;34m(*args, **kwds)\u001b[0m\n\u001b[1;32m     76\u001b[0m \u001b[39m@wraps\u001b[39m(func)\n\u001b[1;32m     77\u001b[0m \u001b[39mdef\u001b[39;00m \u001b[39minner\u001b[39m(\u001b[39m*\u001b[39margs, \u001b[39m*\u001b[39m\u001b[39m*\u001b[39mkwds):\n\u001b[1;32m     78\u001b[0m     \u001b[39mwith\u001b[39;00m \u001b[39mself\u001b[39m\u001b[39m.\u001b[39m_recreate_cm():\n\u001b[0;32m---> 79\u001b[0m         \u001b[39mreturn\u001b[39;00m func(\u001b[39m*\u001b[39margs, \u001b[39m*\u001b[39m\u001b[39m*\u001b[39mkwds)\n",
            "File \u001b[0;32m~/anaconda3/lib/python3.9/contextlib.py:126\u001b[0m, in \u001b[0;36m_GeneratorContextManager.__exit__\u001b[0;34m(self, typ, value, traceback)\u001b[0m\n\u001b[1;32m    124\u001b[0m \u001b[39mif\u001b[39;00m typ \u001b[39mis\u001b[39;00m \u001b[39mNone\u001b[39;00m:\n\u001b[1;32m    125\u001b[0m     \u001b[39mtry\u001b[39;00m:\n\u001b[0;32m--> 126\u001b[0m         \u001b[39mnext\u001b[39;49m(\u001b[39mself\u001b[39;49m\u001b[39m.\u001b[39;49mgen)\n\u001b[1;32m    127\u001b[0m     \u001b[39mexcept\u001b[39;00m \u001b[39mStopIteration\u001b[39;00m:\n\u001b[1;32m    128\u001b[0m         \u001b[39mreturn\u001b[39;00m \u001b[39mFalse\u001b[39;00m\n",
            "File \u001b[0;32m~/training_pipelines/env/lib/python3.9/site-packages/pandas_profiling/visualisation/context.py:85\u001b[0m, in \u001b[0;36mmanage_matplotlib_context\u001b[0;34m()\u001b[0m\n\u001b[1;32m     83\u001b[0m deregister_matplotlib_converters()  \u001b[39m# revert to original unit registries\u001b[39;00m\n\u001b[1;32m     84\u001b[0m \u001b[39mwith\u001b[39;00m warnings\u001b[39m.\u001b[39mcatch_warnings():\n\u001b[0;32m---> 85\u001b[0m     warnings\u001b[39m.\u001b[39mfilterwarnings(\u001b[39m\"\u001b[39m\u001b[39mignore\u001b[39m\u001b[39m\"\u001b[39m, category\u001b[39m=\u001b[39mmatplotlib\u001b[39m.\u001b[39;49mcbook\u001b[39m.\u001b[39;49mmplDeprecation)\n\u001b[1;32m     86\u001b[0m     matplotlib\u001b[39m.\u001b[39mrcParams\u001b[39m.\u001b[39mupdate(originalRcParams)\n",
            "\u001b[0;31mAttributeError\u001b[0m: module 'matplotlib.cbook' has no attribute 'mplDeprecation'"
          ]
        },
        {
          "data": {
            "text/plain": []
          },
          "execution_count": 7,
          "metadata": {},
          "output_type": "execute_result"
        }
      ],
      "source": [
        "profile"
      ]
    },
    {
      "cell_type": "code",
      "execution_count": 5,
      "id": "current-printing",
      "metadata": {
        "colab": {
          "referenced_widgets": [
            "2def7a787ea1459abb0ac052b32a28be",
            "8134b09704e64f96a0421b2440d7e341",
            "",
            "ef889f537cb547c8a67494c6b11a49ce"
          ]
        },
        "id": "current-printing",
        "outputId": "8b68daae-5933-4db2-ae80-c28f093181d9"
      },
      "outputs": [
        {
          "name": "stderr",
          "output_type": "stream",
          "text": [
            "Summarize dataset:  19%|█▉        | 7/37 [00:00<00:00, 106.47it/s, scatter a, a]              \n"
          ]
        },
        {
          "ename": "AttributeError",
          "evalue": "module 'matplotlib.cbook' has no attribute 'mplDeprecation'",
          "output_type": "error",
          "traceback": [
            "\u001b[0;31m---------------------------------------------------------------------------\u001b[0m",
            "\u001b[0;31mAttributeError\u001b[0m                            Traceback (most recent call last)",
            "Cell \u001b[0;32mIn[5], line 1\u001b[0m\n\u001b[0;32m----> 1\u001b[0m profile\u001b[39m.\u001b[39;49mto_widgets()\n",
            "File \u001b[0;32m~/training_pipelines/env/lib/python3.9/site-packages/typeguard/__init__.py:1033\u001b[0m, in \u001b[0;36mtypechecked.<locals>.wrapper\u001b[0;34m(*args, **kwargs)\u001b[0m\n\u001b[1;32m   1031\u001b[0m memo \u001b[39m=\u001b[39m _CallMemo(python_func, _localns, args\u001b[39m=\u001b[39margs, kwargs\u001b[39m=\u001b[39mkwargs)\n\u001b[1;32m   1032\u001b[0m check_argument_types(memo)\n\u001b[0;32m-> 1033\u001b[0m retval \u001b[39m=\u001b[39m func(\u001b[39m*\u001b[39;49margs, \u001b[39m*\u001b[39;49m\u001b[39m*\u001b[39;49mkwargs)\n\u001b[1;32m   1034\u001b[0m \u001b[39mtry\u001b[39;00m:\n\u001b[1;32m   1035\u001b[0m     check_return_type(retval, memo)\n",
            "File \u001b[0;32m~/training_pipelines/env/lib/python3.9/site-packages/pandas_profiling/profile_report.py:466\u001b[0m, in \u001b[0;36mProfileReport.to_widgets\u001b[0;34m(self)\u001b[0m\n\u001b[1;32m    462\u001b[0m     \u001b[39mpass\u001b[39;00m\n\u001b[1;32m    464\u001b[0m \u001b[39mfrom\u001b[39;00m \u001b[39mIPython\u001b[39;00m\u001b[39m.\u001b[39;00m\u001b[39mcore\u001b[39;00m\u001b[39m.\u001b[39;00m\u001b[39mdisplay\u001b[39;00m \u001b[39mimport\u001b[39;00m display\n\u001b[0;32m--> 466\u001b[0m display(\u001b[39mself\u001b[39;49m\u001b[39m.\u001b[39;49mwidgets)\n",
            "File \u001b[0;32m~/training_pipelines/env/lib/python3.9/site-packages/typeguard/__init__.py:1033\u001b[0m, in \u001b[0;36mtypechecked.<locals>.wrapper\u001b[0;34m(*args, **kwargs)\u001b[0m\n\u001b[1;32m   1031\u001b[0m memo \u001b[39m=\u001b[39m _CallMemo(python_func, _localns, args\u001b[39m=\u001b[39margs, kwargs\u001b[39m=\u001b[39mkwargs)\n\u001b[1;32m   1032\u001b[0m check_argument_types(memo)\n\u001b[0;32m-> 1033\u001b[0m retval \u001b[39m=\u001b[39m func(\u001b[39m*\u001b[39;49margs, \u001b[39m*\u001b[39;49m\u001b[39m*\u001b[39;49mkwargs)\n\u001b[1;32m   1034\u001b[0m \u001b[39mtry\u001b[39;00m:\n\u001b[1;32m   1035\u001b[0m     check_return_type(retval, memo)\n",
            "File \u001b[0;32m~/training_pipelines/env/lib/python3.9/site-packages/pandas_profiling/profile_report.py:243\u001b[0m, in \u001b[0;36mProfileReport.widgets\u001b[0;34m(self)\u001b[0m\n\u001b[1;32m    240\u001b[0m \u001b[39m@property\u001b[39m\n\u001b[1;32m    241\u001b[0m \u001b[39mdef\u001b[39;00m \u001b[39mwidgets\u001b[39m(\u001b[39mself\u001b[39m) \u001b[39m-\u001b[39m\u001b[39m>\u001b[39m Any:\n\u001b[1;32m    242\u001b[0m     \u001b[39mif\u001b[39;00m (\n\u001b[0;32m--> 243\u001b[0m         \u001b[39misinstance\u001b[39m(\u001b[39mself\u001b[39;49m\u001b[39m.\u001b[39;49mdescription_set[\u001b[39m\"\u001b[39m\u001b[39mtable\u001b[39m\u001b[39m\"\u001b[39m][\u001b[39m\"\u001b[39m\u001b[39mn\u001b[39m\u001b[39m\"\u001b[39m], \u001b[39mlist\u001b[39m)\n\u001b[1;32m    244\u001b[0m         \u001b[39mand\u001b[39;00m \u001b[39mlen\u001b[39m(\u001b[39mself\u001b[39m\u001b[39m.\u001b[39mdescription_set[\u001b[39m\"\u001b[39m\u001b[39mtable\u001b[39m\u001b[39m\"\u001b[39m][\u001b[39m\"\u001b[39m\u001b[39mn\u001b[39m\u001b[39m\"\u001b[39m]) \u001b[39m>\u001b[39m \u001b[39m1\u001b[39m\n\u001b[1;32m    245\u001b[0m     ):\n\u001b[1;32m    246\u001b[0m         \u001b[39mraise\u001b[39;00m \u001b[39mRuntimeError\u001b[39;00m(\n\u001b[1;32m    247\u001b[0m             \u001b[39m\"\u001b[39m\u001b[39mWidgets interface not (yet) supported for comparing reports, please use the HTML rendering.\u001b[39m\u001b[39m\"\u001b[39m\n\u001b[1;32m    248\u001b[0m         )\n\u001b[1;32m    250\u001b[0m     \u001b[39mif\u001b[39;00m \u001b[39mself\u001b[39m\u001b[39m.\u001b[39m_widgets \u001b[39mis\u001b[39;00m \u001b[39mNone\u001b[39;00m:\n",
            "File \u001b[0;32m~/training_pipelines/env/lib/python3.9/site-packages/typeguard/__init__.py:1033\u001b[0m, in \u001b[0;36mtypechecked.<locals>.wrapper\u001b[0;34m(*args, **kwargs)\u001b[0m\n\u001b[1;32m   1031\u001b[0m memo \u001b[39m=\u001b[39m _CallMemo(python_func, _localns, args\u001b[39m=\u001b[39margs, kwargs\u001b[39m=\u001b[39mkwargs)\n\u001b[1;32m   1032\u001b[0m check_argument_types(memo)\n\u001b[0;32m-> 1033\u001b[0m retval \u001b[39m=\u001b[39m func(\u001b[39m*\u001b[39;49margs, \u001b[39m*\u001b[39;49m\u001b[39m*\u001b[39;49mkwargs)\n\u001b[1;32m   1034\u001b[0m \u001b[39mtry\u001b[39;00m:\n\u001b[1;32m   1035\u001b[0m     check_return_type(retval, memo)\n",
            "File \u001b[0;32m~/training_pipelines/env/lib/python3.9/site-packages/pandas_profiling/profile_report.py:207\u001b[0m, in \u001b[0;36mProfileReport.description_set\u001b[0;34m(self)\u001b[0m\n\u001b[1;32m    204\u001b[0m \u001b[39m@property\u001b[39m\n\u001b[1;32m    205\u001b[0m \u001b[39mdef\u001b[39;00m \u001b[39mdescription_set\u001b[39m(\u001b[39mself\u001b[39m) \u001b[39m-\u001b[39m\u001b[39m>\u001b[39m Dict[\u001b[39mstr\u001b[39m, Any]:\n\u001b[1;32m    206\u001b[0m     \u001b[39mif\u001b[39;00m \u001b[39mself\u001b[39m\u001b[39m.\u001b[39m_description_set \u001b[39mis\u001b[39;00m \u001b[39mNone\u001b[39;00m:\n\u001b[0;32m--> 207\u001b[0m         \u001b[39mself\u001b[39m\u001b[39m.\u001b[39m_description_set \u001b[39m=\u001b[39m describe_df(\n\u001b[1;32m    208\u001b[0m             \u001b[39mself\u001b[39;49m\u001b[39m.\u001b[39;49mconfig,\n\u001b[1;32m    209\u001b[0m             \u001b[39mself\u001b[39;49m\u001b[39m.\u001b[39;49mdf,\n\u001b[1;32m    210\u001b[0m             \u001b[39mself\u001b[39;49m\u001b[39m.\u001b[39;49msummarizer,\n\u001b[1;32m    211\u001b[0m             \u001b[39mself\u001b[39;49m\u001b[39m.\u001b[39;49mtypeset,\n\u001b[1;32m    212\u001b[0m             \u001b[39mself\u001b[39;49m\u001b[39m.\u001b[39;49m_sample,\n\u001b[1;32m    213\u001b[0m         )\n\u001b[1;32m    214\u001b[0m     \u001b[39mreturn\u001b[39;00m \u001b[39mself\u001b[39m\u001b[39m.\u001b[39m_description_set\n",
            "File \u001b[0;32m~/training_pipelines/env/lib/python3.9/site-packages/pandas_profiling/model/describe.py:117\u001b[0m, in \u001b[0;36mdescribe\u001b[0;34m(config, df, summarizer, typeset, sample)\u001b[0m\n\u001b[1;32m    113\u001b[0m scatter_matrix: Dict[Any, Dict[Any, Any]] \u001b[39m=\u001b[39m {\n\u001b[1;32m    114\u001b[0m     x: {y: \u001b[39mNone\u001b[39;00m} \u001b[39mfor\u001b[39;00m x, y \u001b[39min\u001b[39;00m scatter_tasks\n\u001b[1;32m    115\u001b[0m }\n\u001b[1;32m    116\u001b[0m \u001b[39mfor\u001b[39;00m x, y \u001b[39min\u001b[39;00m scatter_tasks:\n\u001b[0;32m--> 117\u001b[0m     scatter_matrix[x][y] \u001b[39m=\u001b[39m progress(\n\u001b[1;32m    118\u001b[0m         get_scatter_plot, pbar, \u001b[39mf\u001b[39;49m\u001b[39m\"\u001b[39;49m\u001b[39mscatter \u001b[39;49m\u001b[39m{\u001b[39;49;00mx\u001b[39m}\u001b[39;49;00m\u001b[39m, \u001b[39;49m\u001b[39m{\u001b[39;49;00my\u001b[39m}\u001b[39;49;00m\u001b[39m\"\u001b[39;49m\n\u001b[1;32m    119\u001b[0m     )(config, df, x, y, interval_columns)\n\u001b[1;32m    121\u001b[0m \u001b[39m# Table statistics\u001b[39;00m\n\u001b[1;32m    122\u001b[0m table_stats \u001b[39m=\u001b[39m progress(get_table_stats, pbar, \u001b[39m\"\u001b[39m\u001b[39mGet dataframe statistics\u001b[39m\u001b[39m\"\u001b[39m)(\n\u001b[1;32m    123\u001b[0m     config, df, series_description\n\u001b[1;32m    124\u001b[0m )\n",
            "File \u001b[0;32m~/training_pipelines/env/lib/python3.9/site-packages/pandas_profiling/utils/progress_bar.py:11\u001b[0m, in \u001b[0;36mprogress.<locals>.inner\u001b[0;34m(*args, **kwargs)\u001b[0m\n\u001b[1;32m      8\u001b[0m \u001b[39m@wraps\u001b[39m(fn)\n\u001b[1;32m      9\u001b[0m \u001b[39mdef\u001b[39;00m \u001b[39minner\u001b[39m(\u001b[39m*\u001b[39margs, \u001b[39m*\u001b[39m\u001b[39m*\u001b[39mkwargs) \u001b[39m-\u001b[39m\u001b[39m>\u001b[39m Any:\n\u001b[1;32m     10\u001b[0m     bar\u001b[39m.\u001b[39mset_postfix_str(message)\n\u001b[0;32m---> 11\u001b[0m     ret \u001b[39m=\u001b[39m fn(\u001b[39m*\u001b[39;49margs, \u001b[39m*\u001b[39;49m\u001b[39m*\u001b[39;49mkwargs)\n\u001b[1;32m     12\u001b[0m     bar\u001b[39m.\u001b[39mupdate()\n\u001b[1;32m     13\u001b[0m     \u001b[39mreturn\u001b[39;00m ret\n",
            "File \u001b[0;32m~/training_pipelines/env/lib/python3.9/site-packages/pandas_profiling/model/pairwise.py:31\u001b[0m, in \u001b[0;36mget_scatter_plot\u001b[0;34m(config, df, x, y, continuous_variables)\u001b[0m\n\u001b[1;32m     29\u001b[0m     \u001b[39melse\u001b[39;00m:\n\u001b[1;32m     30\u001b[0m         df_temp \u001b[39m=\u001b[39m df[[x, y]]\u001b[39m.\u001b[39mdropna()\n\u001b[0;32m---> 31\u001b[0m     \u001b[39mreturn\u001b[39;00m scatter_pairwise(config, df_temp[x], df_temp[y], x, y)\n\u001b[1;32m     32\u001b[0m \u001b[39melse\u001b[39;00m:\n\u001b[1;32m     33\u001b[0m     \u001b[39mreturn\u001b[39;00m \u001b[39m\"\u001b[39m\u001b[39m\"\u001b[39m\n",
            "File \u001b[0;32m~/anaconda3/lib/python3.9/contextlib.py:79\u001b[0m, in \u001b[0;36mContextDecorator.__call__.<locals>.inner\u001b[0;34m(*args, **kwds)\u001b[0m\n\u001b[1;32m     76\u001b[0m \u001b[39m@wraps\u001b[39m(func)\n\u001b[1;32m     77\u001b[0m \u001b[39mdef\u001b[39;00m \u001b[39minner\u001b[39m(\u001b[39m*\u001b[39margs, \u001b[39m*\u001b[39m\u001b[39m*\u001b[39mkwds):\n\u001b[1;32m     78\u001b[0m     \u001b[39mwith\u001b[39;00m \u001b[39mself\u001b[39m\u001b[39m.\u001b[39m_recreate_cm():\n\u001b[0;32m---> 79\u001b[0m         \u001b[39mreturn\u001b[39;00m func(\u001b[39m*\u001b[39margs, \u001b[39m*\u001b[39m\u001b[39m*\u001b[39mkwds)\n",
            "File \u001b[0;32m~/anaconda3/lib/python3.9/contextlib.py:126\u001b[0m, in \u001b[0;36m_GeneratorContextManager.__exit__\u001b[0;34m(self, typ, value, traceback)\u001b[0m\n\u001b[1;32m    124\u001b[0m \u001b[39mif\u001b[39;00m typ \u001b[39mis\u001b[39;00m \u001b[39mNone\u001b[39;00m:\n\u001b[1;32m    125\u001b[0m     \u001b[39mtry\u001b[39;00m:\n\u001b[0;32m--> 126\u001b[0m         \u001b[39mnext\u001b[39;49m(\u001b[39mself\u001b[39;49m\u001b[39m.\u001b[39;49mgen)\n\u001b[1;32m    127\u001b[0m     \u001b[39mexcept\u001b[39;00m \u001b[39mStopIteration\u001b[39;00m:\n\u001b[1;32m    128\u001b[0m         \u001b[39mreturn\u001b[39;00m \u001b[39mFalse\u001b[39;00m\n",
            "File \u001b[0;32m~/training_pipelines/env/lib/python3.9/site-packages/pandas_profiling/visualisation/context.py:85\u001b[0m, in \u001b[0;36mmanage_matplotlib_context\u001b[0;34m()\u001b[0m\n\u001b[1;32m     83\u001b[0m deregister_matplotlib_converters()  \u001b[39m# revert to original unit registries\u001b[39;00m\n\u001b[1;32m     84\u001b[0m \u001b[39mwith\u001b[39;00m warnings\u001b[39m.\u001b[39mcatch_warnings():\n\u001b[0;32m---> 85\u001b[0m     warnings\u001b[39m.\u001b[39mfilterwarnings(\u001b[39m\"\u001b[39m\u001b[39mignore\u001b[39m\u001b[39m\"\u001b[39m, category\u001b[39m=\u001b[39mmatplotlib\u001b[39m.\u001b[39;49mcbook\u001b[39m.\u001b[39;49mmplDeprecation)\n\u001b[1;32m     86\u001b[0m     matplotlib\u001b[39m.\u001b[39mrcParams\u001b[39m.\u001b[39mupdate(originalRcParams)\n",
            "\u001b[0;31mAttributeError\u001b[0m: module 'matplotlib.cbook' has no attribute 'mplDeprecation'"
          ]
        }
      ],
      "source": [
        "profile.to_widgets()"
      ]
    },
    {
      "cell_type": "code",
      "execution_count": null,
      "id": "southeast-fiction",
      "metadata": {
        "id": "southeast-fiction"
      },
      "outputs": [],
      "source": [
        "# или отобразить во фрейме блокнота:\n",
        "#profile.to_notebook_iframe()"
      ]
    },
    {
      "cell_type": "code",
      "execution_count": 4,
      "id": "7e75b6cd",
      "metadata": {},
      "outputs": [
        {
          "name": "stderr",
          "output_type": "stream",
          "text": [
            "Summarize dataset:  19%|█▉        | 7/37 [00:00<00:02, 13.90it/s, scatter a, a]               \n"
          ]
        },
        {
          "ename": "AttributeError",
          "evalue": "module 'matplotlib.cbook' has no attribute 'mplDeprecation'",
          "output_type": "error",
          "traceback": [
            "\u001b[0;31m---------------------------------------------------------------------------\u001b[0m",
            "\u001b[0;31mAttributeError\u001b[0m                            Traceback (most recent call last)",
            "Cell \u001b[0;32mIn[4], line 1\u001b[0m\n\u001b[0;32m----> 1\u001b[0m profile\u001b[39m.\u001b[39;49mto_notebook_iframe()\n",
            "File \u001b[0;32m~/training_pipelines/env/lib/python3.9/site-packages/typeguard/__init__.py:1033\u001b[0m, in \u001b[0;36mtypechecked.<locals>.wrapper\u001b[0;34m(*args, **kwargs)\u001b[0m\n\u001b[1;32m   1031\u001b[0m memo \u001b[39m=\u001b[39m _CallMemo(python_func, _localns, args\u001b[39m=\u001b[39margs, kwargs\u001b[39m=\u001b[39mkwargs)\n\u001b[1;32m   1032\u001b[0m check_argument_types(memo)\n\u001b[0;32m-> 1033\u001b[0m retval \u001b[39m=\u001b[39m func(\u001b[39m*\u001b[39;49margs, \u001b[39m*\u001b[39;49m\u001b[39m*\u001b[39;49mkwargs)\n\u001b[1;32m   1034\u001b[0m \u001b[39mtry\u001b[39;00m:\n\u001b[1;32m   1035\u001b[0m     check_return_type(retval, memo)\n",
            "File \u001b[0;32m~/training_pipelines/env/lib/python3.9/site-packages/pandas_profiling/profile_report.py:450\u001b[0m, in \u001b[0;36mProfileReport.to_notebook_iframe\u001b[0;34m(self)\u001b[0m\n\u001b[1;32m    448\u001b[0m \u001b[39mwith\u001b[39;00m warnings\u001b[39m.\u001b[39mcatch_warnings():\n\u001b[1;32m    449\u001b[0m     warnings\u001b[39m.\u001b[39msimplefilter(\u001b[39m\"\u001b[39m\u001b[39mignore\u001b[39m\u001b[39m\"\u001b[39m)\n\u001b[0;32m--> 450\u001b[0m     display(get_notebook_iframe(\u001b[39mself\u001b[39;49m\u001b[39m.\u001b[39;49mconfig, \u001b[39mself\u001b[39;49m))\n",
            "File \u001b[0;32m~/training_pipelines/env/lib/python3.9/site-packages/pandas_profiling/report/presentation/flavours/widget/notebook.py:75\u001b[0m, in \u001b[0;36mget_notebook_iframe\u001b[0;34m(config, profile)\u001b[0m\n\u001b[1;32m     73\u001b[0m     output \u001b[39m=\u001b[39m get_notebook_iframe_src(config, profile)\n\u001b[1;32m     74\u001b[0m \u001b[39melif\u001b[39;00m attribute \u001b[39m==\u001b[39m IframeAttribute\u001b[39m.\u001b[39msrcdoc:\n\u001b[0;32m---> 75\u001b[0m     output \u001b[39m=\u001b[39m get_notebook_iframe_srcdoc(config, profile)\n\u001b[1;32m     76\u001b[0m \u001b[39melse\u001b[39;00m:\n\u001b[1;32m     77\u001b[0m     \u001b[39mraise\u001b[39;00m \u001b[39mValueError\u001b[39;00m(\n\u001b[1;32m     78\u001b[0m         \u001b[39mf\u001b[39m\u001b[39m'\u001b[39m\u001b[39mIframe Attribute can be \u001b[39m\u001b[39m\"\u001b[39m\u001b[39msrc\u001b[39m\u001b[39m\"\u001b[39m\u001b[39m or \u001b[39m\u001b[39m\"\u001b[39m\u001b[39msrcdoc\u001b[39m\u001b[39m\"\u001b[39m\u001b[39m (current: \u001b[39m\u001b[39m{\u001b[39;00mattribute\u001b[39m}\u001b[39;00m\u001b[39m).\u001b[39m\u001b[39m'\u001b[39m\n\u001b[1;32m     79\u001b[0m     )\n",
            "File \u001b[0;32m~/training_pipelines/env/lib/python3.9/site-packages/pandas_profiling/report/presentation/flavours/widget/notebook.py:29\u001b[0m, in \u001b[0;36mget_notebook_iframe_srcdoc\u001b[0;34m(config, profile)\u001b[0m\n\u001b[1;32m     27\u001b[0m width \u001b[39m=\u001b[39m config\u001b[39m.\u001b[39mnotebook\u001b[39m.\u001b[39miframe\u001b[39m.\u001b[39mwidth\n\u001b[1;32m     28\u001b[0m height \u001b[39m=\u001b[39m config\u001b[39m.\u001b[39mnotebook\u001b[39m.\u001b[39miframe\u001b[39m.\u001b[39mheight\n\u001b[0;32m---> 29\u001b[0m src \u001b[39m=\u001b[39m html\u001b[39m.\u001b[39mescape(profile\u001b[39m.\u001b[39;49mto_html())\n\u001b[1;32m     31\u001b[0m iframe \u001b[39m=\u001b[39m \u001b[39mf\u001b[39m\u001b[39m'\u001b[39m\u001b[39m<iframe width=\u001b[39m\u001b[39m\"\u001b[39m\u001b[39m{\u001b[39;00mwidth\u001b[39m}\u001b[39;00m\u001b[39m\"\u001b[39m\u001b[39m height=\u001b[39m\u001b[39m\"\u001b[39m\u001b[39m{\u001b[39;00mheight\u001b[39m}\u001b[39;00m\u001b[39m\"\u001b[39m\u001b[39m srcdoc=\u001b[39m\u001b[39m\"\u001b[39m\u001b[39m{\u001b[39;00msrc\u001b[39m}\u001b[39;00m\u001b[39m\"\u001b[39m\u001b[39m frameborder=\u001b[39m\u001b[39m\"\u001b[39m\u001b[39m0\u001b[39m\u001b[39m\"\u001b[39m\u001b[39m allowfullscreen></iframe>\u001b[39m\u001b[39m'\u001b[39m\n\u001b[1;32m     33\u001b[0m \u001b[39mreturn\u001b[39;00m HTML(iframe)\n",
            "File \u001b[0;32m~/training_pipelines/env/lib/python3.9/site-packages/typeguard/__init__.py:1033\u001b[0m, in \u001b[0;36mtypechecked.<locals>.wrapper\u001b[0;34m(*args, **kwargs)\u001b[0m\n\u001b[1;32m   1031\u001b[0m memo \u001b[39m=\u001b[39m _CallMemo(python_func, _localns, args\u001b[39m=\u001b[39margs, kwargs\u001b[39m=\u001b[39mkwargs)\n\u001b[1;32m   1032\u001b[0m check_argument_types(memo)\n\u001b[0;32m-> 1033\u001b[0m retval \u001b[39m=\u001b[39m func(\u001b[39m*\u001b[39;49margs, \u001b[39m*\u001b[39;49m\u001b[39m*\u001b[39;49mkwargs)\n\u001b[1;32m   1034\u001b[0m \u001b[39mtry\u001b[39;00m:\n\u001b[1;32m   1035\u001b[0m     check_return_type(retval, memo)\n",
            "File \u001b[0;32m~/training_pipelines/env/lib/python3.9/site-packages/pandas_profiling/profile_report.py:420\u001b[0m, in \u001b[0;36mProfileReport.to_html\u001b[0;34m(self)\u001b[0m\n\u001b[1;32m    412\u001b[0m \u001b[39mdef\u001b[39;00m \u001b[39mto_html\u001b[39m(\u001b[39mself\u001b[39m) \u001b[39m-\u001b[39m\u001b[39m>\u001b[39m \u001b[39mstr\u001b[39m:\n\u001b[1;32m    413\u001b[0m \u001b[39m    \u001b[39m\u001b[39m\"\"\"Generate and return complete template as lengthy string\u001b[39;00m\n\u001b[1;32m    414\u001b[0m \u001b[39m        for using with frameworks.\u001b[39;00m\n\u001b[1;32m    415\u001b[0m \n\u001b[0;32m   (...)\u001b[0m\n\u001b[1;32m    418\u001b[0m \n\u001b[1;32m    419\u001b[0m \u001b[39m    \"\"\"\u001b[39;00m\n\u001b[0;32m--> 420\u001b[0m     \u001b[39mreturn\u001b[39;00m \u001b[39mself\u001b[39;49m\u001b[39m.\u001b[39;49mhtml\n",
            "File \u001b[0;32m~/training_pipelines/env/lib/python3.9/site-packages/typeguard/__init__.py:1033\u001b[0m, in \u001b[0;36mtypechecked.<locals>.wrapper\u001b[0;34m(*args, **kwargs)\u001b[0m\n\u001b[1;32m   1031\u001b[0m memo \u001b[39m=\u001b[39m _CallMemo(python_func, _localns, args\u001b[39m=\u001b[39margs, kwargs\u001b[39m=\u001b[39mkwargs)\n\u001b[1;32m   1032\u001b[0m check_argument_types(memo)\n\u001b[0;32m-> 1033\u001b[0m retval \u001b[39m=\u001b[39m func(\u001b[39m*\u001b[39;49margs, \u001b[39m*\u001b[39;49m\u001b[39m*\u001b[39;49mkwargs)\n\u001b[1;32m   1034\u001b[0m \u001b[39mtry\u001b[39;00m:\n\u001b[1;32m   1035\u001b[0m     check_return_type(retval, memo)\n",
            "File \u001b[0;32m~/training_pipelines/env/lib/python3.9/site-packages/pandas_profiling/profile_report.py:231\u001b[0m, in \u001b[0;36mProfileReport.html\u001b[0;34m(self)\u001b[0m\n\u001b[1;32m    228\u001b[0m \u001b[39m@property\u001b[39m\n\u001b[1;32m    229\u001b[0m \u001b[39mdef\u001b[39;00m \u001b[39mhtml\u001b[39m(\u001b[39mself\u001b[39m) \u001b[39m-\u001b[39m\u001b[39m>\u001b[39m \u001b[39mstr\u001b[39m:\n\u001b[1;32m    230\u001b[0m     \u001b[39mif\u001b[39;00m \u001b[39mself\u001b[39m\u001b[39m.\u001b[39m_html \u001b[39mis\u001b[39;00m \u001b[39mNone\u001b[39;00m:\n\u001b[0;32m--> 231\u001b[0m         \u001b[39mself\u001b[39m\u001b[39m.\u001b[39m_html \u001b[39m=\u001b[39m \u001b[39mself\u001b[39;49m\u001b[39m.\u001b[39;49m_render_html()\n\u001b[1;32m    232\u001b[0m     \u001b[39mreturn\u001b[39;00m \u001b[39mself\u001b[39m\u001b[39m.\u001b[39m_html\n",
            "File \u001b[0;32m~/training_pipelines/env/lib/python3.9/site-packages/typeguard/__init__.py:1033\u001b[0m, in \u001b[0;36mtypechecked.<locals>.wrapper\u001b[0;34m(*args, **kwargs)\u001b[0m\n\u001b[1;32m   1031\u001b[0m memo \u001b[39m=\u001b[39m _CallMemo(python_func, _localns, args\u001b[39m=\u001b[39margs, kwargs\u001b[39m=\u001b[39mkwargs)\n\u001b[1;32m   1032\u001b[0m check_argument_types(memo)\n\u001b[0;32m-> 1033\u001b[0m retval \u001b[39m=\u001b[39m func(\u001b[39m*\u001b[39;49margs, \u001b[39m*\u001b[39;49m\u001b[39m*\u001b[39;49mkwargs)\n\u001b[1;32m   1034\u001b[0m \u001b[39mtry\u001b[39;00m:\n\u001b[1;32m   1035\u001b[0m     check_return_type(retval, memo)\n",
            "File \u001b[0;32m~/training_pipelines/env/lib/python3.9/site-packages/pandas_profiling/profile_report.py:339\u001b[0m, in \u001b[0;36mProfileReport._render_html\u001b[0;34m(self)\u001b[0m\n\u001b[1;32m    336\u001b[0m \u001b[39mdef\u001b[39;00m \u001b[39m_render_html\u001b[39m(\u001b[39mself\u001b[39m) \u001b[39m-\u001b[39m\u001b[39m>\u001b[39m \u001b[39mstr\u001b[39m:\n\u001b[1;32m    337\u001b[0m     \u001b[39mfrom\u001b[39;00m \u001b[39mpandas_profiling\u001b[39;00m\u001b[39m.\u001b[39;00m\u001b[39mreport\u001b[39;00m\u001b[39m.\u001b[39;00m\u001b[39mpresentation\u001b[39;00m\u001b[39m.\u001b[39;00m\u001b[39mflavours\u001b[39;00m \u001b[39mimport\u001b[39;00m HTMLReport\n\u001b[0;32m--> 339\u001b[0m     report \u001b[39m=\u001b[39m \u001b[39mself\u001b[39;49m\u001b[39m.\u001b[39;49mreport\n\u001b[1;32m    341\u001b[0m     \u001b[39mwith\u001b[39;00m tqdm(\n\u001b[1;32m    342\u001b[0m         total\u001b[39m=\u001b[39m\u001b[39m1\u001b[39m, desc\u001b[39m=\u001b[39m\u001b[39m\"\u001b[39m\u001b[39mRender HTML\u001b[39m\u001b[39m\"\u001b[39m, disable\u001b[39m=\u001b[39m\u001b[39mnot\u001b[39;00m \u001b[39mself\u001b[39m\u001b[39m.\u001b[39mconfig\u001b[39m.\u001b[39mprogress_bar\n\u001b[1;32m    343\u001b[0m     ) \u001b[39mas\u001b[39;00m pbar:\n\u001b[1;32m    344\u001b[0m         html \u001b[39m=\u001b[39m HTMLReport(copy\u001b[39m.\u001b[39mdeepcopy(report))\u001b[39m.\u001b[39mrender(\n\u001b[1;32m    345\u001b[0m             nav\u001b[39m=\u001b[39m\u001b[39mself\u001b[39m\u001b[39m.\u001b[39mconfig\u001b[39m.\u001b[39mhtml\u001b[39m.\u001b[39mnavbar_show,\n\u001b[1;32m    346\u001b[0m             offline\u001b[39m=\u001b[39m\u001b[39mself\u001b[39m\u001b[39m.\u001b[39mconfig\u001b[39m.\u001b[39mhtml\u001b[39m.\u001b[39muse_local_assets,\n\u001b[0;32m   (...)\u001b[0m\n\u001b[1;32m    354\u001b[0m             version\u001b[39m=\u001b[39m\u001b[39mself\u001b[39m\u001b[39m.\u001b[39mdescription_set[\u001b[39m\"\u001b[39m\u001b[39mpackage\u001b[39m\u001b[39m\"\u001b[39m][\u001b[39m\"\u001b[39m\u001b[39mpandas_profiling_version\u001b[39m\u001b[39m\"\u001b[39m],\n\u001b[1;32m    355\u001b[0m         )\n",
            "File \u001b[0;32m~/training_pipelines/env/lib/python3.9/site-packages/typeguard/__init__.py:1033\u001b[0m, in \u001b[0;36mtypechecked.<locals>.wrapper\u001b[0;34m(*args, **kwargs)\u001b[0m\n\u001b[1;32m   1031\u001b[0m memo \u001b[39m=\u001b[39m _CallMemo(python_func, _localns, args\u001b[39m=\u001b[39margs, kwargs\u001b[39m=\u001b[39mkwargs)\n\u001b[1;32m   1032\u001b[0m check_argument_types(memo)\n\u001b[0;32m-> 1033\u001b[0m retval \u001b[39m=\u001b[39m func(\u001b[39m*\u001b[39;49margs, \u001b[39m*\u001b[39;49m\u001b[39m*\u001b[39;49mkwargs)\n\u001b[1;32m   1034\u001b[0m \u001b[39mtry\u001b[39;00m:\n\u001b[1;32m   1035\u001b[0m     check_return_type(retval, memo)\n",
            "File \u001b[0;32m~/training_pipelines/env/lib/python3.9/site-packages/pandas_profiling/profile_report.py:225\u001b[0m, in \u001b[0;36mProfileReport.report\u001b[0;34m(self)\u001b[0m\n\u001b[1;32m    222\u001b[0m \u001b[39m@property\u001b[39m\n\u001b[1;32m    223\u001b[0m \u001b[39mdef\u001b[39;00m \u001b[39mreport\u001b[39m(\u001b[39mself\u001b[39m) \u001b[39m-\u001b[39m\u001b[39m>\u001b[39m Root:\n\u001b[1;32m    224\u001b[0m     \u001b[39mif\u001b[39;00m \u001b[39mself\u001b[39m\u001b[39m.\u001b[39m_report \u001b[39mis\u001b[39;00m \u001b[39mNone\u001b[39;00m:\n\u001b[0;32m--> 225\u001b[0m         \u001b[39mself\u001b[39m\u001b[39m.\u001b[39m_report \u001b[39m=\u001b[39m get_report_structure(\u001b[39mself\u001b[39m\u001b[39m.\u001b[39mconfig, \u001b[39mself\u001b[39;49m\u001b[39m.\u001b[39;49mdescription_set)\n\u001b[1;32m    226\u001b[0m     \u001b[39mreturn\u001b[39;00m \u001b[39mself\u001b[39m\u001b[39m.\u001b[39m_report\n",
            "File \u001b[0;32m~/training_pipelines/env/lib/python3.9/site-packages/typeguard/__init__.py:1033\u001b[0m, in \u001b[0;36mtypechecked.<locals>.wrapper\u001b[0;34m(*args, **kwargs)\u001b[0m\n\u001b[1;32m   1031\u001b[0m memo \u001b[39m=\u001b[39m _CallMemo(python_func, _localns, args\u001b[39m=\u001b[39margs, kwargs\u001b[39m=\u001b[39mkwargs)\n\u001b[1;32m   1032\u001b[0m check_argument_types(memo)\n\u001b[0;32m-> 1033\u001b[0m retval \u001b[39m=\u001b[39m func(\u001b[39m*\u001b[39;49margs, \u001b[39m*\u001b[39;49m\u001b[39m*\u001b[39;49mkwargs)\n\u001b[1;32m   1034\u001b[0m \u001b[39mtry\u001b[39;00m:\n\u001b[1;32m   1035\u001b[0m     check_return_type(retval, memo)\n",
            "File \u001b[0;32m~/training_pipelines/env/lib/python3.9/site-packages/pandas_profiling/profile_report.py:207\u001b[0m, in \u001b[0;36mProfileReport.description_set\u001b[0;34m(self)\u001b[0m\n\u001b[1;32m    204\u001b[0m \u001b[39m@property\u001b[39m\n\u001b[1;32m    205\u001b[0m \u001b[39mdef\u001b[39;00m \u001b[39mdescription_set\u001b[39m(\u001b[39mself\u001b[39m) \u001b[39m-\u001b[39m\u001b[39m>\u001b[39m Dict[\u001b[39mstr\u001b[39m, Any]:\n\u001b[1;32m    206\u001b[0m     \u001b[39mif\u001b[39;00m \u001b[39mself\u001b[39m\u001b[39m.\u001b[39m_description_set \u001b[39mis\u001b[39;00m \u001b[39mNone\u001b[39;00m:\n\u001b[0;32m--> 207\u001b[0m         \u001b[39mself\u001b[39m\u001b[39m.\u001b[39m_description_set \u001b[39m=\u001b[39m describe_df(\n\u001b[1;32m    208\u001b[0m             \u001b[39mself\u001b[39;49m\u001b[39m.\u001b[39;49mconfig,\n\u001b[1;32m    209\u001b[0m             \u001b[39mself\u001b[39;49m\u001b[39m.\u001b[39;49mdf,\n\u001b[1;32m    210\u001b[0m             \u001b[39mself\u001b[39;49m\u001b[39m.\u001b[39;49msummarizer,\n\u001b[1;32m    211\u001b[0m             \u001b[39mself\u001b[39;49m\u001b[39m.\u001b[39;49mtypeset,\n\u001b[1;32m    212\u001b[0m             \u001b[39mself\u001b[39;49m\u001b[39m.\u001b[39;49m_sample,\n\u001b[1;32m    213\u001b[0m         )\n\u001b[1;32m    214\u001b[0m     \u001b[39mreturn\u001b[39;00m \u001b[39mself\u001b[39m\u001b[39m.\u001b[39m_description_set\n",
            "File \u001b[0;32m~/training_pipelines/env/lib/python3.9/site-packages/pandas_profiling/model/describe.py:117\u001b[0m, in \u001b[0;36mdescribe\u001b[0;34m(config, df, summarizer, typeset, sample)\u001b[0m\n\u001b[1;32m    113\u001b[0m scatter_matrix: Dict[Any, Dict[Any, Any]] \u001b[39m=\u001b[39m {\n\u001b[1;32m    114\u001b[0m     x: {y: \u001b[39mNone\u001b[39;00m} \u001b[39mfor\u001b[39;00m x, y \u001b[39min\u001b[39;00m scatter_tasks\n\u001b[1;32m    115\u001b[0m }\n\u001b[1;32m    116\u001b[0m \u001b[39mfor\u001b[39;00m x, y \u001b[39min\u001b[39;00m scatter_tasks:\n\u001b[0;32m--> 117\u001b[0m     scatter_matrix[x][y] \u001b[39m=\u001b[39m progress(\n\u001b[1;32m    118\u001b[0m         get_scatter_plot, pbar, \u001b[39mf\u001b[39;49m\u001b[39m\"\u001b[39;49m\u001b[39mscatter \u001b[39;49m\u001b[39m{\u001b[39;49;00mx\u001b[39m}\u001b[39;49;00m\u001b[39m, \u001b[39;49m\u001b[39m{\u001b[39;49;00my\u001b[39m}\u001b[39;49;00m\u001b[39m\"\u001b[39;49m\n\u001b[1;32m    119\u001b[0m     )(config, df, x, y, interval_columns)\n\u001b[1;32m    121\u001b[0m \u001b[39m# Table statistics\u001b[39;00m\n\u001b[1;32m    122\u001b[0m table_stats \u001b[39m=\u001b[39m progress(get_table_stats, pbar, \u001b[39m\"\u001b[39m\u001b[39mGet dataframe statistics\u001b[39m\u001b[39m\"\u001b[39m)(\n\u001b[1;32m    123\u001b[0m     config, df, series_description\n\u001b[1;32m    124\u001b[0m )\n",
            "File \u001b[0;32m~/training_pipelines/env/lib/python3.9/site-packages/pandas_profiling/utils/progress_bar.py:11\u001b[0m, in \u001b[0;36mprogress.<locals>.inner\u001b[0;34m(*args, **kwargs)\u001b[0m\n\u001b[1;32m      8\u001b[0m \u001b[39m@wraps\u001b[39m(fn)\n\u001b[1;32m      9\u001b[0m \u001b[39mdef\u001b[39;00m \u001b[39minner\u001b[39m(\u001b[39m*\u001b[39margs, \u001b[39m*\u001b[39m\u001b[39m*\u001b[39mkwargs) \u001b[39m-\u001b[39m\u001b[39m>\u001b[39m Any:\n\u001b[1;32m     10\u001b[0m     bar\u001b[39m.\u001b[39mset_postfix_str(message)\n\u001b[0;32m---> 11\u001b[0m     ret \u001b[39m=\u001b[39m fn(\u001b[39m*\u001b[39;49margs, \u001b[39m*\u001b[39;49m\u001b[39m*\u001b[39;49mkwargs)\n\u001b[1;32m     12\u001b[0m     bar\u001b[39m.\u001b[39mupdate()\n\u001b[1;32m     13\u001b[0m     \u001b[39mreturn\u001b[39;00m ret\n",
            "File \u001b[0;32m~/training_pipelines/env/lib/python3.9/site-packages/pandas_profiling/model/pairwise.py:31\u001b[0m, in \u001b[0;36mget_scatter_plot\u001b[0;34m(config, df, x, y, continuous_variables)\u001b[0m\n\u001b[1;32m     29\u001b[0m     \u001b[39melse\u001b[39;00m:\n\u001b[1;32m     30\u001b[0m         df_temp \u001b[39m=\u001b[39m df[[x, y]]\u001b[39m.\u001b[39mdropna()\n\u001b[0;32m---> 31\u001b[0m     \u001b[39mreturn\u001b[39;00m scatter_pairwise(config, df_temp[x], df_temp[y], x, y)\n\u001b[1;32m     32\u001b[0m \u001b[39melse\u001b[39;00m:\n\u001b[1;32m     33\u001b[0m     \u001b[39mreturn\u001b[39;00m \u001b[39m\"\u001b[39m\u001b[39m\"\u001b[39m\n",
            "File \u001b[0;32m~/anaconda3/lib/python3.9/contextlib.py:79\u001b[0m, in \u001b[0;36mContextDecorator.__call__.<locals>.inner\u001b[0;34m(*args, **kwds)\u001b[0m\n\u001b[1;32m     76\u001b[0m \u001b[39m@wraps\u001b[39m(func)\n\u001b[1;32m     77\u001b[0m \u001b[39mdef\u001b[39;00m \u001b[39minner\u001b[39m(\u001b[39m*\u001b[39margs, \u001b[39m*\u001b[39m\u001b[39m*\u001b[39mkwds):\n\u001b[1;32m     78\u001b[0m     \u001b[39mwith\u001b[39;00m \u001b[39mself\u001b[39m\u001b[39m.\u001b[39m_recreate_cm():\n\u001b[0;32m---> 79\u001b[0m         \u001b[39mreturn\u001b[39;00m func(\u001b[39m*\u001b[39margs, \u001b[39m*\u001b[39m\u001b[39m*\u001b[39mkwds)\n",
            "File \u001b[0;32m~/anaconda3/lib/python3.9/contextlib.py:126\u001b[0m, in \u001b[0;36m_GeneratorContextManager.__exit__\u001b[0;34m(self, typ, value, traceback)\u001b[0m\n\u001b[1;32m    124\u001b[0m \u001b[39mif\u001b[39;00m typ \u001b[39mis\u001b[39;00m \u001b[39mNone\u001b[39;00m:\n\u001b[1;32m    125\u001b[0m     \u001b[39mtry\u001b[39;00m:\n\u001b[0;32m--> 126\u001b[0m         \u001b[39mnext\u001b[39;49m(\u001b[39mself\u001b[39;49m\u001b[39m.\u001b[39;49mgen)\n\u001b[1;32m    127\u001b[0m     \u001b[39mexcept\u001b[39;00m \u001b[39mStopIteration\u001b[39;00m:\n\u001b[1;32m    128\u001b[0m         \u001b[39mreturn\u001b[39;00m \u001b[39mFalse\u001b[39;00m\n",
            "File \u001b[0;32m~/training_pipelines/env/lib/python3.9/site-packages/pandas_profiling/visualisation/context.py:85\u001b[0m, in \u001b[0;36mmanage_matplotlib_context\u001b[0;34m()\u001b[0m\n\u001b[1;32m     83\u001b[0m deregister_matplotlib_converters()  \u001b[39m# revert to original unit registries\u001b[39;00m\n\u001b[1;32m     84\u001b[0m \u001b[39mwith\u001b[39;00m warnings\u001b[39m.\u001b[39mcatch_warnings():\n\u001b[0;32m---> 85\u001b[0m     warnings\u001b[39m.\u001b[39mfilterwarnings(\u001b[39m\"\u001b[39m\u001b[39mignore\u001b[39m\u001b[39m\"\u001b[39m, category\u001b[39m=\u001b[39mmatplotlib\u001b[39m.\u001b[39;49mcbook\u001b[39m.\u001b[39;49mmplDeprecation)\n\u001b[1;32m     86\u001b[0m     matplotlib\u001b[39m.\u001b[39mrcParams\u001b[39m.\u001b[39mupdate(originalRcParams)\n",
            "\u001b[0;31mAttributeError\u001b[0m: module 'matplotlib.cbook' has no attribute 'mplDeprecation'"
          ]
        }
      ],
      "source": [
        "profile.to_notebook_iframe()"
      ]
    },
    {
      "cell_type": "code",
      "execution_count": null,
      "id": "consistent-harrison",
      "metadata": {
        "colab": {
          "referenced_widgets": [
            "8fc4a0a5f2904f3e82c2e43479f5fca7",
            "e0f1653364b245deab99da6166c3c733"
          ]
        },
        "id": "consistent-harrison",
        "outputId": "a6b91d25-e594-4630-ea2f-6dae1b2b9e25"
      },
      "outputs": [
        {
          "data": {
            "application/vnd.jupyter.widget-view+json": {
              "model_id": "8fc4a0a5f2904f3e82c2e43479f5fca7",
              "version_major": 2,
              "version_minor": 0
            },
            "text/plain": [
              "Render HTML:   0%|          | 0/1 [00:00<?, ?it/s]"
            ]
          },
          "metadata": {},
          "output_type": "display_data"
        },
        {
          "data": {
            "application/vnd.jupyter.widget-view+json": {
              "model_id": "e0f1653364b245deab99da6166c3c733",
              "version_major": 2,
              "version_minor": 0
            },
            "text/plain": [
              "Export report to file:   0%|          | 0/1 [00:00<?, ?it/s]"
            ]
          },
          "metadata": {},
          "output_type": "display_data"
        }
      ],
      "source": [
        "profile.to_file(\"report.html\")"
      ]
    },
    {
      "cell_type": "markdown",
      "id": "charged-breath",
      "metadata": {
        "id": "charged-breath"
      },
      "source": [
        "> HTML-версия отчета доступна по [ссылке](https://dfedorov.spb.ru/pandas/reports/report.html)\n",
        "\n",
        "Авторы библиотеки приводят [результаты анализа данных про Титаник](https://pandas-profiling.github.io/pandas-profiling/examples/master/titanic/titanic_report.html).\n",
        "\n",
        "При работе с большими данными [можно включать минимальный режим](https://pandas-profiling.github.io/pandas-profiling/docs/master/rtd/pages/big_data.html) конфигурирования (`minimal=True`).\n",
        "\n",
        "Разобраться во внутренностях можно через [чтение исходных текстов](https://github.com/pandas-profiling/pandas-profiling/blob/develop/src/pandas_profiling/visualisation/plot.py)."
      ]
    },
    {
      "cell_type": "code",
      "execution_count": null,
      "id": "recreational-pipeline",
      "metadata": {
        "id": "recreational-pipeline"
      },
      "outputs": [],
      "source": []
    }
  ],
  "metadata": {
    "colab": {
      "provenance": []
    },
    "kernelspec": {
      "display_name": "Python 3",
      "language": "python",
      "name": "python3"
    },
    "language_info": {
      "codemirror_mode": {
        "name": "ipython",
        "version": 3
      },
      "file_extension": ".py",
      "mimetype": "text/x-python",
      "name": "python",
      "nbconvert_exporter": "python",
      "pygments_lexer": "ipython3",
      "version": "3.9.12"
    }
  },
  "nbformat": 4,
  "nbformat_minor": 5
}
