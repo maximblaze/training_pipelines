{
  "metadata": {
    "kernelspec": {
      "display_name": "Python 3",
      "name": "python3"
    },
    "language_info": {
      "name": "python",
      "version": "3.6.6",
      "mimetype": "text/x-python",
      "codemirror_mode": {
        "name": "ipython",
        "version": 3
      },
      "pygments_lexer": "ipython3",
      "nbconvert_exporter": "python",
      "file_extension": ".py"
    },
    "colab": {
      "provenance": [],
      "gpuType": "T4"
    },
    "accelerator": "GPU"
  },
  "nbformat_minor": 0,
  "nbformat": 4,
  "cells": [
    {
      "cell_type": "code",
      "source": [
        "%matplotlib inline"
      ],
      "metadata": {
        "trusted": true,
        "id": "Tuea9IeYDdpC"
      },
      "execution_count": 1,
      "outputs": []
    },
    {
      "cell_type": "code",
      "source": [
        "import numpy as np\n",
        "import pandas as pd\n",
        "import re\n",
        "from matplotlib import pyplot as plt\n",
        "from sklearn.feature_extraction.text import TfidfVectorizer\n",
        "from sklearn.pipeline import Pipeline\n",
        "from sklearn.multiclass import OneVsRestClassifier\n",
        "from sklearn.svm import SVC, LinearSVC\n",
        "from sklearn.linear_model import LogisticRegression\n",
        "from sklearn.naive_bayes import MultinomialNB\n",
        "from sklearn.metrics import roc_auc_score, accuracy_score, roc_curve, confusion_matrix, \\\n",
        "multilabel_confusion_matrix, classification_report\n",
        "from sklearn.model_selection import GridSearchCV, StratifiedKFold\n",
        "\n",
        "import warnings\n",
        "warnings.filterwarnings('ignore')"
      ],
      "metadata": {
        "execution": {
          "iopub.status.busy": "2023-09-20T19:13:35.954065Z",
          "iopub.execute_input": "2023-09-20T19:13:35.954402Z",
          "iopub.status.idle": "2023-09-20T19:13:37.598444Z",
          "shell.execute_reply.started": "2023-09-20T19:13:35.954343Z",
          "shell.execute_reply": "2023-09-20T19:13:37.597468Z"
        },
        "trusted": true,
        "id": "4mvXUYAKDdpG"
      },
      "execution_count": 2,
      "outputs": []
    },
    {
      "cell_type": "markdown",
      "source": [
        "# Exploring Multi-label text classification with Machine Learning"
      ],
      "metadata": {
        "id": "LX1sUsETDdpH"
      }
    },
    {
      "cell_type": "markdown",
      "source": [
        "## What is Multi-label classification\n",
        "\n",
        "There are mainly tree types of classification problems:\n",
        "    \n",
        "    Bynary classification puts the samples in only one of two possible classes. A person can be either a male or a female.\n",
        "\n",
        "    Multiclass classification means a classification task with more than two classes; e.g., classify a set of people in different age groups. Multiclass classification makes the assumption that each sample is assigned to one and only one label: a person can only be between 20 and 29 years old or 30 to 39 years old but not in both groups.\n",
        "    \n",
        "    Multilabel classification assigns to each sample a set of target labels. This can be thought as predicting properties of a data-point that are not mutually exclusive, such as topics that are relevant for a document. A text might be about any of religion, politics, finance or education at the same time or none of these.\n",
        "\n",
        "There are two main methods for tackling a multi-label classification problem: problem transformation methods and algorithm adaptation methods.\n",
        "Problem transformation methods transform the multi-label problem into a set of binary classification problems, which can then be handled using single-class classifiers. They include OneVsRest and Binary Relevance techniques.\n",
        "\n",
        "Whereas algorithm adaptation methods adapt the algorithms to directly perform multi-label classification. In other words, rather than trying to convert the problem to a simpler problem, they try to address the problem in its full form. They include Classifier Chains, Label Powerset and Adapted Algorithm."
      ],
      "metadata": {
        "id": "JmAB7RClDdpI"
      }
    },
    {
      "cell_type": "markdown",
      "source": [
        "## Our dataset\n",
        "\n",
        "We will use the datasets from a Kaggle competition which aims to resolve the problem with negative online behaviors, like toxic comments (i.e. comments that are rude, disrespectful or otherwise likely to make someone leave a discussion). The dataset contains a large number of Wikipedia comments which have been labeled by human raters for toxic behavior. The types of toxicity are: **toxic, severe_toxic,obscene, threat, insult,identity_hate**. A model which predicts a probability of each type of toxicity for each comment must be created.\n",
        "\n",
        "https://www.kaggle.com/c/jigsaw-toxic-comment-classification-challenge/overview\n",
        "\n",
        "First we load our files:"
      ],
      "metadata": {
        "id": "Q6VVB2HHDdpJ"
      }
    },
    {
      "cell_type": "code",
      "source": [
        "train_set = pd.read_csv('train.csv')\n",
        "test_set = pd.read_csv('test.csv')\n",
        "test_labels = pd.read_csv('test_labels.csv')"
      ],
      "metadata": {
        "execution": {
          "iopub.status.busy": "2023-09-20T19:13:46.318929Z",
          "iopub.execute_input": "2023-09-20T19:13:46.319286Z",
          "iopub.status.idle": "2023-09-20T19:13:48.155128Z",
          "shell.execute_reply.started": "2023-09-20T19:13:46.319231Z",
          "shell.execute_reply": "2023-09-20T19:13:48.152544Z"
        },
        "trusted": true,
        "id": "eg49YZg1DdpL"
      },
      "execution_count": 14,
      "outputs": []
    },
    {
      "cell_type": "code",
      "source": [
        "print('train set', train_set.head(10))\n",
        "print('test set', test_set.head(10))\n",
        "print('test labels', test_labels.head(10))"
      ],
      "metadata": {
        "execution": {
          "iopub.status.busy": "2023-09-20T19:13:48.157372Z",
          "iopub.execute_input": "2023-09-20T19:13:48.157726Z",
          "iopub.status.idle": "2023-09-20T19:13:48.206447Z",
          "shell.execute_reply.started": "2023-09-20T19:13:48.157656Z",
          "shell.execute_reply": "2023-09-20T19:13:48.205402Z"
        },
        "trusted": true,
        "colab": {
          "base_uri": "https://localhost:8080/"
        },
        "id": "z445eQ1uDdpL",
        "outputId": "26706a98-ade9-479b-9eff-7638630fdf0c"
      },
      "execution_count": 15,
      "outputs": [
        {
          "output_type": "stream",
          "name": "stdout",
          "text": [
            "train set                  id                                       comment_text  toxic  \\\n",
            "0  0000997932d777bf  Explanation\\nWhy the edits made under my usern...      0   \n",
            "1  000103f0d9cfb60f  D'aww! He matches this background colour I'm s...      0   \n",
            "2  000113f07ec002fd  Hey man, I'm really not trying to edit war. It...      0   \n",
            "3  0001b41b1c6bb37e  \"\\nMore\\nI can't make any real suggestions on ...      0   \n",
            "4  0001d958c54c6e35  You, sir, are my hero. Any chance you remember...      0   \n",
            "5  00025465d4725e87  \"\\n\\nCongratulations from me as well, use the ...      0   \n",
            "6  0002bcb3da6cb337       COCKSUCKER BEFORE YOU PISS AROUND ON MY WORK      1   \n",
            "7  00031b1e95af7921  Your vandalism to the Matt Shirvington article...      0   \n",
            "8  00037261f536c51d  Sorry if the word 'nonsense' was offensive to ...      0   \n",
            "9  00040093b2687caa  alignment on this subject and which are contra...      0   \n",
            "\n",
            "   severe_toxic  obscene  threat  insult  identity_hate  \n",
            "0             0        0       0       0              0  \n",
            "1             0        0       0       0              0  \n",
            "2             0        0       0       0              0  \n",
            "3             0        0       0       0              0  \n",
            "4             0        0       0       0              0  \n",
            "5             0        0       0       0              0  \n",
            "6             1        1       0       1              0  \n",
            "7             0        0       0       0              0  \n",
            "8             0        0       0       0              0  \n",
            "9             0        0       0       0              0  \n",
            "test set                  id                                       comment_text\n",
            "0  00001cee341fdb12  Yo bitch Ja Rule is more succesful then you'll...\n",
            "1  0000247867823ef7  == From RfC == \\n\\n The title is fine as it is...\n",
            "2  00013b17ad220c46  \" \\n\\n == Sources == \\n\\n * Zawe Ashton on Lap...\n",
            "3  00017563c3f7919a  :If you have a look back at the source, the in...\n",
            "4  00017695ad8997eb          I don't anonymously edit articles at all.\n",
            "5  0001ea8717f6de06  Thank you for understanding. I think very high...\n",
            "6  00024115d4cbde0f  Please do not add nonsense to Wikipedia. Such ...\n",
            "7  000247e83dcc1211                   :Dear god this site is horrible.\n",
            "8  00025358d4737918  \" \\n Only a fool can believe in such numbers. ...\n",
            "9  00026d1092fe71cc  == Double Redirects == \\n\\n When fixing double...\n",
            "test labels                  id  toxic  severe_toxic  obscene  threat  insult  \\\n",
            "0  00001cee341fdb12     -1            -1       -1      -1      -1   \n",
            "1  0000247867823ef7     -1            -1       -1      -1      -1   \n",
            "2  00013b17ad220c46     -1            -1       -1      -1      -1   \n",
            "3  00017563c3f7919a     -1            -1       -1      -1      -1   \n",
            "4  00017695ad8997eb     -1            -1       -1      -1      -1   \n",
            "5  0001ea8717f6de06      0             0        0       0       0   \n",
            "6  00024115d4cbde0f     -1            -1       -1      -1      -1   \n",
            "7  000247e83dcc1211      0             0        0       0       0   \n",
            "8  00025358d4737918     -1            -1       -1      -1      -1   \n",
            "9  00026d1092fe71cc     -1            -1       -1      -1      -1   \n",
            "\n",
            "   identity_hate  \n",
            "0             -1  \n",
            "1             -1  \n",
            "2             -1  \n",
            "3             -1  \n",
            "4             -1  \n",
            "5              0  \n",
            "6             -1  \n",
            "7              0  \n",
            "8             -1  \n",
            "9             -1  \n"
          ]
        }
      ]
    },
    {
      "cell_type": "markdown",
      "source": [
        "## Data cleaning and analisys\n",
        "\n",
        "We need to check for empty values just in case:"
      ],
      "metadata": {
        "id": "ZB87vYwRDdpM"
      }
    },
    {
      "cell_type": "code",
      "source": [
        "print(train_set.isna().sum())\n",
        "print(test_set.isna().sum())\n",
        "print(test_labels.isna().sum())"
      ],
      "metadata": {
        "execution": {
          "iopub.status.busy": "2023-09-20T15:32:15.406053Z",
          "iopub.status.idle": "2023-09-20T15:32:15.406626Z"
        },
        "trusted": true,
        "colab": {
          "base_uri": "https://localhost:8080/"
        },
        "id": "a4may8cDDdpM",
        "outputId": "35205e4f-c91a-4754-c66b-3c71a8688d1a"
      },
      "execution_count": 16,
      "outputs": [
        {
          "output_type": "stream",
          "name": "stdout",
          "text": [
            "id               0\n",
            "comment_text     0\n",
            "toxic            0\n",
            "severe_toxic     0\n",
            "obscene          0\n",
            "threat           0\n",
            "insult           0\n",
            "identity_hate    0\n",
            "dtype: int64\n",
            "id              0\n",
            "comment_text    0\n",
            "dtype: int64\n",
            "id               0\n",
            "toxic            0\n",
            "severe_toxic     0\n",
            "obscene          0\n",
            "threat           0\n",
            "insult           0\n",
            "identity_hate    0\n",
            "dtype: int64\n"
          ]
        }
      ]
    },
    {
      "cell_type": "code",
      "source": [
        "test_set = test_set.dropna()\n",
        "test_labels = test_labels.dropna()"
      ],
      "metadata": {
        "id": "wV4OdBp0KSpt"
      },
      "execution_count": 8,
      "outputs": []
    },
    {
      "cell_type": "markdown",
      "source": [
        "As it was a competition, to deter hand labeling, the test_set contains some comments which are not included\n",
        "in scoring. We need to remove the comments containing labels with -1 from the later supplied test_labels file and the test_set."
      ],
      "metadata": {
        "id": "It7PgtAGDdpM"
      }
    },
    {
      "cell_type": "code",
      "source": [
        "test_set = test_set[test_labels['toxic'] != -1]\n",
        "test_labels = test_labels[test_labels['toxic'] != -1]\n",
        "test_features = test_set.comment_text\n",
        "train_features = train_set.comment_text\n",
        "print('test labels', test_labels.head(10))\n",
        "train_labels = train_set.drop(['id', 'comment_text'], axis = 1)\n",
        "test_labels = test_labels.drop(['id'], axis = 1)\n",
        "labels = ['toxic', 'severe_toxic', 'obscene', 'threat', 'insult', 'identity_hate']"
      ],
      "metadata": {
        "execution": {
          "iopub.status.busy": "2023-09-20T15:34:47.119399Z",
          "iopub.execute_input": "2023-09-20T15:34:47.119800Z",
          "iopub.status.idle": "2023-09-20T15:34:47.183527Z",
          "shell.execute_reply.started": "2023-09-20T15:34:47.119748Z",
          "shell.execute_reply": "2023-09-20T15:34:47.182512Z"
        },
        "trusted": true,
        "colab": {
          "base_uri": "https://localhost:8080/"
        },
        "id": "jBn6XztnDdpM",
        "outputId": "2fc286b2-a485-47fa-af6d-63f5b02ba7f4"
      },
      "execution_count": 6,
      "outputs": [
        {
          "output_type": "stream",
          "name": "stdout",
          "text": [
            "test labels                   id  toxic  severe_toxic  obscene  threat  insult  \\\n",
            "5   0001ea8717f6de06      0             0        0       0       0   \n",
            "7   000247e83dcc1211      0             0        0       0       0   \n",
            "11  0002f87b16116a7f      0             0        0       0       0   \n",
            "13  0003e1cccfd5a40a      0             0        0       0       0   \n",
            "14  00059ace3e3e9a53      0             0        0       0       0   \n",
            "16  000663aff0fffc80      0             0        0       0       0   \n",
            "17  000689dd34e20979      0             0        0       0       0   \n",
            "19  000844b52dee5f3f      0             0        0       0       0   \n",
            "21  00091c35fa9d0465      1             0        0       0       0   \n",
            "22  000968ce11f5ee34      0             0        0       0       0   \n",
            "\n",
            "    identity_hate  \n",
            "5               0  \n",
            "7               0  \n",
            "11              0  \n",
            "13              0  \n",
            "14              0  \n",
            "16              0  \n",
            "17              0  \n",
            "19              0  \n",
            "21              0  \n",
            "22              0  \n"
          ]
        }
      ]
    },
    {
      "cell_type": "markdown",
      "source": [
        "We want to try to clean the text of the comments by removing punctuation and spcial characters, converting all to lowercase, stripping white space, and replacing some commonly used short forms with their full words. We want save the cleaned comments in separate variables and test the vectorizer algorithm with both sets. We will also use the stop_words parameter of the vectorizer algorithm to remove the words that do not bring value and will actually confuse and slow down the vectorizer."
      ],
      "metadata": {
        "id": "Z5fjzobEDdpN"
      }
    },
    {
      "cell_type": "code",
      "source": [
        "def clean_text(text):\n",
        "    text = text.lower()\n",
        "    text = re.sub(r\"what's\", \"what is \", text)\n",
        "    text = re.sub(r\"\\'s\", \" \", text)\n",
        "    text = re.sub(r\"\\'ve\", \" have \", text)\n",
        "    text = re.sub(r\"can't\", \"can not \", text)\n",
        "    text = re.sub(r\"n't\", \" not \", text)\n",
        "    text = re.sub(r\"i'm\", \"i am \", text)\n",
        "    text = re.sub(r\"\\'re\", \" are \", text)\n",
        "    text = re.sub(r\"\\'d\", \" would \", text)\n",
        "    text = re.sub(r\"\\'ll\", \" will \", text)\n",
        "    text = re.sub(r\"\\'scuse\", \" excuse \", text)\n",
        "    text = re.sub('\\W', ' ', text)\n",
        "    text = re.sub('\\s+', ' ', text)\n",
        "    text = text.strip(' ')\n",
        "    return text\n",
        "\n",
        "test_features_cleaned = test_features.map(lambda com : clean_text(com))\n",
        "train_features_cleaned = train_features.map(lambda com : clean_text(com))"
      ],
      "metadata": {
        "id": "ypq4kwU6DdpN"
      },
      "execution_count": 7,
      "outputs": []
    },
    {
      "cell_type": "markdown",
      "source": [
        "We check the percentage of labeled and non-labeled comments"
      ],
      "metadata": {
        "id": "UbpbCzv9DdpN"
      }
    },
    {
      "cell_type": "code",
      "source": [
        "print('Percentage of comments without labels: ')\n",
        "print(len((train_set[(train_set.toxic == 0) & (train_set.severe_toxic == 0) & (train_set.obscene == 0) & (train_set.insult == 0) & (train_set.insult == 0) & (train_set.identity_hate == 0)])) / len(train_set)*100)\n",
        "print('Percentage of comments with one or more labels: ')\n",
        "print(len(train_set[(train_set.toxic == 1) | (train_set.severe_toxic == 1) | (train_set.obscene == 1) | (train_set.insult == 1) | (train_set.insult == 1) | (train_set.identity_hate == 1)]) / len(train_set)*100)"
      ],
      "metadata": {
        "colab": {
          "base_uri": "https://localhost:8080/"
        },
        "id": "qNM-zyt4DdpN",
        "outputId": "401b7465-47a5-45ca-962e-169739177cbf"
      },
      "execution_count": 8,
      "outputs": [
        {
          "output_type": "stream",
          "name": "stdout",
          "text": [
            "Percentage of comments without labels: \n",
            "89.84589931754516\n",
            "Percentage of comments with one or more labels: \n",
            "10.154100682454832\n"
          ]
        }
      ]
    },
    {
      "cell_type": "code",
      "source": [
        "test_labels.describe()"
      ],
      "metadata": {
        "colab": {
          "base_uri": "https://localhost:8080/",
          "height": 297
        },
        "id": "uXycQuh2DdpO",
        "outputId": "440decc7-4dbb-4ea0-f4d6-dcf1717ad554"
      },
      "execution_count": 9,
      "outputs": [
        {
          "output_type": "execute_result",
          "data": {
            "text/plain": [
              "              toxic  severe_toxic       obscene        threat        insult  \\\n",
              "count  63978.000000  63978.000000  63978.000000  63978.000000  63978.000000   \n",
              "mean       0.095189      0.005736      0.057692      0.003298      0.053565   \n",
              "std        0.293478      0.075522      0.233161      0.057334      0.225160   \n",
              "min        0.000000      0.000000      0.000000      0.000000      0.000000   \n",
              "25%        0.000000      0.000000      0.000000      0.000000      0.000000   \n",
              "50%        0.000000      0.000000      0.000000      0.000000      0.000000   \n",
              "75%        0.000000      0.000000      0.000000      0.000000      0.000000   \n",
              "max        1.000000      1.000000      1.000000      1.000000      1.000000   \n",
              "\n",
              "       identity_hate  \n",
              "count   63978.000000  \n",
              "mean        0.011129  \n",
              "std         0.104905  \n",
              "min         0.000000  \n",
              "25%         0.000000  \n",
              "50%         0.000000  \n",
              "75%         0.000000  \n",
              "max         1.000000  "
            ],
            "text/html": [
              "\n",
              "  <div id=\"df-f224941a-9d99-4489-925c-a1795e7ad2d5\" class=\"colab-df-container\">\n",
              "    <div>\n",
              "<style scoped>\n",
              "    .dataframe tbody tr th:only-of-type {\n",
              "        vertical-align: middle;\n",
              "    }\n",
              "\n",
              "    .dataframe tbody tr th {\n",
              "        vertical-align: top;\n",
              "    }\n",
              "\n",
              "    .dataframe thead th {\n",
              "        text-align: right;\n",
              "    }\n",
              "</style>\n",
              "<table border=\"1\" class=\"dataframe\">\n",
              "  <thead>\n",
              "    <tr style=\"text-align: right;\">\n",
              "      <th></th>\n",
              "      <th>toxic</th>\n",
              "      <th>severe_toxic</th>\n",
              "      <th>obscene</th>\n",
              "      <th>threat</th>\n",
              "      <th>insult</th>\n",
              "      <th>identity_hate</th>\n",
              "    </tr>\n",
              "  </thead>\n",
              "  <tbody>\n",
              "    <tr>\n",
              "      <th>count</th>\n",
              "      <td>63978.000000</td>\n",
              "      <td>63978.000000</td>\n",
              "      <td>63978.000000</td>\n",
              "      <td>63978.000000</td>\n",
              "      <td>63978.000000</td>\n",
              "      <td>63978.000000</td>\n",
              "    </tr>\n",
              "    <tr>\n",
              "      <th>mean</th>\n",
              "      <td>0.095189</td>\n",
              "      <td>0.005736</td>\n",
              "      <td>0.057692</td>\n",
              "      <td>0.003298</td>\n",
              "      <td>0.053565</td>\n",
              "      <td>0.011129</td>\n",
              "    </tr>\n",
              "    <tr>\n",
              "      <th>std</th>\n",
              "      <td>0.293478</td>\n",
              "      <td>0.075522</td>\n",
              "      <td>0.233161</td>\n",
              "      <td>0.057334</td>\n",
              "      <td>0.225160</td>\n",
              "      <td>0.104905</td>\n",
              "    </tr>\n",
              "    <tr>\n",
              "      <th>min</th>\n",
              "      <td>0.000000</td>\n",
              "      <td>0.000000</td>\n",
              "      <td>0.000000</td>\n",
              "      <td>0.000000</td>\n",
              "      <td>0.000000</td>\n",
              "      <td>0.000000</td>\n",
              "    </tr>\n",
              "    <tr>\n",
              "      <th>25%</th>\n",
              "      <td>0.000000</td>\n",
              "      <td>0.000000</td>\n",
              "      <td>0.000000</td>\n",
              "      <td>0.000000</td>\n",
              "      <td>0.000000</td>\n",
              "      <td>0.000000</td>\n",
              "    </tr>\n",
              "    <tr>\n",
              "      <th>50%</th>\n",
              "      <td>0.000000</td>\n",
              "      <td>0.000000</td>\n",
              "      <td>0.000000</td>\n",
              "      <td>0.000000</td>\n",
              "      <td>0.000000</td>\n",
              "      <td>0.000000</td>\n",
              "    </tr>\n",
              "    <tr>\n",
              "      <th>75%</th>\n",
              "      <td>0.000000</td>\n",
              "      <td>0.000000</td>\n",
              "      <td>0.000000</td>\n",
              "      <td>0.000000</td>\n",
              "      <td>0.000000</td>\n",
              "      <td>0.000000</td>\n",
              "    </tr>\n",
              "    <tr>\n",
              "      <th>max</th>\n",
              "      <td>1.000000</td>\n",
              "      <td>1.000000</td>\n",
              "      <td>1.000000</td>\n",
              "      <td>1.000000</td>\n",
              "      <td>1.000000</td>\n",
              "      <td>1.000000</td>\n",
              "    </tr>\n",
              "  </tbody>\n",
              "</table>\n",
              "</div>\n",
              "    <div class=\"colab-df-buttons\">\n",
              "\n",
              "  <div class=\"colab-df-container\">\n",
              "    <button class=\"colab-df-convert\" onclick=\"convertToInteractive('df-f224941a-9d99-4489-925c-a1795e7ad2d5')\"\n",
              "            title=\"Convert this dataframe to an interactive table.\"\n",
              "            style=\"display:none;\">\n",
              "\n",
              "  <svg xmlns=\"http://www.w3.org/2000/svg\" height=\"24px\" viewBox=\"0 -960 960 960\">\n",
              "    <path d=\"M120-120v-720h720v720H120Zm60-500h600v-160H180v160Zm220 220h160v-160H400v160Zm0 220h160v-160H400v160ZM180-400h160v-160H180v160Zm440 0h160v-160H620v160ZM180-180h160v-160H180v160Zm440 0h160v-160H620v160Z\"/>\n",
              "  </svg>\n",
              "    </button>\n",
              "\n",
              "  <style>\n",
              "    .colab-df-container {\n",
              "      display:flex;\n",
              "      gap: 12px;\n",
              "    }\n",
              "\n",
              "    .colab-df-convert {\n",
              "      background-color: #E8F0FE;\n",
              "      border: none;\n",
              "      border-radius: 50%;\n",
              "      cursor: pointer;\n",
              "      display: none;\n",
              "      fill: #1967D2;\n",
              "      height: 32px;\n",
              "      padding: 0 0 0 0;\n",
              "      width: 32px;\n",
              "    }\n",
              "\n",
              "    .colab-df-convert:hover {\n",
              "      background-color: #E2EBFA;\n",
              "      box-shadow: 0px 1px 2px rgba(60, 64, 67, 0.3), 0px 1px 3px 1px rgba(60, 64, 67, 0.15);\n",
              "      fill: #174EA6;\n",
              "    }\n",
              "\n",
              "    .colab-df-buttons div {\n",
              "      margin-bottom: 4px;\n",
              "    }\n",
              "\n",
              "    [theme=dark] .colab-df-convert {\n",
              "      background-color: #3B4455;\n",
              "      fill: #D2E3FC;\n",
              "    }\n",
              "\n",
              "    [theme=dark] .colab-df-convert:hover {\n",
              "      background-color: #434B5C;\n",
              "      box-shadow: 0px 1px 3px 1px rgba(0, 0, 0, 0.15);\n",
              "      filter: drop-shadow(0px 1px 2px rgba(0, 0, 0, 0.3));\n",
              "      fill: #FFFFFF;\n",
              "    }\n",
              "  </style>\n",
              "\n",
              "    <script>\n",
              "      const buttonEl =\n",
              "        document.querySelector('#df-f224941a-9d99-4489-925c-a1795e7ad2d5 button.colab-df-convert');\n",
              "      buttonEl.style.display =\n",
              "        google.colab.kernel.accessAllowed ? 'block' : 'none';\n",
              "\n",
              "      async function convertToInteractive(key) {\n",
              "        const element = document.querySelector('#df-f224941a-9d99-4489-925c-a1795e7ad2d5');\n",
              "        const dataTable =\n",
              "          await google.colab.kernel.invokeFunction('convertToInteractive',\n",
              "                                                    [key], {});\n",
              "        if (!dataTable) return;\n",
              "\n",
              "        const docLinkHtml = 'Like what you see? Visit the ' +\n",
              "          '<a target=\"_blank\" href=https://colab.research.google.com/notebooks/data_table.ipynb>data table notebook</a>'\n",
              "          + ' to learn more about interactive tables.';\n",
              "        element.innerHTML = '';\n",
              "        dataTable['output_type'] = 'display_data';\n",
              "        await google.colab.output.renderOutput(dataTable, element);\n",
              "        const docLink = document.createElement('div');\n",
              "        docLink.innerHTML = docLinkHtml;\n",
              "        element.appendChild(docLink);\n",
              "      }\n",
              "    </script>\n",
              "  </div>\n",
              "\n",
              "\n",
              "<div id=\"df-e667b462-94ef-4168-a185-d74389b16338\">\n",
              "  <button class=\"colab-df-quickchart\" onclick=\"quickchart('df-e667b462-94ef-4168-a185-d74389b16338')\"\n",
              "            title=\"Suggest charts.\"\n",
              "            style=\"display:none;\">\n",
              "\n",
              "<svg xmlns=\"http://www.w3.org/2000/svg\" height=\"24px\"viewBox=\"0 0 24 24\"\n",
              "     width=\"24px\">\n",
              "    <g>\n",
              "        <path d=\"M19 3H5c-1.1 0-2 .9-2 2v14c0 1.1.9 2 2 2h14c1.1 0 2-.9 2-2V5c0-1.1-.9-2-2-2zM9 17H7v-7h2v7zm4 0h-2V7h2v10zm4 0h-2v-4h2v4z\"/>\n",
              "    </g>\n",
              "</svg>\n",
              "  </button>\n",
              "\n",
              "<style>\n",
              "  .colab-df-quickchart {\n",
              "      --bg-color: #E8F0FE;\n",
              "      --fill-color: #1967D2;\n",
              "      --hover-bg-color: #E2EBFA;\n",
              "      --hover-fill-color: #174EA6;\n",
              "      --disabled-fill-color: #AAA;\n",
              "      --disabled-bg-color: #DDD;\n",
              "  }\n",
              "\n",
              "  [theme=dark] .colab-df-quickchart {\n",
              "      --bg-color: #3B4455;\n",
              "      --fill-color: #D2E3FC;\n",
              "      --hover-bg-color: #434B5C;\n",
              "      --hover-fill-color: #FFFFFF;\n",
              "      --disabled-bg-color: #3B4455;\n",
              "      --disabled-fill-color: #666;\n",
              "  }\n",
              "\n",
              "  .colab-df-quickchart {\n",
              "    background-color: var(--bg-color);\n",
              "    border: none;\n",
              "    border-radius: 50%;\n",
              "    cursor: pointer;\n",
              "    display: none;\n",
              "    fill: var(--fill-color);\n",
              "    height: 32px;\n",
              "    padding: 0;\n",
              "    width: 32px;\n",
              "  }\n",
              "\n",
              "  .colab-df-quickchart:hover {\n",
              "    background-color: var(--hover-bg-color);\n",
              "    box-shadow: 0 1px 2px rgba(60, 64, 67, 0.3), 0 1px 3px 1px rgba(60, 64, 67, 0.15);\n",
              "    fill: var(--button-hover-fill-color);\n",
              "  }\n",
              "\n",
              "  .colab-df-quickchart-complete:disabled,\n",
              "  .colab-df-quickchart-complete:disabled:hover {\n",
              "    background-color: var(--disabled-bg-color);\n",
              "    fill: var(--disabled-fill-color);\n",
              "    box-shadow: none;\n",
              "  }\n",
              "\n",
              "  .colab-df-spinner {\n",
              "    border: 2px solid var(--fill-color);\n",
              "    border-color: transparent;\n",
              "    border-bottom-color: var(--fill-color);\n",
              "    animation:\n",
              "      spin 1s steps(1) infinite;\n",
              "  }\n",
              "\n",
              "  @keyframes spin {\n",
              "    0% {\n",
              "      border-color: transparent;\n",
              "      border-bottom-color: var(--fill-color);\n",
              "      border-left-color: var(--fill-color);\n",
              "    }\n",
              "    20% {\n",
              "      border-color: transparent;\n",
              "      border-left-color: var(--fill-color);\n",
              "      border-top-color: var(--fill-color);\n",
              "    }\n",
              "    30% {\n",
              "      border-color: transparent;\n",
              "      border-left-color: var(--fill-color);\n",
              "      border-top-color: var(--fill-color);\n",
              "      border-right-color: var(--fill-color);\n",
              "    }\n",
              "    40% {\n",
              "      border-color: transparent;\n",
              "      border-right-color: var(--fill-color);\n",
              "      border-top-color: var(--fill-color);\n",
              "    }\n",
              "    60% {\n",
              "      border-color: transparent;\n",
              "      border-right-color: var(--fill-color);\n",
              "    }\n",
              "    80% {\n",
              "      border-color: transparent;\n",
              "      border-right-color: var(--fill-color);\n",
              "      border-bottom-color: var(--fill-color);\n",
              "    }\n",
              "    90% {\n",
              "      border-color: transparent;\n",
              "      border-bottom-color: var(--fill-color);\n",
              "    }\n",
              "  }\n",
              "</style>\n",
              "\n",
              "  <script>\n",
              "    async function quickchart(key) {\n",
              "      const quickchartButtonEl =\n",
              "        document.querySelector('#' + key + ' button');\n",
              "      quickchartButtonEl.disabled = true;  // To prevent multiple clicks.\n",
              "      quickchartButtonEl.classList.add('colab-df-spinner');\n",
              "      try {\n",
              "        const charts = await google.colab.kernel.invokeFunction(\n",
              "            'suggestCharts', [key], {});\n",
              "      } catch (error) {\n",
              "        console.error('Error during call to suggestCharts:', error);\n",
              "      }\n",
              "      quickchartButtonEl.classList.remove('colab-df-spinner');\n",
              "      quickchartButtonEl.classList.add('colab-df-quickchart-complete');\n",
              "    }\n",
              "    (() => {\n",
              "      let quickchartButtonEl =\n",
              "        document.querySelector('#df-e667b462-94ef-4168-a185-d74389b16338 button');\n",
              "      quickchartButtonEl.style.display =\n",
              "        google.colab.kernel.accessAllowed ? 'block' : 'none';\n",
              "    })();\n",
              "  </script>\n",
              "</div>\n",
              "    </div>\n",
              "  </div>\n"
            ]
          },
          "metadata": {},
          "execution_count": 9
        }
      ]
    },
    {
      "cell_type": "markdown",
      "source": [
        "Count the number of comments per label"
      ],
      "metadata": {
        "id": "5SrDc_LBDdpO"
      }
    },
    {
      "cell_type": "code",
      "source": [
        "fig = plt.figure(figsize=(8,6))\n",
        "ax = fig.add_axes([0,0,1,1])\n",
        "total_count = []\n",
        "for label in labels:\n",
        "    total_count.append(len(train_labels[train_labels[label] == 1]))\n",
        "ax.bar(labels,total_count, color=['red', 'green', 'blue', 'purple', 'orange', 'yellow'])\n",
        "for i,data in enumerate(total_count):\n",
        "    plt.text(i-.25,\n",
        "              data/total_count[i]+100,\n",
        "              total_count[i],\n",
        "              fontsize=12)\n",
        "plt.title('Number of comments per label')\n",
        "plt.xlabel('Labels')\n",
        "plt.ylabel('Number of comments')\n",
        "\n",
        "plt.show()"
      ],
      "metadata": {
        "colab": {
          "base_uri": "https://localhost:8080/",
          "height": 702
        },
        "id": "CqFw6M_SDdpO",
        "outputId": "3b73017e-0246-464f-870a-8a38bc0e84b7"
      },
      "execution_count": 10,
      "outputs": [
        {
          "output_type": "display_data",
          "data": {
            "text/plain": [
              "<Figure size 800x600 with 1 Axes>"
            ],
            "image/png": "[encoded data removed]"
          },
          "metadata": {}
        }
      ]
    },
    {
      "cell_type": "markdown",
      "source": [
        "For our purpose we are going to use OneVsRest classifier as the others are more complex and would take a considerable amount of time. OneVsRest classifier basically takes a classifier algorithm as a parameter and uses it to do a binary classification for each label in the dataset. We will also use pipelines to streamline the process by adding all estimators we need to be executed one after anoter. As the content we are going to analise is text we need first convert it into numeric values in order for our model to be able to process it. This is done by vectorizer algorithms that use different methods for comparing and weighing the relation between words in a single document and their relations in the whole corpus. They first collect all the unique words in a document(comment in our case) and build a dictionary of them and then vectorise each one giving it a specific weigth based on how much a word relates to a specific label within the whole corpus(the collection of all comments in our dataset). We are going to use TfidfVectorizer which is one of the widely used vectorisers."
      ],
      "metadata": {
        "id": "_yI02cvNDdpO"
      }
    },
    {
      "cell_type": "markdown",
      "source": [
        "## Creating baseline models\n",
        "\n",
        "In order to choose our best classifier and improve it further we are going to test tree different classifiers - **NaiveBayes, LogisticRegression and SVM with linear kernel** using their default parameters.\n",
        "    \n",
        "The еvaluation metrics we are going to use to judge our models :\n",
        "    \n",
        "    As specified in the competition requirements we need to use AUC.\n",
        "    \n",
        "    As suggested in some other articles we will also use micro-averaging for all labels of precision, recall and F1-score\n",
        "    \n",
        "LinearSVM algorithm does not have a predict_proba method which makes it impossible to use roc_auc_score for this model. I tried with SVC(kernel='linear',probability=True) which should make it possible but it took forever to compute so I just had to abandon it. We will just use acuracy_score and micro_averages F1-score."
      ],
      "metadata": {
        "id": "1DBeUvPhDdpP"
      }
    },
    {
      "cell_type": "code",
      "source": [
        "NB_pipeline = Pipeline([('tfidf', TfidfVectorizer(stop_words='english')),\n",
        "                       ('nb_model', OneVsRestClassifier(MultinomialNB(), n_jobs=-1))])\n",
        "\n",
        "LR_pipeline = Pipeline([('tfidf', TfidfVectorizer(stop_words='english')),\n",
        "                       ('lr_model', OneVsRestClassifier(LogisticRegression(), n_jobs=-1))])\n",
        "\n",
        "# SVM_pipeline = Pipeline([('tfidf', TfidfVectorizer(stop_words='english')),\n",
        "#                        ('svm_model', OneVsRestClassifier(SVC(kernel='linear',probability=True)))])\n",
        "\n",
        "SVM_pipeline = Pipeline([('tfidf', TfidfVectorizer(stop_words='english')),\n",
        "                       ('svm_model', OneVsRestClassifier(LinearSVC(), n_jobs=-1))])\n",
        "\n",
        "def plot_roc_curve(test_features, predict_prob):\n",
        "    fpr, tpr, thresholds = roc_curve(test_features, predict_prob)\n",
        "    plt.plot(fpr, tpr)\n",
        "    plt.xlim([0.0, 1.0])\n",
        "    plt.ylim([0.0, 1.0])\n",
        "    plt.title('ROC curve for toxic comments')\n",
        "    plt.xlabel('False Positive Rate')\n",
        "    plt.ylabel('True Positive Rate')\n",
        "    plt.grid(True)\n",
        "    plt.legend(labels)\n",
        "\n",
        "def run_pipeline(pipeline, train_feats, train_lbls, test_feats, test_lbls):\n",
        "    pipeline.fit(train_feats, train_labels)\n",
        "    predictions = pipeline.predict(test_feats)\n",
        "    pred_proba = pipeline.predict_proba(test_feats)\n",
        "    print('roc_auc: ', roc_auc_score(test_lbls, pred_proba))\n",
        "    print('accuracy: ', accuracy_score(test_lbls, predictions))\n",
        "    print('confusion matrices: ')\n",
        "    print(multilabel_confusion_matrix(test_lbls, predictions))\n",
        "    print('classification_report: ')\n",
        "    print(classification_report(test_lbls, predictions, target_names=labels))\n",
        "\n",
        "def run_SVM_pipeline(pipeline, train_feats, train_lbls, test_feats, test_lbls):\n",
        "    pipeline.fit(train_feats, train_labels)\n",
        "    predictions = pipeline.predict(test_feats)\n",
        "    print('accuracy: ', accuracy_score(test_lbls, predictions))\n",
        "    print('confusion matrices: ')\n",
        "    print(multilabel_confusion_matrix(test_lbls, predictions))\n",
        "    print('classification_report: ')\n",
        "    print(classification_report(test_lbls, predictions, target_names=labels))\n",
        "\n",
        "def plot_pipeline_roc_curve(pipeline, train_feats, train_lbls, test_feats, test_lbls):\n",
        "    for label in labels:\n",
        "        pipeline.fit(train_feats, train_set[label])\n",
        "        pred_proba = pipeline.predict_proba(test_feats)[:,1]\n",
        "        plot_roc_curve(test_lbls[label], pred_proba)\n"
      ],
      "metadata": {
        "id": "IChG-3uBDdpP"
      },
      "execution_count": 11,
      "outputs": []
    },
    {
      "cell_type": "code",
      "source": [
        "run_pipeline(NB_pipeline, train_features, train_labels, test_features, test_labels)"
      ],
      "metadata": {
        "colab": {
          "base_uri": "https://localhost:8080/"
        },
        "id": "InkTti1ADdpP",
        "outputId": "2e619885-dea8-4f40-df30-c760ac6ef4d0"
      },
      "execution_count": 12,
      "outputs": [
        {
          "output_type": "stream",
          "name": "stdout",
          "text": [
            "roc_auc:  0.8492331250708368\n",
            "accuracy:  0.9030135359029666\n",
            "confusion matrices: \n",
            "[[[57731   157]\n",
            "  [ 4749  1341]]\n",
            "\n",
            " [[63611     0]\n",
            "  [  367     0]]\n",
            "\n",
            " [[60256    31]\n",
            "  [ 3218   473]]\n",
            "\n",
            " [[63767     0]\n",
            "  [  211     0]]\n",
            "\n",
            " [[60517    34]\n",
            "  [ 3245   182]]\n",
            "\n",
            " [[63266     0]\n",
            "  [  712     0]]]\n",
            "classification_report: \n",
            "               precision    recall  f1-score   support\n",
            "\n",
            "        toxic       0.90      0.22      0.35      6090\n",
            " severe_toxic       0.00      0.00      0.00       367\n",
            "      obscene       0.94      0.13      0.23      3691\n",
            "       threat       0.00      0.00      0.00       211\n",
            "       insult       0.84      0.05      0.10      3427\n",
            "identity_hate       0.00      0.00      0.00       712\n",
            "\n",
            "    micro avg       0.90      0.14      0.24     14498\n",
            "    macro avg       0.45      0.07      0.11     14498\n",
            " weighted avg       0.81      0.14      0.23     14498\n",
            "  samples avg       0.02      0.01      0.01     14498\n",
            "\n"
          ]
        }
      ]
    },
    {
      "cell_type": "code",
      "source": [
        "run_pipeline(LR_pipeline, train_features, train_labels, test_features, test_labels)"
      ],
      "metadata": {
        "colab": {
          "base_uri": "https://localhost:8080/"
        },
        "id": "i6f8x33LDdpP",
        "outputId": "461aa53c-540d-4e5f-b74d-51d3ff5b5341"
      },
      "execution_count": 13,
      "outputs": [
        {
          "output_type": "stream",
          "name": "stdout",
          "text": [
            "roc_auc:  0.975079822113272\n",
            "accuracy:  0.8977148394760699\n",
            "confusion matrices: \n",
            "[[[55722  2166]\n",
            "  [ 1892  4198]]\n",
            "\n",
            " [[63431   180]\n",
            "  [  247   120]]\n",
            "\n",
            " [[59560   727]\n",
            "  [ 1448  2243]]\n",
            "\n",
            " [[63727    40]\n",
            "  [  168    43]]\n",
            "\n",
            " [[59904   647]\n",
            "  [ 1704  1723]]\n",
            "\n",
            " [[63200    66]\n",
            "  [  546   166]]]\n",
            "classification_report: \n",
            "               precision    recall  f1-score   support\n",
            "\n",
            "        toxic       0.66      0.69      0.67      6090\n",
            " severe_toxic       0.40      0.33      0.36       367\n",
            "      obscene       0.76      0.61      0.67      3691\n",
            "       threat       0.52      0.20      0.29       211\n",
            "       insult       0.73      0.50      0.59      3427\n",
            "identity_hate       0.72      0.23      0.35       712\n",
            "\n",
            "    micro avg       0.69      0.59      0.63     14498\n",
            "    macro avg       0.63      0.43      0.49     14498\n",
            " weighted avg       0.69      0.59      0.63     14498\n",
            "  samples avg       0.06      0.05      0.05     14498\n",
            "\n"
          ]
        }
      ]
    },
    {
      "cell_type": "code",
      "source": [
        "# run_pipeline(SVM_pipeline, train_features, train_labels, test_features, test_labels)\n",
        "run_SVM_pipeline(SVM_pipeline, train_features, train_labels, test_features, test_labels)"
      ],
      "metadata": {
        "scrolled": true,
        "colab": {
          "base_uri": "https://localhost:8080/"
        },
        "id": "WStH-aCbDdpQ",
        "outputId": "a019d4a7-d79b-41b9-ce98-239eb14dc4df"
      },
      "execution_count": 14,
      "outputs": [
        {
          "output_type": "stream",
          "name": "stdout",
          "text": [
            "accuracy:  0.8813498390071587\n",
            "confusion matrices: \n",
            "[[[54443  3445]\n",
            "  [ 1306  4784]]\n",
            "\n",
            " [[63396   215]\n",
            "  [  237   130]]\n",
            "\n",
            " [[59102  1185]\n",
            "  [ 1138  2553]]\n",
            "\n",
            " [[63697    70]\n",
            "  [  150    61]]\n",
            "\n",
            " [[59625   926]\n",
            "  [ 1487  1940]]\n",
            "\n",
            " [[63146   120]\n",
            "  [  488   224]]]\n",
            "classification_report: \n",
            "               precision    recall  f1-score   support\n",
            "\n",
            "        toxic       0.58      0.79      0.67      6090\n",
            " severe_toxic       0.38      0.35      0.37       367\n",
            "      obscene       0.68      0.69      0.69      3691\n",
            "       threat       0.47      0.29      0.36       211\n",
            "       insult       0.68      0.57      0.62      3427\n",
            "identity_hate       0.65      0.31      0.42       712\n",
            "\n",
            "    micro avg       0.62      0.67      0.64     14498\n",
            "    macro avg       0.57      0.50      0.52     14498\n",
            " weighted avg       0.63      0.67      0.64     14498\n",
            "  samples avg       0.07      0.06      0.06     14498\n",
            "\n"
          ]
        }
      ]
    },
    {
      "cell_type": "markdown",
      "source": [
        "Plot ROC curve for LogisticRegression model"
      ],
      "metadata": {
        "id": "vfNwWSKIDdpQ"
      }
    },
    {
      "cell_type": "code",
      "source": [
        "plot_pipeline_roc_curve(LR_pipeline, train_features, train_labels, test_features, test_labels)"
      ],
      "metadata": {
        "colab": {
          "base_uri": "https://localhost:8080/",
          "height": 789
        },
        "id": "5MJLiedFDdpQ",
        "outputId": "68e27776-05a4-4fbe-a018-88401a9b83c0"
      },
      "execution_count": 15,
      "outputs": [
        {
          "output_type": "error",
          "ename": "KeyboardInterrupt",
          "evalue": "ignored",
          "traceback": [
            "\u001b[0;31m---------------------------------------------------------------------------\u001b[0m",
            "\u001b[0;31mKeyboardInterrupt\u001b[0m                         Traceback (most recent call last)",
            "\u001b[0;32m<ipython-input-15-66cfff3ad48d>\u001b[0m in \u001b[0;36m<cell line: 1>\u001b[0;34m()\u001b[0m\n\u001b[0;32m----> 1\u001b[0;31m \u001b[0mplot_pipeline_roc_curve\u001b[0m\u001b[0;34m(\u001b[0m\u001b[0mLR_pipeline\u001b[0m\u001b[0;34m,\u001b[0m \u001b[0mtrain_features\u001b[0m\u001b[0;34m,\u001b[0m \u001b[0mtrain_labels\u001b[0m\u001b[0;34m,\u001b[0m \u001b[0mtest_features\u001b[0m\u001b[0;34m,\u001b[0m \u001b[0mtest_labels\u001b[0m\u001b[0;34m)\u001b[0m\u001b[0;34m\u001b[0m\u001b[0;34m\u001b[0m\u001b[0m\n\u001b[0m",
            "\u001b[0;32m<ipython-input-11-b6cb28b8560d>\u001b[0m in \u001b[0;36mplot_pipeline_roc_curve\u001b[0;34m(pipeline, train_feats, train_lbls, test_feats, test_lbls)\u001b[0m\n\u001b[1;32m     44\u001b[0m \u001b[0;32mdef\u001b[0m \u001b[0mplot_pipeline_roc_curve\u001b[0m\u001b[0;34m(\u001b[0m\u001b[0mpipeline\u001b[0m\u001b[0;34m,\u001b[0m \u001b[0mtrain_feats\u001b[0m\u001b[0;34m,\u001b[0m \u001b[0mtrain_lbls\u001b[0m\u001b[0;34m,\u001b[0m \u001b[0mtest_feats\u001b[0m\u001b[0;34m,\u001b[0m \u001b[0mtest_lbls\u001b[0m\u001b[0;34m)\u001b[0m\u001b[0;34m:\u001b[0m\u001b[0;34m\u001b[0m\u001b[0;34m\u001b[0m\u001b[0m\n\u001b[1;32m     45\u001b[0m     \u001b[0;32mfor\u001b[0m \u001b[0mlabel\u001b[0m \u001b[0;32min\u001b[0m \u001b[0mlabels\u001b[0m\u001b[0;34m:\u001b[0m\u001b[0;34m\u001b[0m\u001b[0;34m\u001b[0m\u001b[0m\n\u001b[0;32m---> 46\u001b[0;31m         \u001b[0mpipeline\u001b[0m\u001b[0;34m.\u001b[0m\u001b[0mfit\u001b[0m\u001b[0;34m(\u001b[0m\u001b[0mtrain_feats\u001b[0m\u001b[0;34m,\u001b[0m \u001b[0mtrain_set\u001b[0m\u001b[0;34m[\u001b[0m\u001b[0mlabel\u001b[0m\u001b[0;34m]\u001b[0m\u001b[0;34m)\u001b[0m\u001b[0;34m\u001b[0m\u001b[0;34m\u001b[0m\u001b[0m\n\u001b[0m\u001b[1;32m     47\u001b[0m         \u001b[0mpred_proba\u001b[0m \u001b[0;34m=\u001b[0m \u001b[0mpipeline\u001b[0m\u001b[0;34m.\u001b[0m\u001b[0mpredict_proba\u001b[0m\u001b[0;34m(\u001b[0m\u001b[0mtest_feats\u001b[0m\u001b[0;34m)\u001b[0m\u001b[0;34m[\u001b[0m\u001b[0;34m:\u001b[0m\u001b[0;34m,\u001b[0m\u001b[0;36m1\u001b[0m\u001b[0;34m]\u001b[0m\u001b[0;34m\u001b[0m\u001b[0;34m\u001b[0m\u001b[0m\n\u001b[1;32m     48\u001b[0m         \u001b[0mplot_roc_curve\u001b[0m\u001b[0;34m(\u001b[0m\u001b[0mtest_lbls\u001b[0m\u001b[0;34m[\u001b[0m\u001b[0mlabel\u001b[0m\u001b[0;34m]\u001b[0m\u001b[0;34m,\u001b[0m \u001b[0mpred_proba\u001b[0m\u001b[0;34m)\u001b[0m\u001b[0;34m\u001b[0m\u001b[0;34m\u001b[0m\u001b[0m\n",
            "\u001b[0;32m/usr/local/lib/python3.10/dist-packages/sklearn/pipeline.py\u001b[0m in \u001b[0;36mfit\u001b[0;34m(self, X, y, **fit_params)\u001b[0m\n\u001b[1;32m    399\u001b[0m         \"\"\"\n\u001b[1;32m    400\u001b[0m         \u001b[0mfit_params_steps\u001b[0m \u001b[0;34m=\u001b[0m \u001b[0mself\u001b[0m\u001b[0;34m.\u001b[0m\u001b[0m_check_fit_params\u001b[0m\u001b[0;34m(\u001b[0m\u001b[0;34m**\u001b[0m\u001b[0mfit_params\u001b[0m\u001b[0;34m)\u001b[0m\u001b[0;34m\u001b[0m\u001b[0;34m\u001b[0m\u001b[0m\n\u001b[0;32m--> 401\u001b[0;31m         \u001b[0mXt\u001b[0m \u001b[0;34m=\u001b[0m \u001b[0mself\u001b[0m\u001b[0;34m.\u001b[0m\u001b[0m_fit\u001b[0m\u001b[0;34m(\u001b[0m\u001b[0mX\u001b[0m\u001b[0;34m,\u001b[0m \u001b[0my\u001b[0m\u001b[0;34m,\u001b[0m \u001b[0;34m**\u001b[0m\u001b[0mfit_params_steps\u001b[0m\u001b[0;34m)\u001b[0m\u001b[0;34m\u001b[0m\u001b[0;34m\u001b[0m\u001b[0m\n\u001b[0m\u001b[1;32m    402\u001b[0m         \u001b[0;32mwith\u001b[0m \u001b[0m_print_elapsed_time\u001b[0m\u001b[0;34m(\u001b[0m\u001b[0;34m\"Pipeline\"\u001b[0m\u001b[0;34m,\u001b[0m \u001b[0mself\u001b[0m\u001b[0;34m.\u001b[0m\u001b[0m_log_message\u001b[0m\u001b[0;34m(\u001b[0m\u001b[0mlen\u001b[0m\u001b[0;34m(\u001b[0m\u001b[0mself\u001b[0m\u001b[0;34m.\u001b[0m\u001b[0msteps\u001b[0m\u001b[0;34m)\u001b[0m \u001b[0;34m-\u001b[0m \u001b[0;36m1\u001b[0m\u001b[0;34m)\u001b[0m\u001b[0;34m)\u001b[0m\u001b[0;34m:\u001b[0m\u001b[0;34m\u001b[0m\u001b[0;34m\u001b[0m\u001b[0m\n\u001b[1;32m    403\u001b[0m             \u001b[0;32mif\u001b[0m \u001b[0mself\u001b[0m\u001b[0;34m.\u001b[0m\u001b[0m_final_estimator\u001b[0m \u001b[0;34m!=\u001b[0m \u001b[0;34m\"passthrough\"\u001b[0m\u001b[0;34m:\u001b[0m\u001b[0;34m\u001b[0m\u001b[0;34m\u001b[0m\u001b[0m\n",
            "\u001b[0;32m/usr/local/lib/python3.10/dist-packages/sklearn/pipeline.py\u001b[0m in \u001b[0;36m_fit\u001b[0;34m(self, X, y, **fit_params_steps)\u001b[0m\n\u001b[1;32m    357\u001b[0m                 \u001b[0mcloned_transformer\u001b[0m \u001b[0;34m=\u001b[0m \u001b[0mclone\u001b[0m\u001b[0;34m(\u001b[0m\u001b[0mtransformer\u001b[0m\u001b[0;34m)\u001b[0m\u001b[0;34m\u001b[0m\u001b[0;34m\u001b[0m\u001b[0m\n\u001b[1;32m    358\u001b[0m             \u001b[0;31m# Fit or load from cache the current transformer\u001b[0m\u001b[0;34m\u001b[0m\u001b[0;34m\u001b[0m\u001b[0m\n\u001b[0;32m--> 359\u001b[0;31m             X, fitted_transformer = fit_transform_one_cached(\n\u001b[0m\u001b[1;32m    360\u001b[0m                 \u001b[0mcloned_transformer\u001b[0m\u001b[0;34m,\u001b[0m\u001b[0;34m\u001b[0m\u001b[0;34m\u001b[0m\u001b[0m\n\u001b[1;32m    361\u001b[0m                 \u001b[0mX\u001b[0m\u001b[0;34m,\u001b[0m\u001b[0;34m\u001b[0m\u001b[0;34m\u001b[0m\u001b[0m\n",
            "\u001b[0;32m/usr/local/lib/python3.10/dist-packages/joblib/memory.py\u001b[0m in \u001b[0;36m__call__\u001b[0;34m(self, *args, **kwargs)\u001b[0m\n\u001b[1;32m    351\u001b[0m \u001b[0;34m\u001b[0m\u001b[0m\n\u001b[1;32m    352\u001b[0m     \u001b[0;32mdef\u001b[0m \u001b[0m__call__\u001b[0m\u001b[0;34m(\u001b[0m\u001b[0mself\u001b[0m\u001b[0;34m,\u001b[0m \u001b[0;34m*\u001b[0m\u001b[0margs\u001b[0m\u001b[0;34m,\u001b[0m \u001b[0;34m**\u001b[0m\u001b[0mkwargs\u001b[0m\u001b[0;34m)\u001b[0m\u001b[0;34m:\u001b[0m\u001b[0;34m\u001b[0m\u001b[0;34m\u001b[0m\u001b[0m\n\u001b[0;32m--> 353\u001b[0;31m         \u001b[0;32mreturn\u001b[0m \u001b[0mself\u001b[0m\u001b[0;34m.\u001b[0m\u001b[0mfunc\u001b[0m\u001b[0;34m(\u001b[0m\u001b[0;34m*\u001b[0m\u001b[0margs\u001b[0m\u001b[0;34m,\u001b[0m \u001b[0;34m**\u001b[0m\u001b[0mkwargs\u001b[0m\u001b[0;34m)\u001b[0m\u001b[0;34m\u001b[0m\u001b[0;34m\u001b[0m\u001b[0m\n\u001b[0m\u001b[1;32m    354\u001b[0m \u001b[0;34m\u001b[0m\u001b[0m\n\u001b[1;32m    355\u001b[0m     \u001b[0;32mdef\u001b[0m \u001b[0mcall_and_shelve\u001b[0m\u001b[0;34m(\u001b[0m\u001b[0mself\u001b[0m\u001b[0;34m,\u001b[0m \u001b[0;34m*\u001b[0m\u001b[0margs\u001b[0m\u001b[0;34m,\u001b[0m \u001b[0;34m**\u001b[0m\u001b[0mkwargs\u001b[0m\u001b[0;34m)\u001b[0m\u001b[0;34m:\u001b[0m\u001b[0;34m\u001b[0m\u001b[0;34m\u001b[0m\u001b[0m\n",
            "\u001b[0;32m/usr/local/lib/python3.10/dist-packages/sklearn/pipeline.py\u001b[0m in \u001b[0;36m_fit_transform_one\u001b[0;34m(transformer, X, y, weight, message_clsname, message, **fit_params)\u001b[0m\n\u001b[1;32m    891\u001b[0m     \u001b[0;32mwith\u001b[0m \u001b[0m_print_elapsed_time\u001b[0m\u001b[0;34m(\u001b[0m\u001b[0mmessage_clsname\u001b[0m\u001b[0;34m,\u001b[0m \u001b[0mmessage\u001b[0m\u001b[0;34m)\u001b[0m\u001b[0;34m:\u001b[0m\u001b[0;34m\u001b[0m\u001b[0;34m\u001b[0m\u001b[0m\n\u001b[1;32m    892\u001b[0m         \u001b[0;32mif\u001b[0m \u001b[0mhasattr\u001b[0m\u001b[0;34m(\u001b[0m\u001b[0mtransformer\u001b[0m\u001b[0;34m,\u001b[0m \u001b[0;34m\"fit_transform\"\u001b[0m\u001b[0;34m)\u001b[0m\u001b[0;34m:\u001b[0m\u001b[0;34m\u001b[0m\u001b[0;34m\u001b[0m\u001b[0m\n\u001b[0;32m--> 893\u001b[0;31m             \u001b[0mres\u001b[0m \u001b[0;34m=\u001b[0m \u001b[0mtransformer\u001b[0m\u001b[0;34m.\u001b[0m\u001b[0mfit_transform\u001b[0m\u001b[0;34m(\u001b[0m\u001b[0mX\u001b[0m\u001b[0;34m,\u001b[0m \u001b[0my\u001b[0m\u001b[0;34m,\u001b[0m \u001b[0;34m**\u001b[0m\u001b[0mfit_params\u001b[0m\u001b[0;34m)\u001b[0m\u001b[0;34m\u001b[0m\u001b[0;34m\u001b[0m\u001b[0m\n\u001b[0m\u001b[1;32m    894\u001b[0m         \u001b[0;32melse\u001b[0m\u001b[0;34m:\u001b[0m\u001b[0;34m\u001b[0m\u001b[0;34m\u001b[0m\u001b[0m\n\u001b[1;32m    895\u001b[0m             \u001b[0mres\u001b[0m \u001b[0;34m=\u001b[0m \u001b[0mtransformer\u001b[0m\u001b[0;34m.\u001b[0m\u001b[0mfit\u001b[0m\u001b[0;34m(\u001b[0m\u001b[0mX\u001b[0m\u001b[0;34m,\u001b[0m \u001b[0my\u001b[0m\u001b[0;34m,\u001b[0m \u001b[0;34m**\u001b[0m\u001b[0mfit_params\u001b[0m\u001b[0;34m)\u001b[0m\u001b[0;34m.\u001b[0m\u001b[0mtransform\u001b[0m\u001b[0;34m(\u001b[0m\u001b[0mX\u001b[0m\u001b[0;34m)\u001b[0m\u001b[0;34m\u001b[0m\u001b[0;34m\u001b[0m\u001b[0m\n",
            "\u001b[0;32m/usr/local/lib/python3.10/dist-packages/sklearn/feature_extraction/text.py\u001b[0m in \u001b[0;36mfit_transform\u001b[0;34m(self, raw_documents, y)\u001b[0m\n\u001b[1;32m   2131\u001b[0m             \u001b[0msublinear_tf\u001b[0m\u001b[0;34m=\u001b[0m\u001b[0mself\u001b[0m\u001b[0;34m.\u001b[0m\u001b[0msublinear_tf\u001b[0m\u001b[0;34m,\u001b[0m\u001b[0;34m\u001b[0m\u001b[0;34m\u001b[0m\u001b[0m\n\u001b[1;32m   2132\u001b[0m         )\n\u001b[0;32m-> 2133\u001b[0;31m         \u001b[0mX\u001b[0m \u001b[0;34m=\u001b[0m \u001b[0msuper\u001b[0m\u001b[0;34m(\u001b[0m\u001b[0;34m)\u001b[0m\u001b[0;34m.\u001b[0m\u001b[0mfit_transform\u001b[0m\u001b[0;34m(\u001b[0m\u001b[0mraw_documents\u001b[0m\u001b[0;34m)\u001b[0m\u001b[0;34m\u001b[0m\u001b[0;34m\u001b[0m\u001b[0m\n\u001b[0m\u001b[1;32m   2134\u001b[0m         \u001b[0mself\u001b[0m\u001b[0;34m.\u001b[0m\u001b[0m_tfidf\u001b[0m\u001b[0;34m.\u001b[0m\u001b[0mfit\u001b[0m\u001b[0;34m(\u001b[0m\u001b[0mX\u001b[0m\u001b[0;34m)\u001b[0m\u001b[0;34m\u001b[0m\u001b[0;34m\u001b[0m\u001b[0m\n\u001b[1;32m   2135\u001b[0m         \u001b[0;31m# X is already a transformed view of raw_documents so\u001b[0m\u001b[0;34m\u001b[0m\u001b[0;34m\u001b[0m\u001b[0m\n",
            "\u001b[0;32m/usr/local/lib/python3.10/dist-packages/sklearn/feature_extraction/text.py\u001b[0m in \u001b[0;36mfit_transform\u001b[0;34m(self, raw_documents, y)\u001b[0m\n\u001b[1;32m   1386\u001b[0m                     \u001b[0;32mbreak\u001b[0m\u001b[0;34m\u001b[0m\u001b[0;34m\u001b[0m\u001b[0m\n\u001b[1;32m   1387\u001b[0m \u001b[0;34m\u001b[0m\u001b[0m\n\u001b[0;32m-> 1388\u001b[0;31m         \u001b[0mvocabulary\u001b[0m\u001b[0;34m,\u001b[0m \u001b[0mX\u001b[0m \u001b[0;34m=\u001b[0m \u001b[0mself\u001b[0m\u001b[0;34m.\u001b[0m\u001b[0m_count_vocab\u001b[0m\u001b[0;34m(\u001b[0m\u001b[0mraw_documents\u001b[0m\u001b[0;34m,\u001b[0m \u001b[0mself\u001b[0m\u001b[0;34m.\u001b[0m\u001b[0mfixed_vocabulary_\u001b[0m\u001b[0;34m)\u001b[0m\u001b[0;34m\u001b[0m\u001b[0;34m\u001b[0m\u001b[0m\n\u001b[0m\u001b[1;32m   1389\u001b[0m \u001b[0;34m\u001b[0m\u001b[0m\n\u001b[1;32m   1390\u001b[0m         \u001b[0;32mif\u001b[0m \u001b[0mself\u001b[0m\u001b[0;34m.\u001b[0m\u001b[0mbinary\u001b[0m\u001b[0;34m:\u001b[0m\u001b[0;34m\u001b[0m\u001b[0;34m\u001b[0m\u001b[0m\n",
            "\u001b[0;32m/usr/local/lib/python3.10/dist-packages/sklearn/feature_extraction/text.py\u001b[0m in \u001b[0;36m_count_vocab\u001b[0;34m(self, raw_documents, fixed_vocab)\u001b[0m\n\u001b[1;32m   1273\u001b[0m         \u001b[0;32mfor\u001b[0m \u001b[0mdoc\u001b[0m \u001b[0;32min\u001b[0m \u001b[0mraw_documents\u001b[0m\u001b[0;34m:\u001b[0m\u001b[0;34m\u001b[0m\u001b[0;34m\u001b[0m\u001b[0m\n\u001b[1;32m   1274\u001b[0m             \u001b[0mfeature_counter\u001b[0m \u001b[0;34m=\u001b[0m \u001b[0;34m{\u001b[0m\u001b[0;34m}\u001b[0m\u001b[0;34m\u001b[0m\u001b[0;34m\u001b[0m\u001b[0m\n\u001b[0;32m-> 1275\u001b[0;31m             \u001b[0;32mfor\u001b[0m \u001b[0mfeature\u001b[0m \u001b[0;32min\u001b[0m \u001b[0manalyze\u001b[0m\u001b[0;34m(\u001b[0m\u001b[0mdoc\u001b[0m\u001b[0;34m)\u001b[0m\u001b[0;34m:\u001b[0m\u001b[0;34m\u001b[0m\u001b[0;34m\u001b[0m\u001b[0m\n\u001b[0m\u001b[1;32m   1276\u001b[0m                 \u001b[0;32mtry\u001b[0m\u001b[0;34m:\u001b[0m\u001b[0;34m\u001b[0m\u001b[0;34m\u001b[0m\u001b[0m\n\u001b[1;32m   1277\u001b[0m                     \u001b[0mfeature_idx\u001b[0m \u001b[0;34m=\u001b[0m \u001b[0mvocabulary\u001b[0m\u001b[0;34m[\u001b[0m\u001b[0mfeature\u001b[0m\u001b[0;34m]\u001b[0m\u001b[0;34m\u001b[0m\u001b[0;34m\u001b[0m\u001b[0m\n",
            "\u001b[0;32m/usr/local/lib/python3.10/dist-packages/sklearn/feature_extraction/text.py\u001b[0m in \u001b[0;36m_analyze\u001b[0;34m(doc, analyzer, tokenizer, ngrams, preprocessor, decoder, stop_words)\u001b[0m\n\u001b[1;32m    111\u001b[0m             \u001b[0mdoc\u001b[0m \u001b[0;34m=\u001b[0m \u001b[0mpreprocessor\u001b[0m\u001b[0;34m(\u001b[0m\u001b[0mdoc\u001b[0m\u001b[0;34m)\u001b[0m\u001b[0;34m\u001b[0m\u001b[0;34m\u001b[0m\u001b[0m\n\u001b[1;32m    112\u001b[0m         \u001b[0;32mif\u001b[0m \u001b[0mtokenizer\u001b[0m \u001b[0;32mis\u001b[0m \u001b[0;32mnot\u001b[0m \u001b[0;32mNone\u001b[0m\u001b[0;34m:\u001b[0m\u001b[0;34m\u001b[0m\u001b[0;34m\u001b[0m\u001b[0m\n\u001b[0;32m--> 113\u001b[0;31m             \u001b[0mdoc\u001b[0m \u001b[0;34m=\u001b[0m \u001b[0mtokenizer\u001b[0m\u001b[0;34m(\u001b[0m\u001b[0mdoc\u001b[0m\u001b[0;34m)\u001b[0m\u001b[0;34m\u001b[0m\u001b[0;34m\u001b[0m\u001b[0m\n\u001b[0m\u001b[1;32m    114\u001b[0m         \u001b[0;32mif\u001b[0m \u001b[0mngrams\u001b[0m \u001b[0;32mis\u001b[0m \u001b[0;32mnot\u001b[0m \u001b[0;32mNone\u001b[0m\u001b[0;34m:\u001b[0m\u001b[0;34m\u001b[0m\u001b[0;34m\u001b[0m\u001b[0m\n\u001b[1;32m    115\u001b[0m             \u001b[0;32mif\u001b[0m \u001b[0mstop_words\u001b[0m \u001b[0;32mis\u001b[0m \u001b[0;32mnot\u001b[0m \u001b[0;32mNone\u001b[0m\u001b[0;34m:\u001b[0m\u001b[0;34m\u001b[0m\u001b[0;34m\u001b[0m\u001b[0m\n",
            "\u001b[0;31mKeyboardInterrupt\u001b[0m: "
          ]
        },
        {
          "output_type": "display_data",
          "data": {
            "text/plain": [
              "<Figure size 640x480 with 1 Axes>"
            ],
            "image/png": "[encoded data removed]"
          },
          "metadata": {}
        }
      ]
    },
    {
      "cell_type": "markdown",
      "source": [
        "Plot ROC curve for NaiveBayes model"
      ],
      "metadata": {
        "id": "K39reBwSDdpQ"
      }
    },
    {
      "cell_type": "code",
      "source": [
        "plot_pipeline_roc_curve(NB_pipeline, train_features, train_labels, test_features, test_labels)"
      ],
      "metadata": {
        "id": "x-2RppFRDdpR"
      },
      "execution_count": null,
      "outputs": []
    },
    {
      "cell_type": "markdown",
      "source": [
        "## Hyperparameter tunning\n",
        "\n",
        "We select the LogisticRegression classifier as our best and will try to improve our results with the following techniques:\n",
        "    improve the tf-idf vectorizer's parameters\n",
        "    improve the tf-idf vectorizer by cleaning the text of the comments\n",
        "    improve the logistic regression's parameters\n",
        "    \n",
        "We checked the distribution of samples in our dataset earlier and we saw that it was highly unbalanced - 90% features with no labels and 10% features with one or more labels.\n",
        "In this situation in case of bynary or multiclass classification we would be able to use GridSearch with StratifiedKFold cross validation splits to test a set of different parameters for every algorithm in our pipeline. In our case though, the StratifiedKFold does not suppport multi-label and using just KFold would not yeld any useful data splits. I decided to give it a try anyway to prove this or burst it."
      ],
      "metadata": {
        "id": "7IVyc0XoDdpR"
      }
    },
    {
      "cell_type": "code",
      "source": [
        "# TAKES ABOUT 40min to run\n",
        "# alpha = [0.1,1,10]\n",
        "# penalty=['l1','l2']\n",
        "# n_gram=[(1,1),(1,2)]\n",
        "# param_grid = {\n",
        "#     'tfidf__ngram_range': n_gram,\n",
        "#     'lr_model__estimator__C': alpha\n",
        "# }\n",
        "# gsearch_cv = GridSearchCV(LR_pipeline, param_grid=param_grid, cv=5)\n",
        "# gsearch_cv.fit(train_features, train_labels)"
      ],
      "metadata": {
        "id": "auiaZsI8DdpR"
      },
      "execution_count": null,
      "outputs": []
    },
    {
      "cell_type": "code",
      "source": [
        "#gsearch_cv.best_score_\n",
        "# 0.919784923325667"
      ],
      "metadata": {
        "id": "QhWcuKcpDdpS"
      },
      "execution_count": null,
      "outputs": []
    },
    {
      "cell_type": "code",
      "source": [
        "#gsearch_cv.best_params_\n",
        "# {'lr_model__estimator__C': 10, 'tfidf__ngram_range': (1, 2)}"
      ],
      "metadata": {
        "id": "82AOG8C2DdpS"
      },
      "execution_count": null,
      "outputs": []
    },
    {
      "cell_type": "code",
      "source": [
        "LR_pipeline = Pipeline([('tfidf', TfidfVectorizer(stop_words='english', ngram_range=(1, 2))),\n",
        "                       ('lr_model', OneVsRestClassifier(LogisticRegression(C=10), n_jobs=-1))])"
      ],
      "metadata": {
        "scrolled": true,
        "id": "WW6mSLU8DdpS"
      },
      "execution_count": null,
      "outputs": []
    },
    {
      "cell_type": "code",
      "source": [
        "run_pipeline(LR_pipeline, train_features, train_labels, test_features, test_labels)"
      ],
      "metadata": {
        "id": "Tv5cfyNQDdpT"
      },
      "execution_count": null,
      "outputs": []
    },
    {
      "cell_type": "markdown",
      "source": [
        "Running the pipeline with the suggested best parameters actually resulted in getting a better AUC accuracy. My asumption is that it was just by chance as there is no way to do a proper training on such an inbalanced set without stratifying the folds. We will proceed with a manual tunning of the models' parameters anyway to make a comparison."
      ],
      "metadata": {
        "id": "B_MpmFitDdpT"
      }
    },
    {
      "cell_type": "markdown",
      "source": [
        "**We try the cleaned comments with the default parameters used for our baseline best model and see almost no difference, a slight decrease in fact with 0.0001:**\n",
        "\n",
        "with cleaned comments and C=1, ngram_range=(1,1) - roc_auc:  0.9750820030803234\n",
        "micro avg       0.69      0.59      0.63     14498\n",
        "\n",
        "**Second thing we try to increase n-gram range of the tf-idf. n-gram parameter defines the number of consecutive words to be combined when creating the vectorising the text content. (1,1) is the default value which means only single words will be used**\n",
        "\n",
        "with not cleaned comments and C=1, ngram_range=(1,2) - roc_auc:  0.9734608599958284\n",
        "micro avg       0.68      0.59      0.63     14498\n",
        "\n",
        "with not cleaned comments and C=1, ngram_range=(2,2) - roc_auc:  0.8695484960212974\n",
        "micro avg       0.86      0.08      0.15     14498\n",
        "\n",
        "with not cleaned comments and C=1, ngram_range=(1,3) - roc_auc:  0.9721529511622968\n",
        "micro avg       0.66      0.61      0.63     14498\n",
        "\n",
        "**different values for LogisticRegression parameters\n",
        "start with C wich is the regularization strength parameter - smaller values specify stronger regularization.**\n",
        "\n",
        "with not cleaned comments and C=.5, ngram_range=(1,1) - roc_auc:  0.9739737234377395\n",
        "micro avg       0.73      0.53      0.61     14498\n",
        "\n",
        "with not cleaned comments and C=2, ngram_range=(1,1) - roc_auc:  0.9752981961370573\n",
        "micro avg       0.67      0.63      0.64     14498\n",
        "\n",
        "with not cleaned comments and C=3, ngram_range=(1,1) - roc_auc:  0.9749554220049567\n",
        "micro avg       0.65      0.64      0.65     14498\n",
        "\n",
        "with not cleaned comments and C=2.1, ngram_range=(1,1) - roc_auc:  0.9752756613723531\n",
        "micro avg       0.66      0.63      0.65     14498\n",
        "\n",
        "with not cleaned comments and C=1.9, ngram_range=(1,1) - roc_auc:  0.9753144853229717\n",
        "micro avg       0.67      0.62      0.64     14498\n",
        "\n",
        "**OUR BEST PARAMS**\n",
        "**with cleaned comments and C=1.5, ngram_range=(1,1) - roc_auc:  0.9753254734889681\n",
        "micro avg       0.67      0.62      0.64     14498**\n",
        "\n",
        "with not cleaned comments and C=1.4, ngram_range=(1,1) - roc_auc:  0.9753073320518185\n",
        "micro avg       0.67      0.62      0.64     14498\n",
        "\n",
        "**We select C=1.5 to be the best value and then we lastly try the penalty parameter of 'l1' as the default is 'l2'**\n",
        "\n",
        "with not cleaned comments and C=1.5, l1, ngram_range=(1,1) - roc_auc:  0.9725936377263187\n",
        "micro avg       0.67      0.62      0.64     14498"
      ],
      "metadata": {
        "id": "W-Q7ky7WDdpT"
      }
    },
    {
      "cell_type": "code",
      "source": [
        "# change parameters manually to get the results above\n",
        "LR_pipeline = Pipeline([('tfidf', TfidfVectorizer(stop_words='english', ngram_range=(1,2))),\n",
        "                       ('lr_model', OneVsRestClassifier(LogisticRegression(C=10), n_jobs=-1))])"
      ],
      "metadata": {
        "id": "Avl3zoV2DdpU"
      },
      "execution_count": null,
      "outputs": []
    },
    {
      "cell_type": "code",
      "source": [
        "run_pipeline(LR_pipeline, train_features_cleaned, train_labels, test_features_cleaned, test_labels)"
      ],
      "metadata": {
        "id": "Jw-26CJsDdpU"
      },
      "execution_count": null,
      "outputs": []
    },
    {
      "cell_type": "markdown",
      "source": [
        "## BERT pipeline HF"
      ],
      "metadata": {
        "id": "X426Dnm9DdpU"
      }
    },
    {
      "cell_type": "code",
      "source": [
        "train_set['label'] = train_set['toxic'].astype(str)+' '+train_set['severe_toxic'].astype(str)+' '+train_set['obscene'].astype(str)+' '+train_set['threat'].astype(str)+' '+train_set['insult'].astype(str)+' '+train_set['identity_hate'].astype(str)"
      ],
      "metadata": {
        "execution": {
          "iopub.status.busy": "2023-09-20T19:17:43.032584Z",
          "iopub.execute_input": "2023-09-20T19:17:43.032912Z",
          "iopub.status.idle": "2023-09-20T19:17:44.320540Z",
          "shell.execute_reply.started": "2023-09-20T19:17:43.032855Z",
          "shell.execute_reply": "2023-09-20T19:17:44.319688Z"
        },
        "trusted": true,
        "id": "Do6JCg-RDdpV"
      },
      "execution_count": 75,
      "outputs": []
    },
    {
      "cell_type": "code",
      "source": [
        "def str_list(list_):\n",
        "  list_ = list_.split(' ')\n",
        "  list_ = [int(i) for i in list_]\n",
        "  return list_\n",
        "train_set['label'] = train_set['label'].apply(lambda x: str_list(x))"
      ],
      "metadata": {
        "execution": {
          "iopub.status.busy": "2023-09-20T19:17:44.322471Z",
          "iopub.execute_input": "2023-09-20T19:17:44.322831Z",
          "iopub.status.idle": "2023-09-20T19:17:44.557309Z",
          "shell.execute_reply.started": "2023-09-20T19:17:44.322781Z",
          "shell.execute_reply": "2023-09-20T19:17:44.556258Z"
        },
        "trusted": true,
        "id": "jPMgSvRsDdpV"
      },
      "execution_count": 76,
      "outputs": []
    },
    {
      "cell_type": "code",
      "source": [
        "train_set"
      ],
      "metadata": {
        "execution": {
          "iopub.status.busy": "2023-09-20T19:17:44.559234Z",
          "iopub.execute_input": "2023-09-20T19:17:44.559874Z",
          "iopub.status.idle": "2023-09-20T19:17:44.586654Z",
          "shell.execute_reply.started": "2023-09-20T19:17:44.559820Z",
          "shell.execute_reply": "2023-09-20T19:17:44.585612Z"
        },
        "trusted": true,
        "colab": {
          "base_uri": "https://localhost:8080/",
          "height": 759
        },
        "id": "Tafs4j0gDdpV",
        "outputId": "1c78afcf-b708-482b-ee8b-77fe44eb0cd8"
      },
      "execution_count": 77,
      "outputs": [
        {
          "output_type": "execute_result",
          "data": {
            "text/plain": [
              "                      id                                       comment_text  \\\n",
              "0       0000997932d777bf  Explanation\\nWhy the edits made under my usern...   \n",
              "1       000103f0d9cfb60f  D'aww! He matches this background colour I'm s...   \n",
              "2       000113f07ec002fd  Hey man, I'm really not trying to edit war. It...   \n",
              "3       0001b41b1c6bb37e  \"\\nMore\\nI can't make any real suggestions on ...   \n",
              "4       0001d958c54c6e35  You, sir, are my hero. Any chance you remember...   \n",
              "...                  ...                                                ...   \n",
              "159566  ffe987279560d7ff  \":::::And for the second time of asking, when ...   \n",
              "159567  ffea4adeee384e90  You should be ashamed of yourself \\n\\nThat is ...   \n",
              "159568  ffee36eab5c267c9  Spitzer \\n\\nUmm, theres no actual article for ...   \n",
              "159569  fff125370e4aaaf3  And it looks like it was actually you who put ...   \n",
              "159570  fff46fc426af1f9a  \"\\nAnd ... I really don't think you understand...   \n",
              "\n",
              "        toxic  severe_toxic  obscene  threat  insult  identity_hate  \\\n",
              "0           0             0        0       0       0              0   \n",
              "1           0             0        0       0       0              0   \n",
              "2           0             0        0       0       0              0   \n",
              "3           0             0        0       0       0              0   \n",
              "4           0             0        0       0       0              0   \n",
              "...       ...           ...      ...     ...     ...            ...   \n",
              "159566      0             0        0       0       0              0   \n",
              "159567      0             0        0       0       0              0   \n",
              "159568      0             0        0       0       0              0   \n",
              "159569      0             0        0       0       0              0   \n",
              "159570      0             0        0       0       0              0   \n",
              "\n",
              "                     label  \n",
              "0       [0, 0, 0, 0, 0, 0]  \n",
              "1       [0, 0, 0, 0, 0, 0]  \n",
              "2       [0, 0, 0, 0, 0, 0]  \n",
              "3       [0, 0, 0, 0, 0, 0]  \n",
              "4       [0, 0, 0, 0, 0, 0]  \n",
              "...                    ...  \n",
              "159566  [0, 0, 0, 0, 0, 0]  \n",
              "159567  [0, 0, 0, 0, 0, 0]  \n",
              "159568  [0, 0, 0, 0, 0, 0]  \n",
              "159569  [0, 0, 0, 0, 0, 0]  \n",
              "159570  [0, 0, 0, 0, 0, 0]  \n",
              "\n",
              "[159571 rows x 9 columns]"
            ],
            "text/html": [
              "\n",
              "  <div id=\"df-8bfa0730-0cab-4d23-8568-37c1bbeb485d\" class=\"colab-df-container\">\n",
              "    <div>\n",
              "<style scoped>\n",
              "    .dataframe tbody tr th:only-of-type {\n",
              "        vertical-align: middle;\n",
              "    }\n",
              "\n",
              "    .dataframe tbody tr th {\n",
              "        vertical-align: top;\n",
              "    }\n",
              "\n",
              "    .dataframe thead th {\n",
              "        text-align: right;\n",
              "    }\n",
              "</style>\n",
              "<table border=\"1\" class=\"dataframe\">\n",
              "  <thead>\n",
              "    <tr style=\"text-align: right;\">\n",
              "      <th></th>\n",
              "      <th>id</th>\n",
              "      <th>comment_text</th>\n",
              "      <th>toxic</th>\n",
              "      <th>severe_toxic</th>\n",
              "      <th>obscene</th>\n",
              "      <th>threat</th>\n",
              "      <th>insult</th>\n",
              "      <th>identity_hate</th>\n",
              "      <th>label</th>\n",
              "    </tr>\n",
              "  </thead>\n",
              "  <tbody>\n",
              "    <tr>\n",
              "      <th>0</th>\n",
              "      <td>0000997932d777bf</td>\n",
              "      <td>Explanation\\nWhy the edits made under my usern...</td>\n",
              "      <td>0</td>\n",
              "      <td>0</td>\n",
              "      <td>0</td>\n",
              "      <td>0</td>\n",
              "      <td>0</td>\n",
              "      <td>0</td>\n",
              "      <td>[0, 0, 0, 0, 0, 0]</td>\n",
              "    </tr>\n",
              "    <tr>\n",
              "      <th>1</th>\n",
              "      <td>000103f0d9cfb60f</td>\n",
              "      <td>D'aww! He matches this background colour I'm s...</td>\n",
              "      <td>0</td>\n",
              "      <td>0</td>\n",
              "      <td>0</td>\n",
              "      <td>0</td>\n",
              "      <td>0</td>\n",
              "      <td>0</td>\n",
              "      <td>[0, 0, 0, 0, 0, 0]</td>\n",
              "    </tr>\n",
              "    <tr>\n",
              "      <th>2</th>\n",
              "      <td>000113f07ec002fd</td>\n",
              "      <td>Hey man, I'm really not trying to edit war. It...</td>\n",
              "      <td>0</td>\n",
              "      <td>0</td>\n",
              "      <td>0</td>\n",
              "      <td>0</td>\n",
              "      <td>0</td>\n",
              "      <td>0</td>\n",
              "      <td>[0, 0, 0, 0, 0, 0]</td>\n",
              "    </tr>\n",
              "    <tr>\n",
              "      <th>3</th>\n",
              "      <td>0001b41b1c6bb37e</td>\n",
              "      <td>\"\\nMore\\nI can't make any real suggestions on ...</td>\n",
              "      <td>0</td>\n",
              "      <td>0</td>\n",
              "      <td>0</td>\n",
              "      <td>0</td>\n",
              "      <td>0</td>\n",
              "      <td>0</td>\n",
              "      <td>[0, 0, 0, 0, 0, 0]</td>\n",
              "    </tr>\n",
              "    <tr>\n",
              "      <th>4</th>\n",
              "      <td>0001d958c54c6e35</td>\n",
              "      <td>You, sir, are my hero. Any chance you remember...</td>\n",
              "      <td>0</td>\n",
              "      <td>0</td>\n",
              "      <td>0</td>\n",
              "      <td>0</td>\n",
              "      <td>0</td>\n",
              "      <td>0</td>\n",
              "      <td>[0, 0, 0, 0, 0, 0]</td>\n",
              "    </tr>\n",
              "    <tr>\n",
              "      <th>...</th>\n",
              "      <td>...</td>\n",
              "      <td>...</td>\n",
              "      <td>...</td>\n",
              "      <td>...</td>\n",
              "      <td>...</td>\n",
              "      <td>...</td>\n",
              "      <td>...</td>\n",
              "      <td>...</td>\n",
              "      <td>...</td>\n",
              "    </tr>\n",
              "    <tr>\n",
              "      <th>159566</th>\n",
              "      <td>ffe987279560d7ff</td>\n",
              "      <td>\":::::And for the second time of asking, when ...</td>\n",
              "      <td>0</td>\n",
              "      <td>0</td>\n",
              "      <td>0</td>\n",
              "      <td>0</td>\n",
              "      <td>0</td>\n",
              "      <td>0</td>\n",
              "      <td>[0, 0, 0, 0, 0, 0]</td>\n",
              "    </tr>\n",
              "    <tr>\n",
              "      <th>159567</th>\n",
              "      <td>ffea4adeee384e90</td>\n",
              "      <td>You should be ashamed of yourself \\n\\nThat is ...</td>\n",
              "      <td>0</td>\n",
              "      <td>0</td>\n",
              "      <td>0</td>\n",
              "      <td>0</td>\n",
              "      <td>0</td>\n",
              "      <td>0</td>\n",
              "      <td>[0, 0, 0, 0, 0, 0]</td>\n",
              "    </tr>\n",
              "    <tr>\n",
              "      <th>159568</th>\n",
              "      <td>ffee36eab5c267c9</td>\n",
              "      <td>Spitzer \\n\\nUmm, theres no actual article for ...</td>\n",
              "      <td>0</td>\n",
              "      <td>0</td>\n",
              "      <td>0</td>\n",
              "      <td>0</td>\n",
              "      <td>0</td>\n",
              "      <td>0</td>\n",
              "      <td>[0, 0, 0, 0, 0, 0]</td>\n",
              "    </tr>\n",
              "    <tr>\n",
              "      <th>159569</th>\n",
              "      <td>fff125370e4aaaf3</td>\n",
              "      <td>And it looks like it was actually you who put ...</td>\n",
              "      <td>0</td>\n",
              "      <td>0</td>\n",
              "      <td>0</td>\n",
              "      <td>0</td>\n",
              "      <td>0</td>\n",
              "      <td>0</td>\n",
              "      <td>[0, 0, 0, 0, 0, 0]</td>\n",
              "    </tr>\n",
              "    <tr>\n",
              "      <th>159570</th>\n",
              "      <td>fff46fc426af1f9a</td>\n",
              "      <td>\"\\nAnd ... I really don't think you understand...</td>\n",
              "      <td>0</td>\n",
              "      <td>0</td>\n",
              "      <td>0</td>\n",
              "      <td>0</td>\n",
              "      <td>0</td>\n",
              "      <td>0</td>\n",
              "      <td>[0, 0, 0, 0, 0, 0]</td>\n",
              "    </tr>\n",
              "  </tbody>\n",
              "</table>\n",
              "<p>159571 rows × 9 columns</p>\n",
              "</div>\n",
              "    <div class=\"colab-df-buttons\">\n",
              "\n",
              "  <div class=\"colab-df-container\">\n",
              "    <button class=\"colab-df-convert\" onclick=\"convertToInteractive('df-8bfa0730-0cab-4d23-8568-37c1bbeb485d')\"\n",
              "            title=\"Convert this dataframe to an interactive table.\"\n",
              "            style=\"display:none;\">\n",
              "\n",
              "  <svg xmlns=\"http://www.w3.org/2000/svg\" height=\"24px\" viewBox=\"0 -960 960 960\">\n",
              "    <path d=\"M120-120v-720h720v720H120Zm60-500h600v-160H180v160Zm220 220h160v-160H400v160Zm0 220h160v-160H400v160ZM180-400h160v-160H180v160Zm440 0h160v-160H620v160ZM180-180h160v-160H180v160Zm440 0h160v-160H620v160Z\"/>\n",
              "  </svg>\n",
              "    </button>\n",
              "\n",
              "  <style>\n",
              "    .colab-df-container {\n",
              "      display:flex;\n",
              "      gap: 12px;\n",
              "    }\n",
              "\n",
              "    .colab-df-convert {\n",
              "      background-color: #E8F0FE;\n",
              "      border: none;\n",
              "      border-radius: 50%;\n",
              "      cursor: pointer;\n",
              "      display: none;\n",
              "      fill: #1967D2;\n",
              "      height: 32px;\n",
              "      padding: 0 0 0 0;\n",
              "      width: 32px;\n",
              "    }\n",
              "\n",
              "    .colab-df-convert:hover {\n",
              "      background-color: #E2EBFA;\n",
              "      box-shadow: 0px 1px 2px rgba(60, 64, 67, 0.3), 0px 1px 3px 1px rgba(60, 64, 67, 0.15);\n",
              "      fill: #174EA6;\n",
              "    }\n",
              "\n",
              "    .colab-df-buttons div {\n",
              "      margin-bottom: 4px;\n",
              "    }\n",
              "\n",
              "    [theme=dark] .colab-df-convert {\n",
              "      background-color: #3B4455;\n",
              "      fill: #D2E3FC;\n",
              "    }\n",
              "\n",
              "    [theme=dark] .colab-df-convert:hover {\n",
              "      background-color: #434B5C;\n",
              "      box-shadow: 0px 1px 3px 1px rgba(0, 0, 0, 0.15);\n",
              "      filter: drop-shadow(0px 1px 2px rgba(0, 0, 0, 0.3));\n",
              "      fill: #FFFFFF;\n",
              "    }\n",
              "  </style>\n",
              "\n",
              "    <script>\n",
              "      const buttonEl =\n",
              "        document.querySelector('#df-8bfa0730-0cab-4d23-8568-37c1bbeb485d button.colab-df-convert');\n",
              "      buttonEl.style.display =\n",
              "        google.colab.kernel.accessAllowed ? 'block' : 'none';\n",
              "\n",
              "      async function convertToInteractive(key) {\n",
              "        const element = document.querySelector('#df-8bfa0730-0cab-4d23-8568-37c1bbeb485d');\n",
              "        const dataTable =\n",
              "          await google.colab.kernel.invokeFunction('convertToInteractive',\n",
              "                                                    [key], {});\n",
              "        if (!dataTable) return;\n",
              "\n",
              "        const docLinkHtml = 'Like what you see? Visit the ' +\n",
              "          '<a target=\"_blank\" href=https://colab.research.google.com/notebooks/data_table.ipynb>data table notebook</a>'\n",
              "          + ' to learn more about interactive tables.';\n",
              "        element.innerHTML = '';\n",
              "        dataTable['output_type'] = 'display_data';\n",
              "        await google.colab.output.renderOutput(dataTable, element);\n",
              "        const docLink = document.createElement('div');\n",
              "        docLink.innerHTML = docLinkHtml;\n",
              "        element.appendChild(docLink);\n",
              "      }\n",
              "    </script>\n",
              "  </div>\n",
              "\n",
              "\n",
              "<div id=\"df-9f18eb5d-f699-4965-a51d-ce406338539e\">\n",
              "  <button class=\"colab-df-quickchart\" onclick=\"quickchart('df-9f18eb5d-f699-4965-a51d-ce406338539e')\"\n",
              "            title=\"Suggest charts.\"\n",
              "            style=\"display:none;\">\n",
              "\n",
              "<svg xmlns=\"http://www.w3.org/2000/svg\" height=\"24px\"viewBox=\"0 0 24 24\"\n",
              "     width=\"24px\">\n",
              "    <g>\n",
              "        <path d=\"M19 3H5c-1.1 0-2 .9-2 2v14c0 1.1.9 2 2 2h14c1.1 0 2-.9 2-2V5c0-1.1-.9-2-2-2zM9 17H7v-7h2v7zm4 0h-2V7h2v10zm4 0h-2v-4h2v4z\"/>\n",
              "    </g>\n",
              "</svg>\n",
              "  </button>\n",
              "\n",
              "<style>\n",
              "  .colab-df-quickchart {\n",
              "      --bg-color: #E8F0FE;\n",
              "      --fill-color: #1967D2;\n",
              "      --hover-bg-color: #E2EBFA;\n",
              "      --hover-fill-color: #174EA6;\n",
              "      --disabled-fill-color: #AAA;\n",
              "      --disabled-bg-color: #DDD;\n",
              "  }\n",
              "\n",
              "  [theme=dark] .colab-df-quickchart {\n",
              "      --bg-color: #3B4455;\n",
              "      --fill-color: #D2E3FC;\n",
              "      --hover-bg-color: #434B5C;\n",
              "      --hover-fill-color: #FFFFFF;\n",
              "      --disabled-bg-color: #3B4455;\n",
              "      --disabled-fill-color: #666;\n",
              "  }\n",
              "\n",
              "  .colab-df-quickchart {\n",
              "    background-color: var(--bg-color);\n",
              "    border: none;\n",
              "    border-radius: 50%;\n",
              "    cursor: pointer;\n",
              "    display: none;\n",
              "    fill: var(--fill-color);\n",
              "    height: 32px;\n",
              "    padding: 0;\n",
              "    width: 32px;\n",
              "  }\n",
              "\n",
              "  .colab-df-quickchart:hover {\n",
              "    background-color: var(--hover-bg-color);\n",
              "    box-shadow: 0 1px 2px rgba(60, 64, 67, 0.3), 0 1px 3px 1px rgba(60, 64, 67, 0.15);\n",
              "    fill: var(--button-hover-fill-color);\n",
              "  }\n",
              "\n",
              "  .colab-df-quickchart-complete:disabled,\n",
              "  .colab-df-quickchart-complete:disabled:hover {\n",
              "    background-color: var(--disabled-bg-color);\n",
              "    fill: var(--disabled-fill-color);\n",
              "    box-shadow: none;\n",
              "  }\n",
              "\n",
              "  .colab-df-spinner {\n",
              "    border: 2px solid var(--fill-color);\n",
              "    border-color: transparent;\n",
              "    border-bottom-color: var(--fill-color);\n",
              "    animation:\n",
              "      spin 1s steps(1) infinite;\n",
              "  }\n",
              "\n",
              "  @keyframes spin {\n",
              "    0% {\n",
              "      border-color: transparent;\n",
              "      border-bottom-color: var(--fill-color);\n",
              "      border-left-color: var(--fill-color);\n",
              "    }\n",
              "    20% {\n",
              "      border-color: transparent;\n",
              "      border-left-color: var(--fill-color);\n",
              "      border-top-color: var(--fill-color);\n",
              "    }\n",
              "    30% {\n",
              "      border-color: transparent;\n",
              "      border-left-color: var(--fill-color);\n",
              "      border-top-color: var(--fill-color);\n",
              "      border-right-color: var(--fill-color);\n",
              "    }\n",
              "    40% {\n",
              "      border-color: transparent;\n",
              "      border-right-color: var(--fill-color);\n",
              "      border-top-color: var(--fill-color);\n",
              "    }\n",
              "    60% {\n",
              "      border-color: transparent;\n",
              "      border-right-color: var(--fill-color);\n",
              "    }\n",
              "    80% {\n",
              "      border-color: transparent;\n",
              "      border-right-color: var(--fill-color);\n",
              "      border-bottom-color: var(--fill-color);\n",
              "    }\n",
              "    90% {\n",
              "      border-color: transparent;\n",
              "      border-bottom-color: var(--fill-color);\n",
              "    }\n",
              "  }\n",
              "</style>\n",
              "\n",
              "  <script>\n",
              "    async function quickchart(key) {\n",
              "      const quickchartButtonEl =\n",
              "        document.querySelector('#' + key + ' button');\n",
              "      quickchartButtonEl.disabled = true;  // To prevent multiple clicks.\n",
              "      quickchartButtonEl.classList.add('colab-df-spinner');\n",
              "      try {\n",
              "        const charts = await google.colab.kernel.invokeFunction(\n",
              "            'suggestCharts', [key], {});\n",
              "      } catch (error) {\n",
              "        console.error('Error during call to suggestCharts:', error);\n",
              "      }\n",
              "      quickchartButtonEl.classList.remove('colab-df-spinner');\n",
              "      quickchartButtonEl.classList.add('colab-df-quickchart-complete');\n",
              "    }\n",
              "    (() => {\n",
              "      let quickchartButtonEl =\n",
              "        document.querySelector('#df-9f18eb5d-f699-4965-a51d-ce406338539e button');\n",
              "      quickchartButtonEl.style.display =\n",
              "        google.colab.kernel.accessAllowed ? 'block' : 'none';\n",
              "    })();\n",
              "  </script>\n",
              "</div>\n",
              "    </div>\n",
              "  </div>\n"
            ]
          },
          "metadata": {},
          "execution_count": 77
        }
      ]
    },
    {
      "cell_type": "code",
      "source": [
        "train_set['label']"
      ],
      "metadata": {
        "execution": {
          "iopub.status.busy": "2023-09-20T19:17:56.127681Z",
          "iopub.execute_input": "2023-09-20T19:17:56.128029Z",
          "iopub.status.idle": "2023-09-20T19:17:56.138474Z",
          "shell.execute_reply.started": "2023-09-20T19:17:56.127968Z",
          "shell.execute_reply": "2023-09-20T19:17:56.137607Z"
        },
        "trusted": true,
        "colab": {
          "base_uri": "https://localhost:8080/"
        },
        "id": "_UrKaUViDdpW",
        "outputId": "29209de8-d7aa-4e30-e396-5ee124539575"
      },
      "execution_count": 78,
      "outputs": [
        {
          "output_type": "execute_result",
          "data": {
            "text/plain": [
              "0         [0, 0, 0, 0, 0, 0]\n",
              "1         [0, 0, 0, 0, 0, 0]\n",
              "2         [0, 0, 0, 0, 0, 0]\n",
              "3         [0, 0, 0, 0, 0, 0]\n",
              "4         [0, 0, 0, 0, 0, 0]\n",
              "                 ...        \n",
              "159566    [0, 0, 0, 0, 0, 0]\n",
              "159567    [0, 0, 0, 0, 0, 0]\n",
              "159568    [0, 0, 0, 0, 0, 0]\n",
              "159569    [0, 0, 0, 0, 0, 0]\n",
              "159570    [0, 0, 0, 0, 0, 0]\n",
              "Name: label, Length: 159571, dtype: object"
            ]
          },
          "metadata": {},
          "execution_count": 78
        }
      ]
    },
    {
      "cell_type": "markdown",
      "source": [
        "Плохо сводить всё к str и предсказывать что-то классификатором - может не быть нужного класса вообще в выборке (и скорее всего не будет!!!)"
      ],
      "metadata": {
        "id": "Um7eB1H1DdpW"
      }
    },
    {
      "cell_type": "code",
      "source": [
        "!pip install -q transformers"
      ],
      "metadata": {
        "execution": {
          "iopub.status.busy": "2023-09-20T19:21:13.592597Z",
          "iopub.execute_input": "2023-09-20T19:21:13.592984Z",
          "iopub.status.idle": "2023-09-20T19:21:49.293083Z",
          "shell.execute_reply.started": "2023-09-20T19:21:13.592913Z",
          "shell.execute_reply": "2023-09-20T19:21:49.292069Z"
        },
        "trusted": true,
        "colab": {
          "base_uri": "https://localhost:8080/"
        },
        "id": "kfjS0T7YDdpW",
        "outputId": "5f539388-1f60-4261-aa9b-26476c23d1ec"
      },
      "execution_count": 21,
      "outputs": [
        {
          "output_type": "stream",
          "name": "stdout",
          "text": [
            "\u001b[2K     \u001b[90m━━━━━━━━━━━━━━━━━━━━━━━━━━━━━━━━━━━━━━━━\u001b[0m \u001b[32m7.6/7.6 MB\u001b[0m \u001b[31m63.7 MB/s\u001b[0m eta \u001b[36m0:00:00\u001b[0m\n",
            "\u001b[2K     \u001b[90m━━━━━━━━━━━━━━━━━━━━━━━━━━━━━━━━━━━━━━\u001b[0m \u001b[32m294.9/294.9 kB\u001b[0m \u001b[31m36.1 MB/s\u001b[0m eta \u001b[36m0:00:00\u001b[0m\n",
            "\u001b[2K     \u001b[90m━━━━━━━━━━━━━━━━━━━━━━━━━━━━━━━━━━━━━━━━\u001b[0m \u001b[32m7.8/7.8 MB\u001b[0m \u001b[31m100.6 MB/s\u001b[0m eta \u001b[36m0:00:00\u001b[0m\n",
            "\u001b[2K     \u001b[90m━━━━━━━━━━━━━━━━━━━━━━━━━━━━━━━━━━━━━━━━\u001b[0m \u001b[32m1.3/1.3 MB\u001b[0m \u001b[31m81.2 MB/s\u001b[0m eta \u001b[36m0:00:00\u001b[0m\n",
            "\u001b[?25h"
          ]
        }
      ]
    },
    {
      "cell_type": "code",
      "source": [
        "import numpy as np\n",
        "import pandas as pd\n",
        "from sklearn import metrics\n",
        "import transformers\n",
        "import torch\n",
        "from torch.utils.data import Dataset, DataLoader, RandomSampler, SequentialSampler\n",
        "from transformers import BertTokenizer, BertModel, BertConfig\n",
        "from torch import cuda"
      ],
      "metadata": {
        "id": "8w_k6Y0JDdpX"
      },
      "execution_count": 22,
      "outputs": []
    },
    {
      "cell_type": "code",
      "source": [
        "# Sections of config\n",
        "\n",
        "# Defining some key variables that will be used later on in the training\n",
        "MAX_LEN = 200\n",
        "TRAIN_BATCH_SIZE = 8\n",
        "VALID_BATCH_SIZE = 4\n",
        "EPOCHS = 3\n",
        "LEARNING_RATE = 1e-05\n",
        "RANDOM_STATE = 200\n",
        "DEVICE=torch.device(\"cuda\") if torch.cuda.is_available() else torch.device(\"cpu\")\n",
        "tokenizer = BertTokenizer.from_pretrained('bert-base-uncased')"
      ],
      "metadata": {
        "execution": {
          "iopub.status.busy": "2023-09-20T19:20:34.889152Z",
          "iopub.execute_input": "2023-09-20T19:20:34.889533Z",
          "iopub.status.idle": "2023-09-20T19:20:34.905329Z",
          "shell.execute_reply.started": "2023-09-20T19:20:34.889471Z",
          "shell.execute_reply": "2023-09-20T19:20:34.903630Z"
        },
        "trusted": true,
        "id": "h0RE8e0pDdpX"
      },
      "execution_count": 31,
      "outputs": []
    },
    {
      "cell_type": "code",
      "source": [
        "class CustomDataset(Dataset):\n",
        "\n",
        "    def __init__(self, dataframe, tokenizer, max_len, text_col, labels_col):\n",
        "        self.tokenizer = tokenizer\n",
        "        self.data = dataframe\n",
        "        self.comment_text = self.data[text_col]\n",
        "        self.targets = self.data[labels_col]\n",
        "        self.max_len = max_len\n",
        "\n",
        "    def __len__(self):\n",
        "        return len(self.comment_text)\n",
        "\n",
        "    def __getitem__(self, index):\n",
        "        comment_text = str(self.comment_text[index])\n",
        "        comment_text = \" \".join(comment_text.split())\n",
        "\n",
        "        inputs = self.tokenizer.encode_plus(\n",
        "            comment_text,\n",
        "            None,\n",
        "            add_special_tokens=True,\n",
        "            max_length=self.max_len,\n",
        "            pad_to_max_length=True,\n",
        "            return_token_type_ids=True\n",
        "        )\n",
        "        ids = inputs['input_ids']\n",
        "        mask = inputs['attention_mask']\n",
        "        token_type_ids = inputs[\"token_type_ids\"]\n",
        "        return {\n",
        "            'ids': torch.tensor(ids, dtype=torch.long),\n",
        "            'mask': torch.tensor(mask, dtype=torch.long),\n",
        "            'token_type_ids': torch.tensor(token_type_ids, dtype=torch.long),\n",
        "            'targets': torch.tensor(self.targets[index], dtype=torch.float)\n",
        "        }"
      ],
      "metadata": {
        "id": "IkXwzCcnDdpX"
      },
      "execution_count": 82,
      "outputs": []
    },
    {
      "cell_type": "code",
      "source": [
        "train_set_small = train_set[:100]"
      ],
      "metadata": {
        "id": "OIW-irCSTsUK"
      },
      "execution_count": null,
      "outputs": []
    },
    {
      "cell_type": "code",
      "source": [
        "# Creating the dataset and dataloader for the neural network\n",
        "\n",
        "train_size = 0.8\n",
        "train_dataset=train_set_small.sample(frac=train_size,random_state=RANDOM_STATE)\n",
        "test_dataset=train_set_small.drop(train_dataset.index).reset_index(drop=True)\n",
        "train_dataset = train_dataset.reset_index(drop=True)\n",
        "\n",
        "\n",
        "print(\"FULL Dataset: {}\".format(train_set.shape))\n",
        "print(\"TRAIN Dataset: {}\".format(train_dataset.shape))\n",
        "print(\"TEST Dataset: {}\".format(test_dataset.shape))\n",
        "\n",
        "training_set = CustomDataset(train_dataset, tokenizer, MAX_LEN, text_col='comment_text', labels_col='label')\n",
        "testing_set = CustomDataset(test_dataset, tokenizer, MAX_LEN, text_col='comment_text', labels_col='label')"
      ],
      "metadata": {
        "colab": {
          "base_uri": "https://localhost:8080/"
        },
        "id": "89fkC61qDdpX",
        "outputId": "e8715fc7-9bfd-4462-af3d-85a340127e5e"
      },
      "execution_count": 83,
      "outputs": [
        {
          "output_type": "stream",
          "name": "stdout",
          "text": [
            "FULL Dataset: (159571, 9)\n",
            "TRAIN Dataset: (127657, 9)\n",
            "TEST Dataset: (31914, 9)\n"
          ]
        }
      ]
    },
    {
      "cell_type": "code",
      "source": [
        "# Creating the customized model, by adding a drop out and a dense layer on top of distil bert to get the final output for the model.\n",
        "\n",
        "class BERTClass(torch.nn.Module):\n",
        "    def __init__(self):\n",
        "        super(BERTClass, self).__init__()\n",
        "        self.l1 = transformers.BertModel.from_pretrained('bert-base-uncased')\n",
        "        self.l2 = torch.nn.Dropout(0.3)\n",
        "        self.l3 = torch.nn.Linear(768, 6)\n",
        "\n",
        "    def forward(self, ids, mask, token_type_ids):\n",
        "        _, output_1= self.l1(ids, attention_mask = mask, token_type_ids = token_type_ids, return_dict=False)\n",
        "        output_2 = self.l2(output_1)\n",
        "        output = self.l3(output_2)\n",
        "        return output\n",
        "\n",
        "model = BERTClass()\n",
        "model.to(DEVICE)"
      ],
      "metadata": {
        "colab": {
          "base_uri": "https://localhost:8080/"
        },
        "id": "wUXKquNaDdpX",
        "outputId": "40ef4327-e2c8-4415-c2d9-7af4692b3f12"
      },
      "execution_count": 32,
      "outputs": [
        {
          "output_type": "execute_result",
          "data": {
            "text/plain": [
              "BERTClass(\n",
              "  (l1): BertModel(\n",
              "    (embeddings): BertEmbeddings(\n",
              "      (word_embeddings): Embedding(30522, 768, padding_idx=0)\n",
              "      (position_embeddings): Embedding(512, 768)\n",
              "      (token_type_embeddings): Embedding(2, 768)\n",
              "      (LayerNorm): LayerNorm((768,), eps=1e-12, elementwise_affine=True)\n",
              "      (dropout): Dropout(p=0.1, inplace=False)\n",
              "    )\n",
              "    (encoder): BertEncoder(\n",
              "      (layer): ModuleList(\n",
              "        (0-11): 12 x BertLayer(\n",
              "          (attention): BertAttention(\n",
              "            (self): BertSelfAttention(\n",
              "              (query): Linear(in_features=768, out_features=768, bias=True)\n",
              "              (key): Linear(in_features=768, out_features=768, bias=True)\n",
              "              (value): Linear(in_features=768, out_features=768, bias=True)\n",
              "              (dropout): Dropout(p=0.1, inplace=False)\n",
              "            )\n",
              "            (output): BertSelfOutput(\n",
              "              (dense): Linear(in_features=768, out_features=768, bias=True)\n",
              "              (LayerNorm): LayerNorm((768,), eps=1e-12, elementwise_affine=True)\n",
              "              (dropout): Dropout(p=0.1, inplace=False)\n",
              "            )\n",
              "          )\n",
              "          (intermediate): BertIntermediate(\n",
              "            (dense): Linear(in_features=768, out_features=3072, bias=True)\n",
              "            (intermediate_act_fn): GELUActivation()\n",
              "          )\n",
              "          (output): BertOutput(\n",
              "            (dense): Linear(in_features=3072, out_features=768, bias=True)\n",
              "            (LayerNorm): LayerNorm((768,), eps=1e-12, elementwise_affine=True)\n",
              "            (dropout): Dropout(p=0.1, inplace=False)\n",
              "          )\n",
              "        )\n",
              "      )\n",
              "    )\n",
              "    (pooler): BertPooler(\n",
              "      (dense): Linear(in_features=768, out_features=768, bias=True)\n",
              "      (activation): Tanh()\n",
              "    )\n",
              "  )\n",
              "  (l2): Dropout(p=0.3, inplace=False)\n",
              "  (l3): Linear(in_features=768, out_features=6, bias=True)\n",
              ")"
            ]
          },
          "metadata": {},
          "execution_count": 32
        }
      ]
    },
    {
      "cell_type": "code",
      "source": [
        "def train(model, training_loader, optimizer):\n",
        "    model.train()\n",
        "    running_loss = 0.0\n",
        "    fin_targets=[]\n",
        "    fin_outputs=[]\n",
        "    processed_data = 0\n",
        "    for _, data in enumerate(training_loader, 0):\n",
        "        ids = data['ids'].to(DEVICE, dtype = torch.long)\n",
        "        mask = data['mask'].to(DEVICE, dtype = torch.long)\n",
        "        token_type_ids = data['token_type_ids'].to(DEVICE, dtype = torch.long)\n",
        "        targets = data['targets'].to(DEVICE, dtype = torch.float)\n",
        "\n",
        "        outputs = model(ids, mask, token_type_ids)\n",
        "\n",
        "        optimizer.zero_grad()\n",
        "        loss = loss_fn(outputs, targets)\n",
        "\n",
        "        optimizer.zero_grad()\n",
        "        loss.backward()\n",
        "        optimizer.step()\n",
        "        fin_targets.extend(targets.cpu().detach().numpy().tolist())\n",
        "        fin_outputs.extend(torch.sigmoid(outputs).cpu().detach().numpy().tolist())\n",
        "        running_loss += loss.item() * len(ids)\n",
        "        processed_data += len(ids)\n",
        "    train_loss = running_loss / processed_data\n",
        "    train_accuracy = metrics.accuracy_score(fin_targets, fin_outputs)\n",
        "    train_f1_score_micro = metrics.f1_score(fin_targets, fin_outputs, average='micro')\n",
        "    train_f1_score_macro = metrics.f1_score(fin_targets, fin_outputs, average='macro')\n",
        "    return train_loss, train_accuracy, train_f1_score_micro, train_f1_score_macro"
      ],
      "metadata": {
        "id": "AS3XMKCNDdpY"
      },
      "execution_count": 33,
      "outputs": []
    },
    {
      "cell_type": "code",
      "source": [
        "def validation(model, val_loader):\n",
        "    model.eval()\n",
        "    fin_targets=[]\n",
        "    fin_outputs=[]\n",
        "    running_loss = 0\n",
        "    processed_data = 0\n",
        "    with torch.no_grad():\n",
        "        for _, data in enumerate(val_loader, 0):\n",
        "            ids = data['ids'].to(DEVICE, dtype = torch.long)\n",
        "            mask = data['mask'].to(DEVICE, dtype = torch.long)\n",
        "            token_type_ids = data['token_type_ids'].to(DEVICE, dtype = torch.long)\n",
        "            targets = data['targets'].to(DEVICE, dtype = torch.float)\n",
        "            outputs = model(ids, mask, token_type_ids)\n",
        "            loss = loss_fn(outputs, targets)\n",
        "            running_loss += loss.item() * len(ids)\n",
        "            fin_targets.extend(targets.cpu().detach().numpy().tolist())\n",
        "            fin_outputs.extend(torch.sigmoid(outputs).cpu().detach().numpy().tolist())\n",
        "            processed_data += len(ids)\n",
        "    val_loss = running_loss / processed_data\n",
        "    val_accuracy = metrics.accuracy_score(targets, outputs)\n",
        "    val_f1_score_micro = metrics.f1_score(targets, outputs, average='micro')\n",
        "    val_f1_score_macro = metrics.f1_score(targets, outputs, average='macro')\n",
        "    return val_loss, val_accuracy, val_f1_score_micro, val_f1_score_macro"
      ],
      "metadata": {
        "id": "9JewiZHCDdpY"
      },
      "execution_count": 34,
      "outputs": []
    },
    {
      "cell_type": "code",
      "source": [
        "train_params = {'batch_size': TRAIN_BATCH_SIZE,\n",
        "                'shuffle': True,\n",
        "                'num_workers': 0\n",
        "                }\n",
        "\n",
        "test_params = {'batch_size': VALID_BATCH_SIZE,\n",
        "                'shuffle': True,\n",
        "                'num_workers': 0\n",
        "                }"
      ],
      "metadata": {
        "id": "3rz3WKG1DdpY"
      },
      "execution_count": 54,
      "outputs": []
    },
    {
      "cell_type": "code",
      "source": [
        "!pip install wandb"
      ],
      "metadata": {
        "colab": {
          "base_uri": "https://localhost:8080/"
        },
        "id": "evoXVy4pIYkn",
        "outputId": "26bb6a47-1b75-433d-ed47-ce3fc2522a2b"
      },
      "execution_count": 30,
      "outputs": [
        {
          "output_type": "stream",
          "name": "stdout",
          "text": [
            "Collecting wandb\n",
            "  Downloading wandb-0.15.10-py3-none-any.whl (2.1 MB)\n",
            "\u001b[2K     \u001b[90m━━━━━━━━━━━━━━━━━━━━━━━━━━━━━━━━━━━━━━━━\u001b[0m \u001b[32m2.1/2.1 MB\u001b[0m \u001b[31m16.0 MB/s\u001b[0m eta \u001b[36m0:00:00\u001b[0m\n",
            "\u001b[?25hRequirement already satisfied: Click!=8.0.0,>=7.1 in /usr/local/lib/python3.10/dist-packages (from wandb) (8.1.7)\n",
            "Collecting GitPython!=3.1.29,>=1.0.0 (from wandb)\n",
            "  Downloading GitPython-3.1.36-py3-none-any.whl (189 kB)\n",
            "\u001b[2K     \u001b[90m━━━━━━━━━━━━━━━━━━━━━━━━━━━━━━━━━━━━━━\u001b[0m \u001b[32m189.5/189.5 kB\u001b[0m \u001b[31m19.6 MB/s\u001b[0m eta \u001b[36m0:00:00\u001b[0m\n",
            "\u001b[?25hRequirement already satisfied: requests<3,>=2.0.0 in /usr/local/lib/python3.10/dist-packages (from wandb) (2.31.0)\n",
            "Requirement already satisfied: psutil>=5.0.0 in /usr/local/lib/python3.10/dist-packages (from wandb) (5.9.5)\n",
            "Collecting sentry-sdk>=1.0.0 (from wandb)\n",
            "  Downloading sentry_sdk-1.31.0-py2.py3-none-any.whl (224 kB)\n",
            "\u001b[2K     \u001b[90m━━━━━━━━━━━━━━━━━━━━━━━━━━━━━━━━━━━━━━\u001b[0m \u001b[32m224.8/224.8 kB\u001b[0m \u001b[31m27.5 MB/s\u001b[0m eta \u001b[36m0:00:00\u001b[0m\n",
            "\u001b[?25hCollecting docker-pycreds>=0.4.0 (from wandb)\n",
            "  Downloading docker_pycreds-0.4.0-py2.py3-none-any.whl (9.0 kB)\n",
            "Requirement already satisfied: PyYAML in /usr/local/lib/python3.10/dist-packages (from wandb) (6.0.1)\n",
            "Collecting pathtools (from wandb)\n",
            "  Downloading pathtools-0.1.2.tar.gz (11 kB)\n",
            "  Preparing metadata (setup.py) ... \u001b[?25l\u001b[?25hdone\n",
            "Collecting setproctitle (from wandb)\n",
            "  Downloading setproctitle-1.3.2-cp310-cp310-manylinux_2_5_x86_64.manylinux1_x86_64.manylinux_2_17_x86_64.manylinux2014_x86_64.whl (30 kB)\n",
            "Requirement already satisfied: setuptools in /usr/local/lib/python3.10/dist-packages (from wandb) (67.7.2)\n",
            "Requirement already satisfied: appdirs>=1.4.3 in /usr/local/lib/python3.10/dist-packages (from wandb) (1.4.4)\n",
            "Requirement already satisfied: protobuf!=4.21.0,<5,>=3.19.0 in /usr/local/lib/python3.10/dist-packages (from wandb) (3.20.3)\n",
            "Requirement already satisfied: six>=1.4.0 in /usr/local/lib/python3.10/dist-packages (from docker-pycreds>=0.4.0->wandb) (1.16.0)\n",
            "Collecting gitdb<5,>=4.0.1 (from GitPython!=3.1.29,>=1.0.0->wandb)\n",
            "  Downloading gitdb-4.0.10-py3-none-any.whl (62 kB)\n",
            "\u001b[2K     \u001b[90m━━━━━━━━━━━━━━━━━━━━━━━━━━━━━━━━━━━━━━━━\u001b[0m \u001b[32m62.7/62.7 kB\u001b[0m \u001b[31m8.2 MB/s\u001b[0m eta \u001b[36m0:00:00\u001b[0m\n",
            "\u001b[?25hRequirement already satisfied: charset-normalizer<4,>=2 in /usr/local/lib/python3.10/dist-packages (from requests<3,>=2.0.0->wandb) (3.2.0)\n",
            "Requirement already satisfied: idna<4,>=2.5 in /usr/local/lib/python3.10/dist-packages (from requests<3,>=2.0.0->wandb) (3.4)\n",
            "Requirement already satisfied: urllib3<3,>=1.21.1 in /usr/local/lib/python3.10/dist-packages (from requests<3,>=2.0.0->wandb) (2.0.4)\n",
            "Requirement already satisfied: certifi>=2017.4.17 in /usr/local/lib/python3.10/dist-packages (from requests<3,>=2.0.0->wandb) (2023.7.22)\n",
            "Collecting smmap<6,>=3.0.1 (from gitdb<5,>=4.0.1->GitPython!=3.1.29,>=1.0.0->wandb)\n",
            "  Downloading smmap-5.0.1-py3-none-any.whl (24 kB)\n",
            "Building wheels for collected packages: pathtools\n",
            "  Building wheel for pathtools (setup.py) ... \u001b[?25l\u001b[?25hdone\n",
            "  Created wheel for pathtools: filename=pathtools-0.1.2-py3-none-any.whl size=8791 sha256=8c6ec7181a5300f28a5c10db21d5c5d1a04b8af0629a487cc4825bb3458518ce\n",
            "  Stored in directory: /root/.cache/pip/wheels/e7/f3/22/152153d6eb222ee7a56ff8617d80ee5207207a8c00a7aab794\n",
            "Successfully built pathtools\n",
            "Installing collected packages: pathtools, smmap, setproctitle, sentry-sdk, docker-pycreds, gitdb, GitPython, wandb\n",
            "Successfully installed GitPython-3.1.36 docker-pycreds-0.4.0 gitdb-4.0.10 pathtools-0.1.2 sentry-sdk-1.31.0 setproctitle-1.3.2 smmap-5.0.1 wandb-0.15.10\n"
          ]
        }
      ]
    },
    {
      "cell_type": "code",
      "source": [
        "import wandb"
      ],
      "metadata": {
        "id": "jJfK_ovAM8HL"
      },
      "execution_count": 46,
      "outputs": []
    },
    {
      "cell_type": "code",
      "source": [
        "!wandb login"
      ],
      "metadata": {
        "colab": {
          "base_uri": "https://localhost:8080/"
        },
        "id": "NHpcPmNrNw1W",
        "outputId": "a7964fe0-3d4c-47c4-caf4-96e2dba9eda1"
      },
      "execution_count": 50,
      "outputs": [
        {
          "output_type": "stream",
          "name": "stdout",
          "text": [
            "\u001b[34m\u001b[1mwandb\u001b[0m: Logging into wandb.ai. (Learn how to deploy a W&B server locally: https://wandb.me/wandb-server)\n",
            "\u001b[34m\u001b[1mwandb\u001b[0m: You can find your API key in your browser here: https://wandb.ai/authorize\n",
            "\u001b[34m\u001b[1mwandb\u001b[0m: Paste an API key from your profile and hit enter, or press ctrl+c to quit: \n",
            "\u001b[34m\u001b[1mwandb\u001b[0m: Appending key for api.wandb.ai to your netrc file: /root/.netrc\n"
          ]
        }
      ]
    },
    {
      "cell_type": "code",
      "source": [
        "from tqdm import tqdm\n",
        "\n",
        "wandb.init(project='BERT_ml_test', name='test')\n",
        "wandb.watch(model)\n",
        "\n",
        "def loss_fn(outputs, targets):\n",
        "    return torch.nn.BCEWithLogitsLoss()(outputs, targets)\n",
        "\n",
        "optimizer = torch.optim.Adam(params =  model.parameters(), lr=LEARNING_RATE)\n",
        "\n",
        "for epoch in range(EPOCHS):\n",
        "    train_loader = DataLoader(training_set, **train_params)\n",
        "    val_loader = DataLoader(testing_set, **test_params)\n",
        "\n",
        "    train_loss, train_accuracy, train_f1_score_micro, train_f1_score_macro = train(model, train_loader, optimizer)\n",
        "    val_loss, val_accuracy, val_f1_score_micro, val_f1_score_macro = validation(model, val_loader)\n",
        "\n",
        "    wandb.log({\n",
        "            \"epoch\": epoch,\n",
        "            \"train_loss\": train_loss,\n",
        "            \"train_accuracy\": train_accuracy,\n",
        "            \"val_f1_micro\": val_f1_score_micro,\n",
        "            \"val_f1_macro\": val_f1_score_macro,\n",
        "            \"val_loss\": val_loss,\n",
        "            \"val_accuracy\": val_accuracy,\n",
        "            \"val_f1_micro\": val_f1_score_micro,\n",
        "            \"val_f1_macro\": val_f1_score_macro,\n",
        "            \"lr\": LEARNING_RATE #scheduler.get_last_lr()[0] if scheduler is not None else optimizer.param_groups[-1]['lr']\n",
        "        })\n",
        "\n",
        "    wandb.finish()"
      ],
      "metadata": {
        "id": "eVsKjxSbDdpY"
      },
      "execution_count": null,
      "outputs": []
    },
    {
      "cell_type": "code",
      "source": [],
      "metadata": {
        "id": "yQEQiFzuDdpY"
      },
      "execution_count": null,
      "outputs": []
    },
    {
      "cell_type": "code",
      "source": [],
      "metadata": {
        "id": "c_u-3JNZImkK"
      },
      "execution_count": null,
      "outputs": []
    },
    {
      "cell_type": "code",
      "source": [],
      "metadata": {
        "id": "Dzq7400LDdpY"
      },
      "execution_count": null,
      "outputs": []
    },
    {
      "cell_type": "code",
      "source": [],
      "metadata": {
        "id": "Eidtq-ilDdpY"
      },
      "execution_count": null,
      "outputs": []
    },
    {
      "cell_type": "code",
      "source": [],
      "metadata": {
        "id": "8aWtN55ODdpY"
      },
      "execution_count": null,
      "outputs": []
    },
    {
      "cell_type": "code",
      "source": [],
      "metadata": {
        "id": "EsW_4fEADdpZ"
      },
      "execution_count": null,
      "outputs": []
    },
    {
      "cell_type": "markdown",
      "source": [
        "## RESOURCES\n",
        "\n",
        "1. https://en.wikipedia.org/wiki/Multi-label_classification\n",
        "\n",
        "2. https://scikit-learn.org/stable/modules/multiclass.html\n",
        "\n",
        "3. https://medium.com/@saugata.paul1010/a-detailed-case-study-on-multi-label-classification-with-machine-learning-algorithms-and-72031742c9aa\n",
        "\n",
        "4. https://towardsdatascience.com/multi-label-text-classification-with-scikit-learn-30714b7819c5\n",
        "\n",
        "5. https://www.analyticsvidhya.com/blog/2017/08/introduction-to-multi-label-classification/\n"
      ],
      "metadata": {
        "id": "4V6nPxiADdpZ"
      }
    }
  ]
}